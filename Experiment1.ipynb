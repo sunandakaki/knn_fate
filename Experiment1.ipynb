{
  "nbformat": 4,
  "nbformat_minor": 0,
  "metadata": {
    "colab": {
      "provenance": []
    },
    "kernelspec": {
      "name": "python3",
      "display_name": "Python 3"
    },
    "language_info": {
      "name": "python"
    }
  },
  "cells": [
    {
      "cell_type": "markdown",
      "source": [
        "# **DA421: Fairness in AI Models**\n",
        "## Assignment - 01"
      ],
      "metadata": {
        "id": "x4ANiimjVgSM"
      }
    },
    {
      "cell_type": "markdown",
      "source": [
        "## **Experiment 1**\n",
        "\n",
        "### *Problem Statement*:\n",
        "\n",
        "Implement the *situation testing* using *k−nearest neighbor algorithm* on the *adult* (also known as *census-income*) dataset. Use the protected attribute as **race**. Implement both *DiscoverN* and\n",
        "*PreventionN* algorithms. On the pre-processed data, implement *C4.5*, *Naive Bayes* and *Logistic regression* classi-fiers and report accuracy obtained, t = 0.10 discrimination. Compare your results withthe results obtained in the paper as given in table 2 (title: k-NN as an Implementationof Situation Testing for Discrimination Discovery and Prevention, SIGKDD, 2011)."
      ],
      "metadata": {
        "id": "xlKEuZqXUdK6"
      }
    },
    {
      "cell_type": "markdown",
      "source": [
        "Dataset Information:\n",
        "\n",
        "| Variable Name     | Type     | Missing Values |\n",
        "| :---------------- | :------: | ----: |\n",
        "| age        |   Integer   | no |\n",
        "| workclass\t           |   Categorical   | yes |\n",
        "| fnlwgt    |  Integer   | no |\n",
        "| education |  Categorical   | no |\n",
        "| education-num |  Integer   | no |\n",
        "| marital-status |  Categorical   | no |\n",
        "| occupation |  Categorical   | yes |\n",
        "| relationship |  Categorical   | no |\n",
        "| race |  Categorical   | no |\n",
        "| sex |  Binary   | no |\n",
        "| capital-gain |  Integer   | no |\n",
        "| capital-loss |  Integer   | no |\n",
        "| hours-per-week |  Integer   | no |\n",
        "| native-country |  Categorical   | yes |\n",
        "| income |  Binary   | no |"
      ],
      "metadata": {
        "id": "_fCRbTziWZ9F"
      }
    },
    {
      "cell_type": "code",
      "source": [
        "# Import Necessary Libraries\n",
        "\n",
        "import pandas as pd\n",
        "import numpy as np\n",
        "import matplotlib.pyplot as plt\n",
        "from sklearn.preprocessing import LabelEncoder\n",
        "from sklearn.model_selection import train_test_split\n",
        "import scipy.spatial.distance as d"
      ],
      "metadata": {
        "id": "KpZSe_oblo4G"
      },
      "execution_count": 58,
      "outputs": []
    },
    {
      "cell_type": "code",
      "execution_count": 59,
      "metadata": {
        "id": "BbzJUVOcUcMD"
      },
      "outputs": [],
      "source": [
        "# Below is the code to fetch the data directly from the library.\n",
        "\n",
        "# !pip install ucimlrepo\n",
        "\n",
        "# from ucimlrepo import fetch_ucirepo\n",
        "\n",
        "# # fetch dataset\n",
        "# adult = fetch_ucirepo(id=2)\n",
        "\n",
        "# # data (as pandas dataframes)\n",
        "# X = adult.data.features\n",
        "# y = adult.data.targets\n",
        "\n",
        "# # metadata\n",
        "# print(adult.metadata)\n",
        "\n",
        "# # variable information\n",
        "# print(adult.variables)"
      ]
    },
    {
      "cell_type": "markdown",
      "source": [
        "## ***Data Preprocessing for kNN***\n",
        "\n",
        "\n"
      ],
      "metadata": {
        "id": "28MyaE3Mwf-e"
      }
    },
    {
      "cell_type": "code",
      "source": [
        "# Column names of the dataset.\n",
        "\n",
        "col_names = ['age','workclass','fnlwgt','education','education-num','marital-status','occupation',\\\n",
        "             'relationship','race','sex','capital-gain','capital-loss','hours-per-week','native-country','income']"
      ],
      "metadata": {
        "id": "ZU3_v75noQrM"
      },
      "execution_count": 60,
      "outputs": []
    },
    {
      "cell_type": "code",
      "source": [
        "# Read the data into the dataframes from the csv files.\n",
        "\n",
        "data = pd.read_csv('/content/drive/MyDrive/adult/adult.data', header=None, skipinitialspace=True,names = col_names)"
      ],
      "metadata": {
        "id": "vjVG4-1MmPwy"
      },
      "execution_count": 61,
      "outputs": []
    },
    {
      "cell_type": "code",
      "source": [
        "data.head()"
      ],
      "metadata": {
        "colab": {
          "base_uri": "https://localhost:8080/",
          "height": 293
        },
        "id": "mLN9RN87YDfd",
        "outputId": "1a11b632-abe5-4477-ccda-242376286837"
      },
      "execution_count": 62,
      "outputs": [
        {
          "output_type": "execute_result",
          "data": {
            "text/plain": [
              "   age         workclass  fnlwgt  education  education-num  \\\n",
              "0   39         State-gov   77516  Bachelors             13   \n",
              "1   50  Self-emp-not-inc   83311  Bachelors             13   \n",
              "2   38           Private  215646    HS-grad              9   \n",
              "3   53           Private  234721       11th              7   \n",
              "4   28           Private  338409  Bachelors             13   \n",
              "\n",
              "       marital-status         occupation   relationship   race     sex  \\\n",
              "0       Never-married       Adm-clerical  Not-in-family  White    Male   \n",
              "1  Married-civ-spouse    Exec-managerial        Husband  White    Male   \n",
              "2            Divorced  Handlers-cleaners  Not-in-family  White    Male   \n",
              "3  Married-civ-spouse  Handlers-cleaners        Husband  Black    Male   \n",
              "4  Married-civ-spouse     Prof-specialty           Wife  Black  Female   \n",
              "\n",
              "   capital-gain  capital-loss  hours-per-week native-country income  \n",
              "0          2174             0              40  United-States  <=50K  \n",
              "1             0             0              13  United-States  <=50K  \n",
              "2             0             0              40  United-States  <=50K  \n",
              "3             0             0              40  United-States  <=50K  \n",
              "4             0             0              40           Cuba  <=50K  "
            ],
            "text/html": [
              "\n",
              "  <div id=\"df-8d6d8699-33a1-4c07-b47e-9efa83990f9f\" class=\"colab-df-container\">\n",
              "    <div>\n",
              "<style scoped>\n",
              "    .dataframe tbody tr th:only-of-type {\n",
              "        vertical-align: middle;\n",
              "    }\n",
              "\n",
              "    .dataframe tbody tr th {\n",
              "        vertical-align: top;\n",
              "    }\n",
              "\n",
              "    .dataframe thead th {\n",
              "        text-align: right;\n",
              "    }\n",
              "</style>\n",
              "<table border=\"1\" class=\"dataframe\">\n",
              "  <thead>\n",
              "    <tr style=\"text-align: right;\">\n",
              "      <th></th>\n",
              "      <th>age</th>\n",
              "      <th>workclass</th>\n",
              "      <th>fnlwgt</th>\n",
              "      <th>education</th>\n",
              "      <th>education-num</th>\n",
              "      <th>marital-status</th>\n",
              "      <th>occupation</th>\n",
              "      <th>relationship</th>\n",
              "      <th>race</th>\n",
              "      <th>sex</th>\n",
              "      <th>capital-gain</th>\n",
              "      <th>capital-loss</th>\n",
              "      <th>hours-per-week</th>\n",
              "      <th>native-country</th>\n",
              "      <th>income</th>\n",
              "    </tr>\n",
              "  </thead>\n",
              "  <tbody>\n",
              "    <tr>\n",
              "      <th>0</th>\n",
              "      <td>39</td>\n",
              "      <td>State-gov</td>\n",
              "      <td>77516</td>\n",
              "      <td>Bachelors</td>\n",
              "      <td>13</td>\n",
              "      <td>Never-married</td>\n",
              "      <td>Adm-clerical</td>\n",
              "      <td>Not-in-family</td>\n",
              "      <td>White</td>\n",
              "      <td>Male</td>\n",
              "      <td>2174</td>\n",
              "      <td>0</td>\n",
              "      <td>40</td>\n",
              "      <td>United-States</td>\n",
              "      <td>&lt;=50K</td>\n",
              "    </tr>\n",
              "    <tr>\n",
              "      <th>1</th>\n",
              "      <td>50</td>\n",
              "      <td>Self-emp-not-inc</td>\n",
              "      <td>83311</td>\n",
              "      <td>Bachelors</td>\n",
              "      <td>13</td>\n",
              "      <td>Married-civ-spouse</td>\n",
              "      <td>Exec-managerial</td>\n",
              "      <td>Husband</td>\n",
              "      <td>White</td>\n",
              "      <td>Male</td>\n",
              "      <td>0</td>\n",
              "      <td>0</td>\n",
              "      <td>13</td>\n",
              "      <td>United-States</td>\n",
              "      <td>&lt;=50K</td>\n",
              "    </tr>\n",
              "    <tr>\n",
              "      <th>2</th>\n",
              "      <td>38</td>\n",
              "      <td>Private</td>\n",
              "      <td>215646</td>\n",
              "      <td>HS-grad</td>\n",
              "      <td>9</td>\n",
              "      <td>Divorced</td>\n",
              "      <td>Handlers-cleaners</td>\n",
              "      <td>Not-in-family</td>\n",
              "      <td>White</td>\n",
              "      <td>Male</td>\n",
              "      <td>0</td>\n",
              "      <td>0</td>\n",
              "      <td>40</td>\n",
              "      <td>United-States</td>\n",
              "      <td>&lt;=50K</td>\n",
              "    </tr>\n",
              "    <tr>\n",
              "      <th>3</th>\n",
              "      <td>53</td>\n",
              "      <td>Private</td>\n",
              "      <td>234721</td>\n",
              "      <td>11th</td>\n",
              "      <td>7</td>\n",
              "      <td>Married-civ-spouse</td>\n",
              "      <td>Handlers-cleaners</td>\n",
              "      <td>Husband</td>\n",
              "      <td>Black</td>\n",
              "      <td>Male</td>\n",
              "      <td>0</td>\n",
              "      <td>0</td>\n",
              "      <td>40</td>\n",
              "      <td>United-States</td>\n",
              "      <td>&lt;=50K</td>\n",
              "    </tr>\n",
              "    <tr>\n",
              "      <th>4</th>\n",
              "      <td>28</td>\n",
              "      <td>Private</td>\n",
              "      <td>338409</td>\n",
              "      <td>Bachelors</td>\n",
              "      <td>13</td>\n",
              "      <td>Married-civ-spouse</td>\n",
              "      <td>Prof-specialty</td>\n",
              "      <td>Wife</td>\n",
              "      <td>Black</td>\n",
              "      <td>Female</td>\n",
              "      <td>0</td>\n",
              "      <td>0</td>\n",
              "      <td>40</td>\n",
              "      <td>Cuba</td>\n",
              "      <td>&lt;=50K</td>\n",
              "    </tr>\n",
              "  </tbody>\n",
              "</table>\n",
              "</div>\n",
              "    <div class=\"colab-df-buttons\">\n",
              "\n",
              "  <div class=\"colab-df-container\">\n",
              "    <button class=\"colab-df-convert\" onclick=\"convertToInteractive('df-8d6d8699-33a1-4c07-b47e-9efa83990f9f')\"\n",
              "            title=\"Convert this dataframe to an interactive table.\"\n",
              "            style=\"display:none;\">\n",
              "\n",
              "  <svg xmlns=\"http://www.w3.org/2000/svg\" height=\"24px\" viewBox=\"0 -960 960 960\">\n",
              "    <path d=\"M120-120v-720h720v720H120Zm60-500h600v-160H180v160Zm220 220h160v-160H400v160Zm0 220h160v-160H400v160ZM180-400h160v-160H180v160Zm440 0h160v-160H620v160ZM180-180h160v-160H180v160Zm440 0h160v-160H620v160Z\"/>\n",
              "  </svg>\n",
              "    </button>\n",
              "\n",
              "  <style>\n",
              "    .colab-df-container {\n",
              "      display:flex;\n",
              "      gap: 12px;\n",
              "    }\n",
              "\n",
              "    .colab-df-convert {\n",
              "      background-color: #E8F0FE;\n",
              "      border: none;\n",
              "      border-radius: 50%;\n",
              "      cursor: pointer;\n",
              "      display: none;\n",
              "      fill: #1967D2;\n",
              "      height: 32px;\n",
              "      padding: 0 0 0 0;\n",
              "      width: 32px;\n",
              "    }\n",
              "\n",
              "    .colab-df-convert:hover {\n",
              "      background-color: #E2EBFA;\n",
              "      box-shadow: 0px 1px 2px rgba(60, 64, 67, 0.3), 0px 1px 3px 1px rgba(60, 64, 67, 0.15);\n",
              "      fill: #174EA6;\n",
              "    }\n",
              "\n",
              "    .colab-df-buttons div {\n",
              "      margin-bottom: 4px;\n",
              "    }\n",
              "\n",
              "    [theme=dark] .colab-df-convert {\n",
              "      background-color: #3B4455;\n",
              "      fill: #D2E3FC;\n",
              "    }\n",
              "\n",
              "    [theme=dark] .colab-df-convert:hover {\n",
              "      background-color: #434B5C;\n",
              "      box-shadow: 0px 1px 3px 1px rgba(0, 0, 0, 0.15);\n",
              "      filter: drop-shadow(0px 1px 2px rgba(0, 0, 0, 0.3));\n",
              "      fill: #FFFFFF;\n",
              "    }\n",
              "  </style>\n",
              "\n",
              "    <script>\n",
              "      const buttonEl =\n",
              "        document.querySelector('#df-8d6d8699-33a1-4c07-b47e-9efa83990f9f button.colab-df-convert');\n",
              "      buttonEl.style.display =\n",
              "        google.colab.kernel.accessAllowed ? 'block' : 'none';\n",
              "\n",
              "      async function convertToInteractive(key) {\n",
              "        const element = document.querySelector('#df-8d6d8699-33a1-4c07-b47e-9efa83990f9f');\n",
              "        const dataTable =\n",
              "          await google.colab.kernel.invokeFunction('convertToInteractive',\n",
              "                                                    [key], {});\n",
              "        if (!dataTable) return;\n",
              "\n",
              "        const docLinkHtml = 'Like what you see? Visit the ' +\n",
              "          '<a target=\"_blank\" href=https://colab.research.google.com/notebooks/data_table.ipynb>data table notebook</a>'\n",
              "          + ' to learn more about interactive tables.';\n",
              "        element.innerHTML = '';\n",
              "        dataTable['output_type'] = 'display_data';\n",
              "        await google.colab.output.renderOutput(dataTable, element);\n",
              "        const docLink = document.createElement('div');\n",
              "        docLink.innerHTML = docLinkHtml;\n",
              "        element.appendChild(docLink);\n",
              "      }\n",
              "    </script>\n",
              "  </div>\n",
              "\n",
              "\n",
              "<div id=\"df-fe1ecc10-2360-488a-912b-be53b749cb17\">\n",
              "  <button class=\"colab-df-quickchart\" onclick=\"quickchart('df-fe1ecc10-2360-488a-912b-be53b749cb17')\"\n",
              "            title=\"Suggest charts\"\n",
              "            style=\"display:none;\">\n",
              "\n",
              "<svg xmlns=\"http://www.w3.org/2000/svg\" height=\"24px\"viewBox=\"0 0 24 24\"\n",
              "     width=\"24px\">\n",
              "    <g>\n",
              "        <path d=\"M19 3H5c-1.1 0-2 .9-2 2v14c0 1.1.9 2 2 2h14c1.1 0 2-.9 2-2V5c0-1.1-.9-2-2-2zM9 17H7v-7h2v7zm4 0h-2V7h2v10zm4 0h-2v-4h2v4z\"/>\n",
              "    </g>\n",
              "</svg>\n",
              "  </button>\n",
              "\n",
              "<style>\n",
              "  .colab-df-quickchart {\n",
              "      --bg-color: #E8F0FE;\n",
              "      --fill-color: #1967D2;\n",
              "      --hover-bg-color: #E2EBFA;\n",
              "      --hover-fill-color: #174EA6;\n",
              "      --disabled-fill-color: #AAA;\n",
              "      --disabled-bg-color: #DDD;\n",
              "  }\n",
              "\n",
              "  [theme=dark] .colab-df-quickchart {\n",
              "      --bg-color: #3B4455;\n",
              "      --fill-color: #D2E3FC;\n",
              "      --hover-bg-color: #434B5C;\n",
              "      --hover-fill-color: #FFFFFF;\n",
              "      --disabled-bg-color: #3B4455;\n",
              "      --disabled-fill-color: #666;\n",
              "  }\n",
              "\n",
              "  .colab-df-quickchart {\n",
              "    background-color: var(--bg-color);\n",
              "    border: none;\n",
              "    border-radius: 50%;\n",
              "    cursor: pointer;\n",
              "    display: none;\n",
              "    fill: var(--fill-color);\n",
              "    height: 32px;\n",
              "    padding: 0;\n",
              "    width: 32px;\n",
              "  }\n",
              "\n",
              "  .colab-df-quickchart:hover {\n",
              "    background-color: var(--hover-bg-color);\n",
              "    box-shadow: 0 1px 2px rgba(60, 64, 67, 0.3), 0 1px 3px 1px rgba(60, 64, 67, 0.15);\n",
              "    fill: var(--button-hover-fill-color);\n",
              "  }\n",
              "\n",
              "  .colab-df-quickchart-complete:disabled,\n",
              "  .colab-df-quickchart-complete:disabled:hover {\n",
              "    background-color: var(--disabled-bg-color);\n",
              "    fill: var(--disabled-fill-color);\n",
              "    box-shadow: none;\n",
              "  }\n",
              "\n",
              "  .colab-df-spinner {\n",
              "    border: 2px solid var(--fill-color);\n",
              "    border-color: transparent;\n",
              "    border-bottom-color: var(--fill-color);\n",
              "    animation:\n",
              "      spin 1s steps(1) infinite;\n",
              "  }\n",
              "\n",
              "  @keyframes spin {\n",
              "    0% {\n",
              "      border-color: transparent;\n",
              "      border-bottom-color: var(--fill-color);\n",
              "      border-left-color: var(--fill-color);\n",
              "    }\n",
              "    20% {\n",
              "      border-color: transparent;\n",
              "      border-left-color: var(--fill-color);\n",
              "      border-top-color: var(--fill-color);\n",
              "    }\n",
              "    30% {\n",
              "      border-color: transparent;\n",
              "      border-left-color: var(--fill-color);\n",
              "      border-top-color: var(--fill-color);\n",
              "      border-right-color: var(--fill-color);\n",
              "    }\n",
              "    40% {\n",
              "      border-color: transparent;\n",
              "      border-right-color: var(--fill-color);\n",
              "      border-top-color: var(--fill-color);\n",
              "    }\n",
              "    60% {\n",
              "      border-color: transparent;\n",
              "      border-right-color: var(--fill-color);\n",
              "    }\n",
              "    80% {\n",
              "      border-color: transparent;\n",
              "      border-right-color: var(--fill-color);\n",
              "      border-bottom-color: var(--fill-color);\n",
              "    }\n",
              "    90% {\n",
              "      border-color: transparent;\n",
              "      border-bottom-color: var(--fill-color);\n",
              "    }\n",
              "  }\n",
              "</style>\n",
              "\n",
              "  <script>\n",
              "    async function quickchart(key) {\n",
              "      const quickchartButtonEl =\n",
              "        document.querySelector('#' + key + ' button');\n",
              "      quickchartButtonEl.disabled = true;  // To prevent multiple clicks.\n",
              "      quickchartButtonEl.classList.add('colab-df-spinner');\n",
              "      try {\n",
              "        const charts = await google.colab.kernel.invokeFunction(\n",
              "            'suggestCharts', [key], {});\n",
              "      } catch (error) {\n",
              "        console.error('Error during call to suggestCharts:', error);\n",
              "      }\n",
              "      quickchartButtonEl.classList.remove('colab-df-spinner');\n",
              "      quickchartButtonEl.classList.add('colab-df-quickchart-complete');\n",
              "    }\n",
              "    (() => {\n",
              "      let quickchartButtonEl =\n",
              "        document.querySelector('#df-fe1ecc10-2360-488a-912b-be53b749cb17 button');\n",
              "      quickchartButtonEl.style.display =\n",
              "        google.colab.kernel.accessAllowed ? 'block' : 'none';\n",
              "    })();\n",
              "  </script>\n",
              "</div>\n",
              "\n",
              "    </div>\n",
              "  </div>\n"
            ],
            "application/vnd.google.colaboratory.intrinsic+json": {
              "type": "dataframe",
              "variable_name": "data",
              "summary": "{\n  \"name\": \"data\",\n  \"rows\": 32561,\n  \"fields\": [\n    {\n      \"column\": \"age\",\n      \"properties\": {\n        \"dtype\": \"number\",\n        \"std\": 13,\n        \"min\": 17,\n        \"max\": 90,\n        \"num_unique_values\": 73,\n        \"samples\": [\n          28,\n          73,\n          35\n        ],\n        \"semantic_type\": \"\",\n        \"description\": \"\"\n      }\n    },\n    {\n      \"column\": \"workclass\",\n      \"properties\": {\n        \"dtype\": \"category\",\n        \"num_unique_values\": 9,\n        \"samples\": [\n          \"Without-pay\",\n          \"Self-emp-not-inc\",\n          \"?\"\n        ],\n        \"semantic_type\": \"\",\n        \"description\": \"\"\n      }\n    },\n    {\n      \"column\": \"fnlwgt\",\n      \"properties\": {\n        \"dtype\": \"number\",\n        \"std\": 105549,\n        \"min\": 12285,\n        \"max\": 1484705,\n        \"num_unique_values\": 21648,\n        \"samples\": [\n          128485,\n          469907,\n          235951\n        ],\n        \"semantic_type\": \"\",\n        \"description\": \"\"\n      }\n    },\n    {\n      \"column\": \"education\",\n      \"properties\": {\n        \"dtype\": \"category\",\n        \"num_unique_values\": 16,\n        \"samples\": [\n          \"Bachelors\",\n          \"HS-grad\",\n          \"Some-college\"\n        ],\n        \"semantic_type\": \"\",\n        \"description\": \"\"\n      }\n    },\n    {\n      \"column\": \"education-num\",\n      \"properties\": {\n        \"dtype\": \"number\",\n        \"std\": 2,\n        \"min\": 1,\n        \"max\": 16,\n        \"num_unique_values\": 16,\n        \"samples\": [\n          13,\n          9,\n          10\n        ],\n        \"semantic_type\": \"\",\n        \"description\": \"\"\n      }\n    },\n    {\n      \"column\": \"marital-status\",\n      \"properties\": {\n        \"dtype\": \"category\",\n        \"num_unique_values\": 7,\n        \"samples\": [\n          \"Never-married\",\n          \"Married-civ-spouse\",\n          \"Married-AF-spouse\"\n        ],\n        \"semantic_type\": \"\",\n        \"description\": \"\"\n      }\n    },\n    {\n      \"column\": \"occupation\",\n      \"properties\": {\n        \"dtype\": \"category\",\n        \"num_unique_values\": 15,\n        \"samples\": [\n          \"Machine-op-inspct\",\n          \"?\",\n          \"Adm-clerical\"\n        ],\n        \"semantic_type\": \"\",\n        \"description\": \"\"\n      }\n    },\n    {\n      \"column\": \"relationship\",\n      \"properties\": {\n        \"dtype\": \"category\",\n        \"num_unique_values\": 6,\n        \"samples\": [\n          \"Not-in-family\",\n          \"Husband\",\n          \"Other-relative\"\n        ],\n        \"semantic_type\": \"\",\n        \"description\": \"\"\n      }\n    },\n    {\n      \"column\": \"race\",\n      \"properties\": {\n        \"dtype\": \"category\",\n        \"num_unique_values\": 5,\n        \"samples\": [\n          \"Black\",\n          \"Other\",\n          \"Asian-Pac-Islander\"\n        ],\n        \"semantic_type\": \"\",\n        \"description\": \"\"\n      }\n    },\n    {\n      \"column\": \"sex\",\n      \"properties\": {\n        \"dtype\": \"category\",\n        \"num_unique_values\": 2,\n        \"samples\": [\n          \"Female\",\n          \"Male\"\n        ],\n        \"semantic_type\": \"\",\n        \"description\": \"\"\n      }\n    },\n    {\n      \"column\": \"capital-gain\",\n      \"properties\": {\n        \"dtype\": \"number\",\n        \"std\": 7385,\n        \"min\": 0,\n        \"max\": 99999,\n        \"num_unique_values\": 119,\n        \"samples\": [\n          3781,\n          15831\n        ],\n        \"semantic_type\": \"\",\n        \"description\": \"\"\n      }\n    },\n    {\n      \"column\": \"capital-loss\",\n      \"properties\": {\n        \"dtype\": \"number\",\n        \"std\": 402,\n        \"min\": 0,\n        \"max\": 4356,\n        \"num_unique_values\": 92,\n        \"samples\": [\n          419,\n          2051\n        ],\n        \"semantic_type\": \"\",\n        \"description\": \"\"\n      }\n    },\n    {\n      \"column\": \"hours-per-week\",\n      \"properties\": {\n        \"dtype\": \"number\",\n        \"std\": 12,\n        \"min\": 1,\n        \"max\": 99,\n        \"num_unique_values\": 94,\n        \"samples\": [\n          6,\n          22\n        ],\n        \"semantic_type\": \"\",\n        \"description\": \"\"\n      }\n    },\n    {\n      \"column\": \"native-country\",\n      \"properties\": {\n        \"dtype\": \"category\",\n        \"num_unique_values\": 42,\n        \"samples\": [\n          \"El-Salvador\",\n          \"Philippines\"\n        ],\n        \"semantic_type\": \"\",\n        \"description\": \"\"\n      }\n    },\n    {\n      \"column\": \"income\",\n      \"properties\": {\n        \"dtype\": \"category\",\n        \"num_unique_values\": 2,\n        \"samples\": [\n          \">50K\",\n          \"<=50K\"\n        ],\n        \"semantic_type\": \"\",\n        \"description\": \"\"\n      }\n    }\n  ]\n}"
            }
          },
          "metadata": {},
          "execution_count": 62
        }
      ]
    },
    {
      "cell_type": "code",
      "source": [
        "print('Adult data shape: ', data.shape)"
      ],
      "metadata": {
        "colab": {
          "base_uri": "https://localhost:8080/"
        },
        "id": "s5tEeefxoL1e",
        "outputId": "6e449633-cc62-4944-8385-93b05e0a7f88"
      },
      "execution_count": 63,
      "outputs": [
        {
          "output_type": "stream",
          "name": "stdout",
          "text": [
            "Adult data shape:  (32561, 15)\n"
          ]
        }
      ]
    },
    {
      "cell_type": "code",
      "source": [
        "data.info()"
      ],
      "metadata": {
        "id": "SzTYKNSu83Nk",
        "colab": {
          "base_uri": "https://localhost:8080/"
        },
        "outputId": "614d111c-3463-4b6a-e00c-f6a8a3bdf8bf"
      },
      "execution_count": 64,
      "outputs": [
        {
          "output_type": "stream",
          "name": "stdout",
          "text": [
            "<class 'pandas.core.frame.DataFrame'>\n",
            "RangeIndex: 32561 entries, 0 to 32560\n",
            "Data columns (total 15 columns):\n",
            " #   Column          Non-Null Count  Dtype \n",
            "---  ------          --------------  ----- \n",
            " 0   age             32561 non-null  int64 \n",
            " 1   workclass       32561 non-null  object\n",
            " 2   fnlwgt          32561 non-null  int64 \n",
            " 3   education       32561 non-null  object\n",
            " 4   education-num   32561 non-null  int64 \n",
            " 5   marital-status  32561 non-null  object\n",
            " 6   occupation      32561 non-null  object\n",
            " 7   relationship    32561 non-null  object\n",
            " 8   race            32561 non-null  object\n",
            " 9   sex             32561 non-null  object\n",
            " 10  capital-gain    32561 non-null  int64 \n",
            " 11  capital-loss    32561 non-null  int64 \n",
            " 12  hours-per-week  32561 non-null  int64 \n",
            " 13  native-country  32561 non-null  object\n",
            " 14  income          32561 non-null  object\n",
            "dtypes: int64(6), object(9)\n",
            "memory usage: 3.7+ MB\n"
          ]
        }
      ]
    },
    {
      "cell_type": "code",
      "source": [
        "# Sample 50% of the data from each demographic group of 'race' attribute.\n",
        "\n",
        "sampled_data, _ = train_test_split(data, test_size=0.5, stratify=data['race'], random_state=42)\n",
        "sampled_data.reset_index(drop=True, inplace=True)"
      ],
      "metadata": {
        "id": "KOwPQ3sjuZ4S"
      },
      "execution_count": 65,
      "outputs": []
    },
    {
      "cell_type": "code",
      "source": [
        "print('Sampled Adult data shape: ', sampled_data.shape)"
      ],
      "metadata": {
        "colab": {
          "base_uri": "https://localhost:8080/"
        },
        "id": "J8xKWNEOupSw",
        "outputId": "5120d6cc-e7ef-41e1-b1fe-5c8197826c75"
      },
      "execution_count": 66,
      "outputs": [
        {
          "output_type": "stream",
          "name": "stdout",
          "text": [
            "Sampled Adult data shape:  (16280, 15)\n"
          ]
        }
      ]
    },
    {
      "cell_type": "code",
      "source": [
        "sampled_data.info()"
      ],
      "metadata": {
        "colab": {
          "base_uri": "https://localhost:8080/"
        },
        "id": "wKEwU6vXqoyW",
        "outputId": "976dfc75-6f5f-459c-d4b8-11e8cef50f66"
      },
      "execution_count": 67,
      "outputs": [
        {
          "output_type": "stream",
          "name": "stdout",
          "text": [
            "<class 'pandas.core.frame.DataFrame'>\n",
            "RangeIndex: 16280 entries, 0 to 16279\n",
            "Data columns (total 15 columns):\n",
            " #   Column          Non-Null Count  Dtype \n",
            "---  ------          --------------  ----- \n",
            " 0   age             16280 non-null  int64 \n",
            " 1   workclass       16280 non-null  object\n",
            " 2   fnlwgt          16280 non-null  int64 \n",
            " 3   education       16280 non-null  object\n",
            " 4   education-num   16280 non-null  int64 \n",
            " 5   marital-status  16280 non-null  object\n",
            " 6   occupation      16280 non-null  object\n",
            " 7   relationship    16280 non-null  object\n",
            " 8   race            16280 non-null  object\n",
            " 9   sex             16280 non-null  object\n",
            " 10  capital-gain    16280 non-null  int64 \n",
            " 11  capital-loss    16280 non-null  int64 \n",
            " 12  hours-per-week  16280 non-null  int64 \n",
            " 13  native-country  16280 non-null  object\n",
            " 14  income          16280 non-null  object\n",
            "dtypes: int64(6), object(9)\n",
            "memory usage: 1.9+ MB\n"
          ]
        }
      ]
    },
    {
      "cell_type": "code",
      "source": [
        "# Categorize the attributes into interval-scaled, norminal and ordinal for distance calculation.\n",
        "\n",
        "interval_attr = ['age','fnlwgt','capital-gain', 'capital-loss', 'hours-per-week']\n",
        "nominal_attr = ['workclass','education','marital-status','occupation', 'relationship', 'sex','native-country']\n",
        "ordinal_attr = ['education-num']"
      ],
      "metadata": {
        "id": "6L9iFgSLh0bU"
      },
      "execution_count": 68,
      "outputs": []
    },
    {
      "cell_type": "code",
      "source": [
        "# Define map for each nominal attribute to encode the respective classes.\n",
        "\n",
        "map_workclass = {'Private': '0', 'Self-emp-not-inc': '1', 'Self-emp-inc': '2', 'Federal-gov': '3', 'Local-gov': '4',\n",
        "                 'State-gov': '5', 'Without-pay': '6','Never-worked':'7','?':'?'}\n",
        "\n",
        "map_education = {'HS-grad': 0, 'Some-college': 1, 'Bachelors': 2, 'Masters': 3, 'Assoc-voc': 4, '11th': 5,\n",
        "                 'Assoc-acdm': 6,'10th':7,'7th-8th':8,'Prof-school':9,'9th':10,'12th':11,'Doctorate':12,'5th-6th':13,\\\n",
        "                 '1st-4th':14,'Preschool':15}\n",
        "\n",
        "map_marital_status = {'Married-civ-spouse':0,'Never-married':1,'Divorced':2,'Separated':3,'Widowed':4,'Married-spouse-absent':5,\n",
        "                      'Married-AF-spouse':6}\n",
        "\n",
        "map_occupation = {'Prof-specialty': '0', 'Craft-repair': '1', 'Exec-managerial': '2', 'Adm-clerical': '3', 'Sales': '4',\n",
        "                  'Other-service': '5', 'Machine-op-inspct': '6', 'Transport-moving': '7', 'Handlers-cleaners': '8',\n",
        "                  'Farming-fishing': '9', 'Tech-support': '10', 'Protective-serv': '11', 'Priv-house-serv': '12',\n",
        "                  'Armed-Forces': '13', '?': '?'}\n",
        "\n",
        "map_relationship = {'Husband': 0, 'Not-in-family': 1, 'Own-child': 2, 'Unmarried': 3, 'Wife': 4, 'Other-relative': 5}\n",
        "\n",
        "map_sex = {'Male': 0, 'Female': 1}\n",
        "\n",
        "map_native_country = {'United-States': '0', 'Mexico': '1', 'Philippines': '2', 'Germany': '3', 'Canada': '4',\n",
        "                      'Puerto-Rico': '5', 'El-Salvador': '6', 'India': '7', 'Cuba': '8', 'England': '9',\n",
        "                      'Jamaica': '10', 'South': '11', 'China': '12', 'Italy': '13', 'Dominican-Republic': '14',\n",
        "                      'Vietnam': '15', 'Guatemala': '16', 'Japan': '17', 'Poland': '18', 'Columbia':'19','Taiwan':'20',\n",
        "                      'Haiti':'21','Iran':'22','Portugal':'23','Nicaragua':'24','Peru':'25','France':'26','Greece':'27',\n",
        "                      'Ecuador':'28','Ireland':'29','Hong':'30','Cambodia':'31','Trinadad&Tobago':'32','Laos':'33','Thailand':'34',\n",
        "                      'Yugoslavia':'35','Outlying-US(Guam-USVI-etc)':'36','Hungary':'37','Scotland':'38','Holand-Netherlands':'39',\n",
        "                      '?':'?'}\n",
        "\n",
        "# Map income variable.\n",
        "\n",
        "map_income = {'<=50K': 0, '>50K' :1}"
      ],
      "metadata": {
        "id": "Q2Z6mTJflB84"
      },
      "execution_count": 69,
      "outputs": []
    },
    {
      "cell_type": "code",
      "source": [
        "# Encode the classes of each nominal attribute using the defined maps.\n",
        "\n",
        "sampled_data['workclass'] = sampled_data['workclass'].map(map_workclass)\n",
        "sampled_data['education'] = sampled_data['education'].map(map_education)\n",
        "sampled_data['marital-status'] = sampled_data['marital-status'].map(map_marital_status)\n",
        "sampled_data['occupation'] = sampled_data['occupation'].map(map_occupation)\n",
        "sampled_data['relationship'] = sampled_data['relationship'].map(map_relationship)\n",
        "sampled_data['sex'] = sampled_data['sex'].map(map_sex)\n",
        "sampled_data['native-country'] = sampled_data['native-country'].map(map_native_country)\n",
        "sampled_data['income'] = sampled_data['income'].map(map_income)"
      ],
      "metadata": {
        "id": "TjiYZM1tnTOq"
      },
      "execution_count": 70,
      "outputs": []
    },
    {
      "cell_type": "code",
      "source": [
        "sampled_data.head()"
      ],
      "metadata": {
        "colab": {
          "base_uri": "https://localhost:8080/",
          "height": 223
        },
        "id": "dFOWqBLsnZcg",
        "outputId": "a65d4c81-dbf8-4db5-c17b-c5c219976b75"
      },
      "execution_count": 71,
      "outputs": [
        {
          "output_type": "execute_result",
          "data": {
            "text/plain": [
              "   age workclass  fnlwgt  education  education-num  marital-status occupation  \\\n",
              "0   40         0   70645         15              1               1          5   \n",
              "1   50         0   81548          0              9               0          0   \n",
              "2   46         0   28419          4             11               1          7   \n",
              "3   27         0  192236          2             13               1          0   \n",
              "4   64         0  477697          0              9               0          2   \n",
              "\n",
              "   relationship   race  sex  capital-gain  capital-loss  hours-per-week  \\\n",
              "0             1  White    1             0             0              20   \n",
              "1             0  White    0             0             0              40   \n",
              "2             1  White    0             0             0              50   \n",
              "3             1  White    0             0             0              45   \n",
              "4             0  White    0             0             0              16   \n",
              "\n",
              "  native-country  income  \n",
              "0              0       0  \n",
              "1              0       0  \n",
              "2              0       0  \n",
              "3              0       0  \n",
              "4              0       0  "
            ],
            "text/html": [
              "\n",
              "  <div id=\"df-2515e5c1-ee5c-4da2-a884-46ce45610b4d\" class=\"colab-df-container\">\n",
              "    <div>\n",
              "<style scoped>\n",
              "    .dataframe tbody tr th:only-of-type {\n",
              "        vertical-align: middle;\n",
              "    }\n",
              "\n",
              "    .dataframe tbody tr th {\n",
              "        vertical-align: top;\n",
              "    }\n",
              "\n",
              "    .dataframe thead th {\n",
              "        text-align: right;\n",
              "    }\n",
              "</style>\n",
              "<table border=\"1\" class=\"dataframe\">\n",
              "  <thead>\n",
              "    <tr style=\"text-align: right;\">\n",
              "      <th></th>\n",
              "      <th>age</th>\n",
              "      <th>workclass</th>\n",
              "      <th>fnlwgt</th>\n",
              "      <th>education</th>\n",
              "      <th>education-num</th>\n",
              "      <th>marital-status</th>\n",
              "      <th>occupation</th>\n",
              "      <th>relationship</th>\n",
              "      <th>race</th>\n",
              "      <th>sex</th>\n",
              "      <th>capital-gain</th>\n",
              "      <th>capital-loss</th>\n",
              "      <th>hours-per-week</th>\n",
              "      <th>native-country</th>\n",
              "      <th>income</th>\n",
              "    </tr>\n",
              "  </thead>\n",
              "  <tbody>\n",
              "    <tr>\n",
              "      <th>0</th>\n",
              "      <td>40</td>\n",
              "      <td>0</td>\n",
              "      <td>70645</td>\n",
              "      <td>15</td>\n",
              "      <td>1</td>\n",
              "      <td>1</td>\n",
              "      <td>5</td>\n",
              "      <td>1</td>\n",
              "      <td>White</td>\n",
              "      <td>1</td>\n",
              "      <td>0</td>\n",
              "      <td>0</td>\n",
              "      <td>20</td>\n",
              "      <td>0</td>\n",
              "      <td>0</td>\n",
              "    </tr>\n",
              "    <tr>\n",
              "      <th>1</th>\n",
              "      <td>50</td>\n",
              "      <td>0</td>\n",
              "      <td>81548</td>\n",
              "      <td>0</td>\n",
              "      <td>9</td>\n",
              "      <td>0</td>\n",
              "      <td>0</td>\n",
              "      <td>0</td>\n",
              "      <td>White</td>\n",
              "      <td>0</td>\n",
              "      <td>0</td>\n",
              "      <td>0</td>\n",
              "      <td>40</td>\n",
              "      <td>0</td>\n",
              "      <td>0</td>\n",
              "    </tr>\n",
              "    <tr>\n",
              "      <th>2</th>\n",
              "      <td>46</td>\n",
              "      <td>0</td>\n",
              "      <td>28419</td>\n",
              "      <td>4</td>\n",
              "      <td>11</td>\n",
              "      <td>1</td>\n",
              "      <td>7</td>\n",
              "      <td>1</td>\n",
              "      <td>White</td>\n",
              "      <td>0</td>\n",
              "      <td>0</td>\n",
              "      <td>0</td>\n",
              "      <td>50</td>\n",
              "      <td>0</td>\n",
              "      <td>0</td>\n",
              "    </tr>\n",
              "    <tr>\n",
              "      <th>3</th>\n",
              "      <td>27</td>\n",
              "      <td>0</td>\n",
              "      <td>192236</td>\n",
              "      <td>2</td>\n",
              "      <td>13</td>\n",
              "      <td>1</td>\n",
              "      <td>0</td>\n",
              "      <td>1</td>\n",
              "      <td>White</td>\n",
              "      <td>0</td>\n",
              "      <td>0</td>\n",
              "      <td>0</td>\n",
              "      <td>45</td>\n",
              "      <td>0</td>\n",
              "      <td>0</td>\n",
              "    </tr>\n",
              "    <tr>\n",
              "      <th>4</th>\n",
              "      <td>64</td>\n",
              "      <td>0</td>\n",
              "      <td>477697</td>\n",
              "      <td>0</td>\n",
              "      <td>9</td>\n",
              "      <td>0</td>\n",
              "      <td>2</td>\n",
              "      <td>0</td>\n",
              "      <td>White</td>\n",
              "      <td>0</td>\n",
              "      <td>0</td>\n",
              "      <td>0</td>\n",
              "      <td>16</td>\n",
              "      <td>0</td>\n",
              "      <td>0</td>\n",
              "    </tr>\n",
              "  </tbody>\n",
              "</table>\n",
              "</div>\n",
              "    <div class=\"colab-df-buttons\">\n",
              "\n",
              "  <div class=\"colab-df-container\">\n",
              "    <button class=\"colab-df-convert\" onclick=\"convertToInteractive('df-2515e5c1-ee5c-4da2-a884-46ce45610b4d')\"\n",
              "            title=\"Convert this dataframe to an interactive table.\"\n",
              "            style=\"display:none;\">\n",
              "\n",
              "  <svg xmlns=\"http://www.w3.org/2000/svg\" height=\"24px\" viewBox=\"0 -960 960 960\">\n",
              "    <path d=\"M120-120v-720h720v720H120Zm60-500h600v-160H180v160Zm220 220h160v-160H400v160Zm0 220h160v-160H400v160ZM180-400h160v-160H180v160Zm440 0h160v-160H620v160ZM180-180h160v-160H180v160Zm440 0h160v-160H620v160Z\"/>\n",
              "  </svg>\n",
              "    </button>\n",
              "\n",
              "  <style>\n",
              "    .colab-df-container {\n",
              "      display:flex;\n",
              "      gap: 12px;\n",
              "    }\n",
              "\n",
              "    .colab-df-convert {\n",
              "      background-color: #E8F0FE;\n",
              "      border: none;\n",
              "      border-radius: 50%;\n",
              "      cursor: pointer;\n",
              "      display: none;\n",
              "      fill: #1967D2;\n",
              "      height: 32px;\n",
              "      padding: 0 0 0 0;\n",
              "      width: 32px;\n",
              "    }\n",
              "\n",
              "    .colab-df-convert:hover {\n",
              "      background-color: #E2EBFA;\n",
              "      box-shadow: 0px 1px 2px rgba(60, 64, 67, 0.3), 0px 1px 3px 1px rgba(60, 64, 67, 0.15);\n",
              "      fill: #174EA6;\n",
              "    }\n",
              "\n",
              "    .colab-df-buttons div {\n",
              "      margin-bottom: 4px;\n",
              "    }\n",
              "\n",
              "    [theme=dark] .colab-df-convert {\n",
              "      background-color: #3B4455;\n",
              "      fill: #D2E3FC;\n",
              "    }\n",
              "\n",
              "    [theme=dark] .colab-df-convert:hover {\n",
              "      background-color: #434B5C;\n",
              "      box-shadow: 0px 1px 3px 1px rgba(0, 0, 0, 0.15);\n",
              "      filter: drop-shadow(0px 1px 2px rgba(0, 0, 0, 0.3));\n",
              "      fill: #FFFFFF;\n",
              "    }\n",
              "  </style>\n",
              "\n",
              "    <script>\n",
              "      const buttonEl =\n",
              "        document.querySelector('#df-2515e5c1-ee5c-4da2-a884-46ce45610b4d button.colab-df-convert');\n",
              "      buttonEl.style.display =\n",
              "        google.colab.kernel.accessAllowed ? 'block' : 'none';\n",
              "\n",
              "      async function convertToInteractive(key) {\n",
              "        const element = document.querySelector('#df-2515e5c1-ee5c-4da2-a884-46ce45610b4d');\n",
              "        const dataTable =\n",
              "          await google.colab.kernel.invokeFunction('convertToInteractive',\n",
              "                                                    [key], {});\n",
              "        if (!dataTable) return;\n",
              "\n",
              "        const docLinkHtml = 'Like what you see? Visit the ' +\n",
              "          '<a target=\"_blank\" href=https://colab.research.google.com/notebooks/data_table.ipynb>data table notebook</a>'\n",
              "          + ' to learn more about interactive tables.';\n",
              "        element.innerHTML = '';\n",
              "        dataTable['output_type'] = 'display_data';\n",
              "        await google.colab.output.renderOutput(dataTable, element);\n",
              "        const docLink = document.createElement('div');\n",
              "        docLink.innerHTML = docLinkHtml;\n",
              "        element.appendChild(docLink);\n",
              "      }\n",
              "    </script>\n",
              "  </div>\n",
              "\n",
              "\n",
              "<div id=\"df-e9262406-50dd-460b-b31c-823bc33c7fc1\">\n",
              "  <button class=\"colab-df-quickchart\" onclick=\"quickchart('df-e9262406-50dd-460b-b31c-823bc33c7fc1')\"\n",
              "            title=\"Suggest charts\"\n",
              "            style=\"display:none;\">\n",
              "\n",
              "<svg xmlns=\"http://www.w3.org/2000/svg\" height=\"24px\"viewBox=\"0 0 24 24\"\n",
              "     width=\"24px\">\n",
              "    <g>\n",
              "        <path d=\"M19 3H5c-1.1 0-2 .9-2 2v14c0 1.1.9 2 2 2h14c1.1 0 2-.9 2-2V5c0-1.1-.9-2-2-2zM9 17H7v-7h2v7zm4 0h-2V7h2v10zm4 0h-2v-4h2v4z\"/>\n",
              "    </g>\n",
              "</svg>\n",
              "  </button>\n",
              "\n",
              "<style>\n",
              "  .colab-df-quickchart {\n",
              "      --bg-color: #E8F0FE;\n",
              "      --fill-color: #1967D2;\n",
              "      --hover-bg-color: #E2EBFA;\n",
              "      --hover-fill-color: #174EA6;\n",
              "      --disabled-fill-color: #AAA;\n",
              "      --disabled-bg-color: #DDD;\n",
              "  }\n",
              "\n",
              "  [theme=dark] .colab-df-quickchart {\n",
              "      --bg-color: #3B4455;\n",
              "      --fill-color: #D2E3FC;\n",
              "      --hover-bg-color: #434B5C;\n",
              "      --hover-fill-color: #FFFFFF;\n",
              "      --disabled-bg-color: #3B4455;\n",
              "      --disabled-fill-color: #666;\n",
              "  }\n",
              "\n",
              "  .colab-df-quickchart {\n",
              "    background-color: var(--bg-color);\n",
              "    border: none;\n",
              "    border-radius: 50%;\n",
              "    cursor: pointer;\n",
              "    display: none;\n",
              "    fill: var(--fill-color);\n",
              "    height: 32px;\n",
              "    padding: 0;\n",
              "    width: 32px;\n",
              "  }\n",
              "\n",
              "  .colab-df-quickchart:hover {\n",
              "    background-color: var(--hover-bg-color);\n",
              "    box-shadow: 0 1px 2px rgba(60, 64, 67, 0.3), 0 1px 3px 1px rgba(60, 64, 67, 0.15);\n",
              "    fill: var(--button-hover-fill-color);\n",
              "  }\n",
              "\n",
              "  .colab-df-quickchart-complete:disabled,\n",
              "  .colab-df-quickchart-complete:disabled:hover {\n",
              "    background-color: var(--disabled-bg-color);\n",
              "    fill: var(--disabled-fill-color);\n",
              "    box-shadow: none;\n",
              "  }\n",
              "\n",
              "  .colab-df-spinner {\n",
              "    border: 2px solid var(--fill-color);\n",
              "    border-color: transparent;\n",
              "    border-bottom-color: var(--fill-color);\n",
              "    animation:\n",
              "      spin 1s steps(1) infinite;\n",
              "  }\n",
              "\n",
              "  @keyframes spin {\n",
              "    0% {\n",
              "      border-color: transparent;\n",
              "      border-bottom-color: var(--fill-color);\n",
              "      border-left-color: var(--fill-color);\n",
              "    }\n",
              "    20% {\n",
              "      border-color: transparent;\n",
              "      border-left-color: var(--fill-color);\n",
              "      border-top-color: var(--fill-color);\n",
              "    }\n",
              "    30% {\n",
              "      border-color: transparent;\n",
              "      border-left-color: var(--fill-color);\n",
              "      border-top-color: var(--fill-color);\n",
              "      border-right-color: var(--fill-color);\n",
              "    }\n",
              "    40% {\n",
              "      border-color: transparent;\n",
              "      border-right-color: var(--fill-color);\n",
              "      border-top-color: var(--fill-color);\n",
              "    }\n",
              "    60% {\n",
              "      border-color: transparent;\n",
              "      border-right-color: var(--fill-color);\n",
              "    }\n",
              "    80% {\n",
              "      border-color: transparent;\n",
              "      border-right-color: var(--fill-color);\n",
              "      border-bottom-color: var(--fill-color);\n",
              "    }\n",
              "    90% {\n",
              "      border-color: transparent;\n",
              "      border-bottom-color: var(--fill-color);\n",
              "    }\n",
              "  }\n",
              "</style>\n",
              "\n",
              "  <script>\n",
              "    async function quickchart(key) {\n",
              "      const quickchartButtonEl =\n",
              "        document.querySelector('#' + key + ' button');\n",
              "      quickchartButtonEl.disabled = true;  // To prevent multiple clicks.\n",
              "      quickchartButtonEl.classList.add('colab-df-spinner');\n",
              "      try {\n",
              "        const charts = await google.colab.kernel.invokeFunction(\n",
              "            'suggestCharts', [key], {});\n",
              "      } catch (error) {\n",
              "        console.error('Error during call to suggestCharts:', error);\n",
              "      }\n",
              "      quickchartButtonEl.classList.remove('colab-df-spinner');\n",
              "      quickchartButtonEl.classList.add('colab-df-quickchart-complete');\n",
              "    }\n",
              "    (() => {\n",
              "      let quickchartButtonEl =\n",
              "        document.querySelector('#df-e9262406-50dd-460b-b31c-823bc33c7fc1 button');\n",
              "      quickchartButtonEl.style.display =\n",
              "        google.colab.kernel.accessAllowed ? 'block' : 'none';\n",
              "    })();\n",
              "  </script>\n",
              "</div>\n",
              "\n",
              "    </div>\n",
              "  </div>\n"
            ],
            "application/vnd.google.colaboratory.intrinsic+json": {
              "type": "dataframe",
              "variable_name": "sampled_data",
              "summary": "{\n  \"name\": \"sampled_data\",\n  \"rows\": 16280,\n  \"fields\": [\n    {\n      \"column\": \"age\",\n      \"properties\": {\n        \"dtype\": \"number\",\n        \"std\": 13,\n        \"min\": 17,\n        \"max\": 90,\n        \"num_unique_values\": 72,\n        \"samples\": [\n          64,\n          71,\n          48\n        ],\n        \"semantic_type\": \"\",\n        \"description\": \"\"\n      }\n    },\n    {\n      \"column\": \"workclass\",\n      \"properties\": {\n        \"dtype\": \"category\",\n        \"num_unique_values\": 9,\n        \"samples\": [\n          \"7\",\n          \"1\",\n          \"3\"\n        ],\n        \"semantic_type\": \"\",\n        \"description\": \"\"\n      }\n    },\n    {\n      \"column\": \"fnlwgt\",\n      \"properties\": {\n        \"dtype\": \"number\",\n        \"std\": 105577,\n        \"min\": 12285,\n        \"max\": 1455435,\n        \"num_unique_values\": 12767,\n        \"samples\": [\n          319768,\n          301369,\n          155472\n        ],\n        \"semantic_type\": \"\",\n        \"description\": \"\"\n      }\n    },\n    {\n      \"column\": \"education\",\n      \"properties\": {\n        \"dtype\": \"number\",\n        \"std\": 3,\n        \"min\": 0,\n        \"max\": 15,\n        \"num_unique_values\": 16,\n        \"samples\": [\n          15,\n          0,\n          5\n        ],\n        \"semantic_type\": \"\",\n        \"description\": \"\"\n      }\n    },\n    {\n      \"column\": \"education-num\",\n      \"properties\": {\n        \"dtype\": \"number\",\n        \"std\": 2,\n        \"min\": 1,\n        \"max\": 16,\n        \"num_unique_values\": 16,\n        \"samples\": [\n          1,\n          9,\n          7\n        ],\n        \"semantic_type\": \"\",\n        \"description\": \"\"\n      }\n    },\n    {\n      \"column\": \"marital-status\",\n      \"properties\": {\n        \"dtype\": \"number\",\n        \"std\": 1,\n        \"min\": 0,\n        \"max\": 6,\n        \"num_unique_values\": 7,\n        \"samples\": [\n          1,\n          0,\n          5\n        ],\n        \"semantic_type\": \"\",\n        \"description\": \"\"\n      }\n    },\n    {\n      \"column\": \"occupation\",\n      \"properties\": {\n        \"dtype\": \"category\",\n        \"num_unique_values\": 15,\n        \"samples\": [\n          \"11\",\n          \"13\",\n          \"5\"\n        ],\n        \"semantic_type\": \"\",\n        \"description\": \"\"\n      }\n    },\n    {\n      \"column\": \"relationship\",\n      \"properties\": {\n        \"dtype\": \"number\",\n        \"std\": 1,\n        \"min\": 0,\n        \"max\": 5,\n        \"num_unique_values\": 6,\n        \"samples\": [\n          1,\n          0,\n          5\n        ],\n        \"semantic_type\": \"\",\n        \"description\": \"\"\n      }\n    },\n    {\n      \"column\": \"race\",\n      \"properties\": {\n        \"dtype\": \"category\",\n        \"num_unique_values\": 5,\n        \"samples\": [\n          \"Amer-Indian-Eskimo\",\n          \"Other\",\n          \"Asian-Pac-Islander\"\n        ],\n        \"semantic_type\": \"\",\n        \"description\": \"\"\n      }\n    },\n    {\n      \"column\": \"sex\",\n      \"properties\": {\n        \"dtype\": \"number\",\n        \"std\": 0,\n        \"min\": 0,\n        \"max\": 1,\n        \"num_unique_values\": 2,\n        \"samples\": [\n          0,\n          1\n        ],\n        \"semantic_type\": \"\",\n        \"description\": \"\"\n      }\n    },\n    {\n      \"column\": \"capital-gain\",\n      \"properties\": {\n        \"dtype\": \"number\",\n        \"std\": 7501,\n        \"min\": 0,\n        \"max\": 99999,\n        \"num_unique_values\": 105,\n        \"samples\": [\n          2597,\n          25124\n        ],\n        \"semantic_type\": \"\",\n        \"description\": \"\"\n      }\n    },\n    {\n      \"column\": \"capital-loss\",\n      \"properties\": {\n        \"dtype\": \"number\",\n        \"std\": 400,\n        \"min\": 0,\n        \"max\": 4356,\n        \"num_unique_values\": 78,\n        \"samples\": [\n          1380,\n          0\n        ],\n        \"semantic_type\": \"\",\n        \"description\": \"\"\n      }\n    },\n    {\n      \"column\": \"hours-per-week\",\n      \"properties\": {\n        \"dtype\": \"number\",\n        \"std\": 12,\n        \"min\": 1,\n        \"max\": 99,\n        \"num_unique_values\": 89,\n        \"samples\": [\n          33,\n          98\n        ],\n        \"semantic_type\": \"\",\n        \"description\": \"\"\n      }\n    },\n    {\n      \"column\": \"native-country\",\n      \"properties\": {\n        \"dtype\": \"category\",\n        \"num_unique_values\": 41,\n        \"samples\": [\n          \"19\",\n          \"7\"\n        ],\n        \"semantic_type\": \"\",\n        \"description\": \"\"\n      }\n    },\n    {\n      \"column\": \"income\",\n      \"properties\": {\n        \"dtype\": \"number\",\n        \"std\": 0,\n        \"min\": 0,\n        \"max\": 1,\n        \"num_unique_values\": 2,\n        \"samples\": [\n          1,\n          0\n        ],\n        \"semantic_type\": \"\",\n        \"description\": \"\"\n      }\n    }\n  ]\n}"
            }
          },
          "metadata": {},
          "execution_count": 71
        }
      ]
    },
    {
      "cell_type": "markdown",
      "source": [
        "## ***kNN for Situtation Testing***"
      ],
      "metadata": {
        "id": "5iRpmxqbwt8X"
      }
    },
    {
      "cell_type": "code",
      "source": [
        "# Below is the commented code for 2-loop kNN implementation of O(N^2) time complexity.\n",
        "\n",
        "# Function to calculate the interval-scaled and ordinal distance.\n",
        "# def int_ord_dist(z_x,z_y):\n",
        "#   dist = abs(z_x-z_y)\n",
        "#   return dist\n",
        "\n",
        "# Function to calculate the nominal distance.\n",
        "# def nominal_dist(x,y):\n",
        "#   if (x == '?') or (y == '?'):\n",
        "#     return 3\n",
        "#   elif x==y:\n",
        "#     return 0\n",
        "#   else:\n",
        "#     return 1\n",
        "\n",
        "# Function to calculate the total distance.\n",
        "# def knn_dist(r,s,interval_attr,nominal_attr,ordinal_attr):\n",
        "#   total_dist=0\n",
        "#   for i in interval_attr:\n",
        "#     total_dist += int_ord_dist(r[i],s[i])\n",
        "#   for i in nominal_attr:\n",
        "#     total_dist += nominal_dist(r[i],s[i])\n",
        "#   for i in ordinal_attr:\n",
        "#     total_dist += int_ord_dist(r[i],s[i])\n",
        "#   return total_dist\n",
        "\n",
        "# 2-loop kNN function.\n",
        "# def knn(R,k,interval_attr,nominal_attr,ordinal_attr):\n",
        "#   P_R = R[R['race'] == 'black']\n",
        "#   U_R = R[R['race'] != 'black']\n",
        "\n",
        "#   nominal_attr.remove('race')\n",
        "\n",
        "#   K1 = {}\n",
        "#   K2 = {}\n",
        "\n",
        "#   for ind, r in P_R.iterrows():\n",
        "#     temp_P_R = P_R.drop(ind)\n",
        "#     r_nn = []\n",
        "#     for j, s in temp_P_R.iterrows():\n",
        "#       dist_rs = knn_dist(r,s,interval_attr,nominal_attr,ordinal_attr)\n",
        "#       r_nn.append((j,dist_rs))\n",
        "#     sort_r_nn = sorted(r_nn, key=lambda x: x[1])\n",
        "#     nn_indices = [x[0] for x in sort_r_nn[:k]]\n",
        "#     K1[ind] = nn_indices\n",
        "#     print (ind , \" : \", nn_indices)\n",
        "\n",
        "#   for ind, r in P_R.iterrows():\n",
        "#     temp_U_R = U_R.drop(ind)\n",
        "#     r_nn = []\n",
        "#     for j, s in temp_U_R.iterrows():\n",
        "#       dist_rs = knn_dist(r,s,interval_attr,nominal_attr,ordinal_attr)\n",
        "#       r_nn.append((j,dist_rs))\n",
        "#     sort_r_nn = sorted(r_nn, key=lambda x: x[1])\n",
        "#     nn_indices = [x[0] for x in sort_r_nn[:k]]\n",
        "#     K2[ind] = nn_indices\n",
        "#     print (ind , \" : \", nn_indices)\n",
        "\n",
        "#   return K1, K2\n"
      ],
      "metadata": {
        "id": "nPnSOEXjAuYK"
      },
      "execution_count": 72,
      "outputs": []
    },
    {
      "cell_type": "code",
      "source": [
        "# Vectorized kNN Function.\n",
        "# https://adityassrana.github.io/blog/broadcasting/numpy/2020/07/24/Vectorization.html\n",
        "\n",
        "def knn(R,k,interval_attr,nominal_attr,ordinal_attr):\n",
        "  # split the data into protected and unprotected groups\n",
        "  P_R = R[R['race'] != 'White']\n",
        "  U_R = R[R['race'] == 'White']\n",
        "\n",
        "  # Store values of interval-scaled, nominal, ordinal attributes.\n",
        "  pr_interval_data = P_R[interval_attr].values\n",
        "  pr_nominal_data = P_R[nominal_attr].values\n",
        "  pr_ordinal_data = P_R[ordinal_attr].values\n",
        "\n",
        "  ur_interval_data = U_R[interval_attr].values\n",
        "  ur_nominal_data = U_R[nominal_attr].values\n",
        "  ur_ordinal_data = U_R[ordinal_attr].values\n",
        "\n",
        "  # Calculate interval-scaled distance using Manhattan/Cityblock metric.\n",
        "  interval_dist_pr = d.cdist(pr_interval_data, pr_interval_data, 'cityblock')\n",
        "  interval_dist_ur = d.cdist(pr_interval_data, ur_interval_data, 'cityblock')\n",
        "\n",
        "  # Calculate the nominal distance.\n",
        "  pr_con1 = (pr_nominal_data[:,np.newaxis,:] == '?') | (pr_nominal_data[np.newaxis,:,:] == '?')\n",
        "  pr_con2 = pr_nominal_data[:,np.newaxis,:] == pr_nominal_data[np.newaxis,:,:]\n",
        "\n",
        "  nominal_dist_pr = np.where(pr_con1, 3, np.where(pr_con2, 0, 1))\n",
        "\n",
        "  ur_con1 = (pr_nominal_data[:, np.newaxis, :] == '?') | (ur_nominal_data[np.newaxis, :, :] == '?')\n",
        "  ur_con2 = pr_nominal_data[:, np.newaxis, :] == ur_nominal_data[np.newaxis, :, :]\n",
        "\n",
        "  nominal_dist_ur = np.where(ur_con1, 3, np.where(ur_con2, 0, 1))\n",
        "\n",
        "  # Calculate ordinal distance using Manhattan/Cityblock metric.\n",
        "  ordinal_dist_pr = d.cdist(pr_ordinal_data, pr_ordinal_data, 'cityblock')\n",
        "  ordinal_dist_ur = d.cdist(pr_ordinal_data, ur_ordinal_data, 'cityblock')\n",
        "\n",
        "  # Calculate total distance.\n",
        "  total_dist_pr = interval_dist_pr + nominal_dist_pr.sum(axis=2) + ordinal_dist_pr\n",
        "  total_dist_ur = interval_dist_ur + nominal_dist_ur.sum(axis=2) + ordinal_dist_ur\n",
        "\n",
        "  # Obtain the kNN set in protected group (K1) and unprotected group (K2) for each tuple in protected group.\n",
        "  K1 = np.argsort(total_dist_pr, axis=1)[:, 1:k+1]\n",
        "  K2 = np.argsort(total_dist_ur, axis=1)[:, :k  ]\n",
        "\n",
        "  return K1, K2\n"
      ],
      "metadata": {
        "id": "kXH_SLrW4H7K"
      },
      "execution_count": 73,
      "outputs": []
    },
    {
      "cell_type": "code",
      "source": [
        "# Pre-process data for distance calculations.\n",
        "\n",
        "# Evaluate the z-scaled values for interval-scaled attributes.\n",
        "sampled_data_mean = sampled_data[interval_attr].mean(axis=0)\n",
        "sampled_data_std = sampled_data[interval_attr].std(axis=0)\n",
        "\n",
        "sampled_data[interval_attr] = (sampled_data[interval_attr] - sampled_data_mean)/sampled_data_std"
      ],
      "metadata": {
        "id": "IVDZZPm8EJo3"
      },
      "execution_count": 74,
      "outputs": []
    },
    {
      "cell_type": "code",
      "source": [
        "# Evaluate the scaled values for ordinal attribtues.\n",
        "\n",
        "sampled_ord_min = sampled_data[ordinal_attr].values.min()\n",
        "sampled_ord_max = sampled_data[ordinal_attr].values.max()\n",
        "\n",
        "sampled_data[ordinal_attr] = (sampled_data[ordinal_attr] - sampled_ord_min)/(sampled_ord_max - sampled_ord_min)"
      ],
      "metadata": {
        "id": "XB_8YM-QeKAn"
      },
      "execution_count": 75,
      "outputs": []
    },
    {
      "cell_type": "code",
      "source": [
        "# Pre-processed & sampled data.\n",
        "\n",
        "sampled_data.head()"
      ],
      "metadata": {
        "colab": {
          "base_uri": "https://localhost:8080/",
          "height": 223
        },
        "id": "F1alkrT6eAcg",
        "outputId": "320c4b71-6712-42ab-82c8-8efbb8cf9d65"
      },
      "execution_count": 76,
      "outputs": [
        {
          "output_type": "execute_result",
          "data": {
            "text/plain": [
              "        age workclass    fnlwgt  education  education-num  marital-status  \\\n",
              "0  0.099955         0 -1.126899         15       0.000000               1   \n",
              "1  0.834313         0 -1.023629          0       0.533333               0   \n",
              "2  0.540570         0 -1.526850          4       0.666667               1   \n",
              "3 -0.854711         0  0.024772          2       0.800000               1   \n",
              "4  1.862414         0  2.728568          0       0.533333               0   \n",
              "\n",
              "  occupation  relationship   race  sex  capital-gain  capital-loss  \\\n",
              "0          5             1  White    1     -0.148422     -0.214669   \n",
              "1          0             0  White    0     -0.148422     -0.214669   \n",
              "2          7             1  White    0     -0.148422     -0.214669   \n",
              "3          0             1  White    0     -0.148422     -0.214669   \n",
              "4          2             0  White    0     -0.148422     -0.214669   \n",
              "\n",
              "   hours-per-week native-country  income  \n",
              "0       -1.664474              0       0  \n",
              "1       -0.033506              0       0  \n",
              "2        0.781978              0       0  \n",
              "3        0.374236              0       0  \n",
              "4       -1.990668              0       0  "
            ],
            "text/html": [
              "\n",
              "  <div id=\"df-5908bcfd-5586-4dcb-8d9f-b662ecb52ec9\" class=\"colab-df-container\">\n",
              "    <div>\n",
              "<style scoped>\n",
              "    .dataframe tbody tr th:only-of-type {\n",
              "        vertical-align: middle;\n",
              "    }\n",
              "\n",
              "    .dataframe tbody tr th {\n",
              "        vertical-align: top;\n",
              "    }\n",
              "\n",
              "    .dataframe thead th {\n",
              "        text-align: right;\n",
              "    }\n",
              "</style>\n",
              "<table border=\"1\" class=\"dataframe\">\n",
              "  <thead>\n",
              "    <tr style=\"text-align: right;\">\n",
              "      <th></th>\n",
              "      <th>age</th>\n",
              "      <th>workclass</th>\n",
              "      <th>fnlwgt</th>\n",
              "      <th>education</th>\n",
              "      <th>education-num</th>\n",
              "      <th>marital-status</th>\n",
              "      <th>occupation</th>\n",
              "      <th>relationship</th>\n",
              "      <th>race</th>\n",
              "      <th>sex</th>\n",
              "      <th>capital-gain</th>\n",
              "      <th>capital-loss</th>\n",
              "      <th>hours-per-week</th>\n",
              "      <th>native-country</th>\n",
              "      <th>income</th>\n",
              "    </tr>\n",
              "  </thead>\n",
              "  <tbody>\n",
              "    <tr>\n",
              "      <th>0</th>\n",
              "      <td>0.099955</td>\n",
              "      <td>0</td>\n",
              "      <td>-1.126899</td>\n",
              "      <td>15</td>\n",
              "      <td>0.000000</td>\n",
              "      <td>1</td>\n",
              "      <td>5</td>\n",
              "      <td>1</td>\n",
              "      <td>White</td>\n",
              "      <td>1</td>\n",
              "      <td>-0.148422</td>\n",
              "      <td>-0.214669</td>\n",
              "      <td>-1.664474</td>\n",
              "      <td>0</td>\n",
              "      <td>0</td>\n",
              "    </tr>\n",
              "    <tr>\n",
              "      <th>1</th>\n",
              "      <td>0.834313</td>\n",
              "      <td>0</td>\n",
              "      <td>-1.023629</td>\n",
              "      <td>0</td>\n",
              "      <td>0.533333</td>\n",
              "      <td>0</td>\n",
              "      <td>0</td>\n",
              "      <td>0</td>\n",
              "      <td>White</td>\n",
              "      <td>0</td>\n",
              "      <td>-0.148422</td>\n",
              "      <td>-0.214669</td>\n",
              "      <td>-0.033506</td>\n",
              "      <td>0</td>\n",
              "      <td>0</td>\n",
              "    </tr>\n",
              "    <tr>\n",
              "      <th>2</th>\n",
              "      <td>0.540570</td>\n",
              "      <td>0</td>\n",
              "      <td>-1.526850</td>\n",
              "      <td>4</td>\n",
              "      <td>0.666667</td>\n",
              "      <td>1</td>\n",
              "      <td>7</td>\n",
              "      <td>1</td>\n",
              "      <td>White</td>\n",
              "      <td>0</td>\n",
              "      <td>-0.148422</td>\n",
              "      <td>-0.214669</td>\n",
              "      <td>0.781978</td>\n",
              "      <td>0</td>\n",
              "      <td>0</td>\n",
              "    </tr>\n",
              "    <tr>\n",
              "      <th>3</th>\n",
              "      <td>-0.854711</td>\n",
              "      <td>0</td>\n",
              "      <td>0.024772</td>\n",
              "      <td>2</td>\n",
              "      <td>0.800000</td>\n",
              "      <td>1</td>\n",
              "      <td>0</td>\n",
              "      <td>1</td>\n",
              "      <td>White</td>\n",
              "      <td>0</td>\n",
              "      <td>-0.148422</td>\n",
              "      <td>-0.214669</td>\n",
              "      <td>0.374236</td>\n",
              "      <td>0</td>\n",
              "      <td>0</td>\n",
              "    </tr>\n",
              "    <tr>\n",
              "      <th>4</th>\n",
              "      <td>1.862414</td>\n",
              "      <td>0</td>\n",
              "      <td>2.728568</td>\n",
              "      <td>0</td>\n",
              "      <td>0.533333</td>\n",
              "      <td>0</td>\n",
              "      <td>2</td>\n",
              "      <td>0</td>\n",
              "      <td>White</td>\n",
              "      <td>0</td>\n",
              "      <td>-0.148422</td>\n",
              "      <td>-0.214669</td>\n",
              "      <td>-1.990668</td>\n",
              "      <td>0</td>\n",
              "      <td>0</td>\n",
              "    </tr>\n",
              "  </tbody>\n",
              "</table>\n",
              "</div>\n",
              "    <div class=\"colab-df-buttons\">\n",
              "\n",
              "  <div class=\"colab-df-container\">\n",
              "    <button class=\"colab-df-convert\" onclick=\"convertToInteractive('df-5908bcfd-5586-4dcb-8d9f-b662ecb52ec9')\"\n",
              "            title=\"Convert this dataframe to an interactive table.\"\n",
              "            style=\"display:none;\">\n",
              "\n",
              "  <svg xmlns=\"http://www.w3.org/2000/svg\" height=\"24px\" viewBox=\"0 -960 960 960\">\n",
              "    <path d=\"M120-120v-720h720v720H120Zm60-500h600v-160H180v160Zm220 220h160v-160H400v160Zm0 220h160v-160H400v160ZM180-400h160v-160H180v160Zm440 0h160v-160H620v160ZM180-180h160v-160H180v160Zm440 0h160v-160H620v160Z\"/>\n",
              "  </svg>\n",
              "    </button>\n",
              "\n",
              "  <style>\n",
              "    .colab-df-container {\n",
              "      display:flex;\n",
              "      gap: 12px;\n",
              "    }\n",
              "\n",
              "    .colab-df-convert {\n",
              "      background-color: #E8F0FE;\n",
              "      border: none;\n",
              "      border-radius: 50%;\n",
              "      cursor: pointer;\n",
              "      display: none;\n",
              "      fill: #1967D2;\n",
              "      height: 32px;\n",
              "      padding: 0 0 0 0;\n",
              "      width: 32px;\n",
              "    }\n",
              "\n",
              "    .colab-df-convert:hover {\n",
              "      background-color: #E2EBFA;\n",
              "      box-shadow: 0px 1px 2px rgba(60, 64, 67, 0.3), 0px 1px 3px 1px rgba(60, 64, 67, 0.15);\n",
              "      fill: #174EA6;\n",
              "    }\n",
              "\n",
              "    .colab-df-buttons div {\n",
              "      margin-bottom: 4px;\n",
              "    }\n",
              "\n",
              "    [theme=dark] .colab-df-convert {\n",
              "      background-color: #3B4455;\n",
              "      fill: #D2E3FC;\n",
              "    }\n",
              "\n",
              "    [theme=dark] .colab-df-convert:hover {\n",
              "      background-color: #434B5C;\n",
              "      box-shadow: 0px 1px 3px 1px rgba(0, 0, 0, 0.15);\n",
              "      filter: drop-shadow(0px 1px 2px rgba(0, 0, 0, 0.3));\n",
              "      fill: #FFFFFF;\n",
              "    }\n",
              "  </style>\n",
              "\n",
              "    <script>\n",
              "      const buttonEl =\n",
              "        document.querySelector('#df-5908bcfd-5586-4dcb-8d9f-b662ecb52ec9 button.colab-df-convert');\n",
              "      buttonEl.style.display =\n",
              "        google.colab.kernel.accessAllowed ? 'block' : 'none';\n",
              "\n",
              "      async function convertToInteractive(key) {\n",
              "        const element = document.querySelector('#df-5908bcfd-5586-4dcb-8d9f-b662ecb52ec9');\n",
              "        const dataTable =\n",
              "          await google.colab.kernel.invokeFunction('convertToInteractive',\n",
              "                                                    [key], {});\n",
              "        if (!dataTable) return;\n",
              "\n",
              "        const docLinkHtml = 'Like what you see? Visit the ' +\n",
              "          '<a target=\"_blank\" href=https://colab.research.google.com/notebooks/data_table.ipynb>data table notebook</a>'\n",
              "          + ' to learn more about interactive tables.';\n",
              "        element.innerHTML = '';\n",
              "        dataTable['output_type'] = 'display_data';\n",
              "        await google.colab.output.renderOutput(dataTable, element);\n",
              "        const docLink = document.createElement('div');\n",
              "        docLink.innerHTML = docLinkHtml;\n",
              "        element.appendChild(docLink);\n",
              "      }\n",
              "    </script>\n",
              "  </div>\n",
              "\n",
              "\n",
              "<div id=\"df-f6efe854-adfe-4b54-919c-4f70e342d01d\">\n",
              "  <button class=\"colab-df-quickchart\" onclick=\"quickchart('df-f6efe854-adfe-4b54-919c-4f70e342d01d')\"\n",
              "            title=\"Suggest charts\"\n",
              "            style=\"display:none;\">\n",
              "\n",
              "<svg xmlns=\"http://www.w3.org/2000/svg\" height=\"24px\"viewBox=\"0 0 24 24\"\n",
              "     width=\"24px\">\n",
              "    <g>\n",
              "        <path d=\"M19 3H5c-1.1 0-2 .9-2 2v14c0 1.1.9 2 2 2h14c1.1 0 2-.9 2-2V5c0-1.1-.9-2-2-2zM9 17H7v-7h2v7zm4 0h-2V7h2v10zm4 0h-2v-4h2v4z\"/>\n",
              "    </g>\n",
              "</svg>\n",
              "  </button>\n",
              "\n",
              "<style>\n",
              "  .colab-df-quickchart {\n",
              "      --bg-color: #E8F0FE;\n",
              "      --fill-color: #1967D2;\n",
              "      --hover-bg-color: #E2EBFA;\n",
              "      --hover-fill-color: #174EA6;\n",
              "      --disabled-fill-color: #AAA;\n",
              "      --disabled-bg-color: #DDD;\n",
              "  }\n",
              "\n",
              "  [theme=dark] .colab-df-quickchart {\n",
              "      --bg-color: #3B4455;\n",
              "      --fill-color: #D2E3FC;\n",
              "      --hover-bg-color: #434B5C;\n",
              "      --hover-fill-color: #FFFFFF;\n",
              "      --disabled-bg-color: #3B4455;\n",
              "      --disabled-fill-color: #666;\n",
              "  }\n",
              "\n",
              "  .colab-df-quickchart {\n",
              "    background-color: var(--bg-color);\n",
              "    border: none;\n",
              "    border-radius: 50%;\n",
              "    cursor: pointer;\n",
              "    display: none;\n",
              "    fill: var(--fill-color);\n",
              "    height: 32px;\n",
              "    padding: 0;\n",
              "    width: 32px;\n",
              "  }\n",
              "\n",
              "  .colab-df-quickchart:hover {\n",
              "    background-color: var(--hover-bg-color);\n",
              "    box-shadow: 0 1px 2px rgba(60, 64, 67, 0.3), 0 1px 3px 1px rgba(60, 64, 67, 0.15);\n",
              "    fill: var(--button-hover-fill-color);\n",
              "  }\n",
              "\n",
              "  .colab-df-quickchart-complete:disabled,\n",
              "  .colab-df-quickchart-complete:disabled:hover {\n",
              "    background-color: var(--disabled-bg-color);\n",
              "    fill: var(--disabled-fill-color);\n",
              "    box-shadow: none;\n",
              "  }\n",
              "\n",
              "  .colab-df-spinner {\n",
              "    border: 2px solid var(--fill-color);\n",
              "    border-color: transparent;\n",
              "    border-bottom-color: var(--fill-color);\n",
              "    animation:\n",
              "      spin 1s steps(1) infinite;\n",
              "  }\n",
              "\n",
              "  @keyframes spin {\n",
              "    0% {\n",
              "      border-color: transparent;\n",
              "      border-bottom-color: var(--fill-color);\n",
              "      border-left-color: var(--fill-color);\n",
              "    }\n",
              "    20% {\n",
              "      border-color: transparent;\n",
              "      border-left-color: var(--fill-color);\n",
              "      border-top-color: var(--fill-color);\n",
              "    }\n",
              "    30% {\n",
              "      border-color: transparent;\n",
              "      border-left-color: var(--fill-color);\n",
              "      border-top-color: var(--fill-color);\n",
              "      border-right-color: var(--fill-color);\n",
              "    }\n",
              "    40% {\n",
              "      border-color: transparent;\n",
              "      border-right-color: var(--fill-color);\n",
              "      border-top-color: var(--fill-color);\n",
              "    }\n",
              "    60% {\n",
              "      border-color: transparent;\n",
              "      border-right-color: var(--fill-color);\n",
              "    }\n",
              "    80% {\n",
              "      border-color: transparent;\n",
              "      border-right-color: var(--fill-color);\n",
              "      border-bottom-color: var(--fill-color);\n",
              "    }\n",
              "    90% {\n",
              "      border-color: transparent;\n",
              "      border-bottom-color: var(--fill-color);\n",
              "    }\n",
              "  }\n",
              "</style>\n",
              "\n",
              "  <script>\n",
              "    async function quickchart(key) {\n",
              "      const quickchartButtonEl =\n",
              "        document.querySelector('#' + key + ' button');\n",
              "      quickchartButtonEl.disabled = true;  // To prevent multiple clicks.\n",
              "      quickchartButtonEl.classList.add('colab-df-spinner');\n",
              "      try {\n",
              "        const charts = await google.colab.kernel.invokeFunction(\n",
              "            'suggestCharts', [key], {});\n",
              "      } catch (error) {\n",
              "        console.error('Error during call to suggestCharts:', error);\n",
              "      }\n",
              "      quickchartButtonEl.classList.remove('colab-df-spinner');\n",
              "      quickchartButtonEl.classList.add('colab-df-quickchart-complete');\n",
              "    }\n",
              "    (() => {\n",
              "      let quickchartButtonEl =\n",
              "        document.querySelector('#df-f6efe854-adfe-4b54-919c-4f70e342d01d button');\n",
              "      quickchartButtonEl.style.display =\n",
              "        google.colab.kernel.accessAllowed ? 'block' : 'none';\n",
              "    })();\n",
              "  </script>\n",
              "</div>\n",
              "\n",
              "    </div>\n",
              "  </div>\n"
            ],
            "application/vnd.google.colaboratory.intrinsic+json": {
              "type": "dataframe",
              "variable_name": "sampled_data",
              "summary": "{\n  \"name\": \"sampled_data\",\n  \"rows\": 16280,\n  \"fields\": [\n    {\n      \"column\": \"age\",\n      \"properties\": {\n        \"dtype\": \"number\",\n        \"std\": 1.0000000000000295,\n        \"min\": -1.5890689193756447,\n        \"max\": 3.7717455058780334,\n        \"num_unique_values\": 72,\n        \"samples\": [\n          1.8624143407191893,\n          2.376465039031186,\n          0.6874413160060543\n        ],\n        \"semantic_type\": \"\",\n        \"description\": \"\"\n      }\n    },\n    {\n      \"column\": \"workclass\",\n      \"properties\": {\n        \"dtype\": \"category\",\n        \"num_unique_values\": 9,\n        \"samples\": [\n          \"7\",\n          \"1\",\n          \"3\"\n        ],\n        \"semantic_type\": \"\",\n        \"description\": \"\"\n      }\n    },\n    {\n      \"column\": \"fnlwgt\",\n      \"properties\": {\n        \"dtype\": \"number\",\n        \"std\": 1.0000000000000036,\n        \"min\": -1.6796659610458444,\n        \"max\": 11.98938975119933,\n        \"num_unique_values\": 12767,\n        \"samples\": [\n          1.2327147738523179,\n          1.058445324349772,\n          -0.3234444454242876\n        ],\n        \"semantic_type\": \"\",\n        \"description\": \"\"\n      }\n    },\n    {\n      \"column\": \"education\",\n      \"properties\": {\n        \"dtype\": \"number\",\n        \"std\": 3,\n        \"min\": 0,\n        \"max\": 15,\n        \"num_unique_values\": 16,\n        \"samples\": [\n          15,\n          0,\n          5\n        ],\n        \"semantic_type\": \"\",\n        \"description\": \"\"\n      }\n    },\n    {\n      \"column\": \"education-num\",\n      \"properties\": {\n        \"dtype\": \"number\",\n        \"std\": 0.17105496731839848,\n        \"min\": 0.0,\n        \"max\": 1.0,\n        \"num_unique_values\": 16,\n        \"samples\": [\n          0.0,\n          0.5333333333333333,\n          0.4\n        ],\n        \"semantic_type\": \"\",\n        \"description\": \"\"\n      }\n    },\n    {\n      \"column\": \"marital-status\",\n      \"properties\": {\n        \"dtype\": \"number\",\n        \"std\": 1,\n        \"min\": 0,\n        \"max\": 6,\n        \"num_unique_values\": 7,\n        \"samples\": [\n          1,\n          0,\n          5\n        ],\n        \"semantic_type\": \"\",\n        \"description\": \"\"\n      }\n    },\n    {\n      \"column\": \"occupation\",\n      \"properties\": {\n        \"dtype\": \"category\",\n        \"num_unique_values\": 15,\n        \"samples\": [\n          \"11\",\n          \"13\",\n          \"5\"\n        ],\n        \"semantic_type\": \"\",\n        \"description\": \"\"\n      }\n    },\n    {\n      \"column\": \"relationship\",\n      \"properties\": {\n        \"dtype\": \"number\",\n        \"std\": 1,\n        \"min\": 0,\n        \"max\": 5,\n        \"num_unique_values\": 6,\n        \"samples\": [\n          1,\n          0,\n          5\n        ],\n        \"semantic_type\": \"\",\n        \"description\": \"\"\n      }\n    },\n    {\n      \"column\": \"race\",\n      \"properties\": {\n        \"dtype\": \"category\",\n        \"num_unique_values\": 5,\n        \"samples\": [\n          \"Amer-Indian-Eskimo\",\n          \"Other\",\n          \"Asian-Pac-Islander\"\n        ],\n        \"semantic_type\": \"\",\n        \"description\": \"\"\n      }\n    },\n    {\n      \"column\": \"sex\",\n      \"properties\": {\n        \"dtype\": \"number\",\n        \"std\": 0,\n        \"min\": 0,\n        \"max\": 1,\n        \"num_unique_values\": 2,\n        \"samples\": [\n          0,\n          1\n        ],\n        \"semantic_type\": \"\",\n        \"description\": \"\"\n      }\n    },\n    {\n      \"column\": \"capital-gain\",\n      \"properties\": {\n        \"dtype\": \"number\",\n        \"std\": 1.00000000000023,\n        \"min\": -0.14842177755199898,\n        \"max\": 13.182806038871291,\n        \"num_unique_values\": 105,\n        \"samples\": [\n          0.19779367099499934,\n          3.2009493927578916\n        ],\n        \"semantic_type\": \"\",\n        \"description\": \"\"\n      }\n    },\n    {\n      \"column\": \"capital-loss\",\n      \"properties\": {\n        \"dtype\": \"number\",\n        \"std\": 1.0000000000000404,\n        \"min\": -0.21466878158112948,\n        \"max\": 10.650871570148102,\n        \"num_unique_values\": 78,\n        \"samples\": [\n          3.2275822940355687,\n          -0.21466878158112948\n        ],\n        \"semantic_type\": \"\",\n        \"description\": \"\"\n      }\n    },\n    {\n      \"column\": \"hours-per-week\",\n      \"properties\": {\n        \"dtype\": \"number\",\n        \"std\": 1.000000000000024,\n        \"min\": -3.213894325905951,\n        \"max\": 4.777850745194034,\n        \"num_unique_values\": 89,\n        \"samples\": [\n          -0.604344914934527,\n          4.696302326101177\n        ],\n        \"semantic_type\": \"\",\n        \"description\": \"\"\n      }\n    },\n    {\n      \"column\": \"native-country\",\n      \"properties\": {\n        \"dtype\": \"category\",\n        \"num_unique_values\": 41,\n        \"samples\": [\n          \"19\",\n          \"7\"\n        ],\n        \"semantic_type\": \"\",\n        \"description\": \"\"\n      }\n    },\n    {\n      \"column\": \"income\",\n      \"properties\": {\n        \"dtype\": \"number\",\n        \"std\": 0,\n        \"min\": 0,\n        \"max\": 1,\n        \"num_unique_values\": 2,\n        \"samples\": [\n          1,\n          0\n        ],\n        \"semantic_type\": \"\",\n        \"description\": \"\"\n      }\n    }\n  ]\n}"
            }
          },
          "metadata": {},
          "execution_count": 76
        }
      ]
    },
    {
      "cell_type": "code",
      "source": [
        "# Evaluate the kNN sets K1 and K2 for k = 32 on preprocessed & sampled data.\n",
        "# K1 and K2 arrays contain the indices of kNN tuples.\n",
        "\n",
        "k1,k2 = knn(R=sampled_data,k=32,interval_attr=interval_attr,nominal_attr=nominal_attr,ordinal_attr=ordinal_attr)"
      ],
      "metadata": {
        "id": "QF5qVHMPbkSY"
      },
      "execution_count": 77,
      "outputs": []
    },
    {
      "cell_type": "code",
      "source": [
        "print('K1 shape: ',k1.shape)\n",
        "print('K2 shape: ',k2.shape)"
      ],
      "metadata": {
        "colab": {
          "base_uri": "https://localhost:8080/"
        },
        "id": "P2q_Fh4zBHTr",
        "outputId": "132b608f-5bbf-4791-cb2e-e982aa9a495a"
      },
      "execution_count": 78,
      "outputs": [
        {
          "output_type": "stream",
          "name": "stdout",
          "text": [
            "K1 shape:  (2372, 32)\n",
            "K2 shape:  (2372, 32)\n"
          ]
        }
      ]
    },
    {
      "cell_type": "code",
      "source": [
        "k1"
      ],
      "metadata": {
        "colab": {
          "base_uri": "https://localhost:8080/"
        },
        "id": "GtfWO2QHDbe8",
        "outputId": "04a65ff7-019d-4d2d-faa0-eac189a2391a"
      },
      "execution_count": 79,
      "outputs": [
        {
          "output_type": "execute_result",
          "data": {
            "text/plain": [
              "array([[1035,  656,  928, ..., 1532,  965, 2117],\n",
              "       [1782,   93,  937, ..., 1453, 1477, 1235],\n",
              "       [1975,  474,  223, ..., 2239,  393, 1389],\n",
              "       ...,\n",
              "       [1854, 2021, 1658, ..., 1595, 2145,   98],\n",
              "       [1606, 2290, 2192, ..., 1013, 1209, 1473],\n",
              "       [1216,  449,  390, ..., 2143, 1386, 1539]])"
            ]
          },
          "metadata": {},
          "execution_count": 79
        }
      ]
    },
    {
      "cell_type": "code",
      "source": [
        "k2"
      ],
      "metadata": {
        "colab": {
          "base_uri": "https://localhost:8080/"
        },
        "id": "7I6GTnwkDy7P",
        "outputId": "305547f7-bfda-49b2-844e-0e7f9790eada"
      },
      "execution_count": 80,
      "outputs": [
        {
          "output_type": "execute_result",
          "data": {
            "text/plain": [
              "array([[11181, 11725,  4594, ...,  8166,  3562,  4818],\n",
              "       [ 5808,  1528,  7475, ...,  1104, 12736, 13494],\n",
              "       [11396,  6868,  6392, ..., 13536, 10119, 11982],\n",
              "       ...,\n",
              "       [ 6557,  6330, 12035, ...,  1012,  6878,  4646],\n",
              "       [ 3407, 10492, 10382, ...,  9460,  1516,  7886],\n",
              "       [ 8154,   988,  5675, ...,  4263,  7258,  3181]])"
            ]
          },
          "metadata": {},
          "execution_count": 80
        }
      ]
    },
    {
      "cell_type": "markdown",
      "source": [
        "## ***Bias (diff) Calculation***"
      ],
      "metadata": {
        "id": "RnCeXHO0zDI3"
      }
    },
    {
      "cell_type": "code",
      "source": [
        "# Function to calculate the bias/diff(r).\n",
        "\n",
        "def bias_calc(R, k, K1, K2, dec):\n",
        "  dec_arr = R['income'].to_numpy()\n",
        "  bias = []\n",
        "  for i in range(K1.shape[0]):\n",
        "    nn_pr = K1[i,:k]\n",
        "    p1 = sum([1 for j in nn_pr if dec_arr[j] == dec])/k\n",
        "\n",
        "    nn_ur = K2[i,:k]\n",
        "    p2 = sum([1 for j in nn_ur if dec_arr[j] == dec])/k\n",
        "\n",
        "    bias.append(p1-p2)\n",
        "\n",
        "  return bias"
      ],
      "metadata": {
        "id": "NiQXDqroHOxq"
      },
      "execution_count": 81,
      "outputs": []
    },
    {
      "cell_type": "code",
      "source": [
        "# Calculate the bias for k = 8, 16, 32\n",
        "\n",
        "bias_data = {}\n",
        "for i in [8,16,32]:\n",
        "  bias_data[i] = bias_calc(R = sampled_data,k = i,K1 = k1,K2 = k2, dec = 0)"
      ],
      "metadata": {
        "id": "wPQdZTiiLBvD"
      },
      "execution_count": 82,
      "outputs": []
    },
    {
      "cell_type": "code",
      "source": [
        "# Sort bias for each k in ascending order for cdf calcualtion.\n",
        "\n",
        "sort_bias_data = bias_data.copy()\n",
        "\n",
        "for key in bias_data.keys():\n",
        "  sort_bias_data[key] = np.sort(bias_data[key])"
      ],
      "metadata": {
        "id": "B4fmHzYyLH0-"
      },
      "execution_count": 83,
      "outputs": []
    },
    {
      "cell_type": "code",
      "source": [
        "# array of threshold values.\n",
        "t_vals_0 = np.linspace(-1,1,500)\n",
        "t_vals_1 = np.linspace(0,1,500)\n",
        "\n",
        "# dictionary to contain cdf values.\n",
        "cdf_vals_0 = {}\n",
        "for key in bias_data.keys():\n",
        "  cdf_vals_0[key] = [(sort_bias_data[key] >= t).mean() for t in t_vals_0]\n",
        "\n",
        "cdf_vals_1 = {}\n",
        "for key in bias_data.keys():\n",
        "  cdf_vals_1[key] = [(sort_bias_data[key] >= t).mean() for t in t_vals_1]"
      ],
      "metadata": {
        "id": "58qRYKYlMXFO"
      },
      "execution_count": 84,
      "outputs": []
    },
    {
      "cell_type": "code",
      "source": [
        "# Plot of (fraction of tuples with diff>=t) vs (t values)\n",
        "\n",
        "plt.plot(t_vals_0, cdf_vals_0[8], color = 'magenta', linestyle = ':', label = 'k=8')\n",
        "plt.plot(t_vals_0, cdf_vals_0[16], color = 'blue', linestyle = '--', label = 'k=16')\n",
        "plt.plot(t_vals_0, cdf_vals_0[32], color = 'green', linestyle = '-', label = 'k=32')\n",
        "plt.grid(color='gray', linestyle='dashed',alpha=0.3)\n",
        "plt.title(\"dataset=adult, dec ≡ income='<=50K', protected ≡ race<>White\")\n",
        "plt.xlabel(\"t\")\n",
        "plt.ylabel(\"Fract. of tuples with diff ≥ t\")\n",
        "plt.legend()"
      ],
      "metadata": {
        "colab": {
          "base_uri": "https://localhost:8080/",
          "height": 489
        },
        "id": "HHsBYc0GMsMF",
        "outputId": "966f99d9-0213-4f54-c806-d2457cf9bc44"
      },
      "execution_count": 85,
      "outputs": [
        {
          "output_type": "execute_result",
          "data": {
            "text/plain": [
              "<matplotlib.legend.Legend at 0x7c47ff00bc40>"
            ]
          },
          "metadata": {},
          "execution_count": 85
        },
        {
          "output_type": "display_data",
          "data": {
            "text/plain": [
              "<Figure size 640x480 with 1 Axes>"
            ],
            "image/png": "[encoded data removed]"
          },
          "metadata": {}
        }
      ]
    },
    {
      "cell_type": "code",
      "source": [
        "# Plot of (fraction of tuples with diff>=t) vs (t values)\n",
        "\n",
        "plt.plot(t_vals_1, cdf_vals_1[8], color = 'magenta', linestyle = ':', label = 'k=8')\n",
        "plt.plot(t_vals_1, cdf_vals_1[16], color = 'blue', linestyle = '--', label = 'k=16')\n",
        "plt.plot(t_vals_1, cdf_vals_1[32], color = 'green', linestyle = '-', label = 'k=32')\n",
        "plt.grid(color='gray', linestyle='dashed',alpha=0.3)\n",
        "plt.title(\"dataset=adult, dec ≡ income='<=50K', protected ≡ race<>White\")\n",
        "plt.xlabel(\"t\")\n",
        "plt.ylabel(\"Fract. of tuples with diff ≥ t\")\n",
        "plt.legend()"
      ],
      "metadata": {
        "colab": {
          "base_uri": "https://localhost:8080/",
          "height": 489
        },
        "id": "X8Ql7e9gx_l-",
        "outputId": "7d3e14a5-38bf-4dca-a7e0-ec251204e1a0"
      },
      "execution_count": 86,
      "outputs": [
        {
          "output_type": "execute_result",
          "data": {
            "text/plain": [
              "<matplotlib.legend.Legend at 0x7c47feae6c20>"
            ]
          },
          "metadata": {},
          "execution_count": 86
        },
        {
          "output_type": "display_data",
          "data": {
            "text/plain": [
              "<Figure size 640x480 with 1 Axes>"
            ],
            "image/png": "[encoded data removed]"
          },
          "metadata": {}
        }
      ]
    },
    {
      "cell_type": "markdown",
      "source": [
        "## ***DiscoveryN() Algorithm***"
      ],
      "metadata": {
        "id": "s2iqWRk_y95f"
      }
    },
    {
      "cell_type": "code",
      "source": [
        "# Function that implements the DiscoveryN() algorithm to produce the t-labeled dataset.\n",
        "\n",
        "def DiscoverN(D, k, t, diff, dec):\n",
        "  R = D.copy()\n",
        "  R['disc'] = 0\n",
        "  j = 0\n",
        "  for i in range(R.shape[0]):\n",
        "    if R.loc[i,'race'] != 'White':\n",
        "      if R.loc[i,'income'] == dec and diff[k][j] >= t:\n",
        "        R.loc[i, 'disc'] = 1\n",
        "      j += 1\n",
        "  return R"
      ],
      "metadata": {
        "id": "wd6N6vObM_nC"
      },
      "execution_count": 87,
      "outputs": []
    },
    {
      "cell_type": "code",
      "source": [
        "# Use DiscoveryN() function to evaluate the t-labeled dataset.\n",
        "\n",
        "t_labeled = DiscoverN(D = sampled_data, k = 32, t = 0.10, diff = bias_data, dec = 0)"
      ],
      "metadata": {
        "id": "Nu2nDPZBn_eO"
      },
      "execution_count": 88,
      "outputs": []
    },
    {
      "cell_type": "code",
      "source": [
        "print('T-labeled dataset shape: ', t_labeled.shape)"
      ],
      "metadata": {
        "colab": {
          "base_uri": "https://localhost:8080/"
        },
        "id": "1f-55sORotYp",
        "outputId": "be4851ad-5602-4144-8853-f1d896b6b79c"
      },
      "execution_count": 89,
      "outputs": [
        {
          "output_type": "stream",
          "name": "stdout",
          "text": [
            "T-labeled dataset shape:  (16280, 16)\n"
          ]
        }
      ]
    },
    {
      "cell_type": "code",
      "source": [
        "t_labeled.head()"
      ],
      "metadata": {
        "colab": {
          "base_uri": "https://localhost:8080/",
          "height": 223
        },
        "id": "Kiv0C40e_4AZ",
        "outputId": "084d74f2-1b65-4b9f-d2dd-65cdff9b5aad"
      },
      "execution_count": 90,
      "outputs": [
        {
          "output_type": "execute_result",
          "data": {
            "text/plain": [
              "        age workclass    fnlwgt  education  education-num  marital-status  \\\n",
              "0  0.099955         0 -1.126899         15       0.000000               1   \n",
              "1  0.834313         0 -1.023629          0       0.533333               0   \n",
              "2  0.540570         0 -1.526850          4       0.666667               1   \n",
              "3 -0.854711         0  0.024772          2       0.800000               1   \n",
              "4  1.862414         0  2.728568          0       0.533333               0   \n",
              "\n",
              "  occupation  relationship   race  sex  capital-gain  capital-loss  \\\n",
              "0          5             1  White    1     -0.148422     -0.214669   \n",
              "1          0             0  White    0     -0.148422     -0.214669   \n",
              "2          7             1  White    0     -0.148422     -0.214669   \n",
              "3          0             1  White    0     -0.148422     -0.214669   \n",
              "4          2             0  White    0     -0.148422     -0.214669   \n",
              "\n",
              "   hours-per-week native-country  income  disc  \n",
              "0       -1.664474              0       0     0  \n",
              "1       -0.033506              0       0     0  \n",
              "2        0.781978              0       0     0  \n",
              "3        0.374236              0       0     0  \n",
              "4       -1.990668              0       0     0  "
            ],
            "text/html": [
              "\n",
              "  <div id=\"df-3dd72796-84e4-4ab8-9554-2c53e3c3f819\" class=\"colab-df-container\">\n",
              "    <div>\n",
              "<style scoped>\n",
              "    .dataframe tbody tr th:only-of-type {\n",
              "        vertical-align: middle;\n",
              "    }\n",
              "\n",
              "    .dataframe tbody tr th {\n",
              "        vertical-align: top;\n",
              "    }\n",
              "\n",
              "    .dataframe thead th {\n",
              "        text-align: right;\n",
              "    }\n",
              "</style>\n",
              "<table border=\"1\" class=\"dataframe\">\n",
              "  <thead>\n",
              "    <tr style=\"text-align: right;\">\n",
              "      <th></th>\n",
              "      <th>age</th>\n",
              "      <th>workclass</th>\n",
              "      <th>fnlwgt</th>\n",
              "      <th>education</th>\n",
              "      <th>education-num</th>\n",
              "      <th>marital-status</th>\n",
              "      <th>occupation</th>\n",
              "      <th>relationship</th>\n",
              "      <th>race</th>\n",
              "      <th>sex</th>\n",
              "      <th>capital-gain</th>\n",
              "      <th>capital-loss</th>\n",
              "      <th>hours-per-week</th>\n",
              "      <th>native-country</th>\n",
              "      <th>income</th>\n",
              "      <th>disc</th>\n",
              "    </tr>\n",
              "  </thead>\n",
              "  <tbody>\n",
              "    <tr>\n",
              "      <th>0</th>\n",
              "      <td>0.099955</td>\n",
              "      <td>0</td>\n",
              "      <td>-1.126899</td>\n",
              "      <td>15</td>\n",
              "      <td>0.000000</td>\n",
              "      <td>1</td>\n",
              "      <td>5</td>\n",
              "      <td>1</td>\n",
              "      <td>White</td>\n",
              "      <td>1</td>\n",
              "      <td>-0.148422</td>\n",
              "      <td>-0.214669</td>\n",
              "      <td>-1.664474</td>\n",
              "      <td>0</td>\n",
              "      <td>0</td>\n",
              "      <td>0</td>\n",
              "    </tr>\n",
              "    <tr>\n",
              "      <th>1</th>\n",
              "      <td>0.834313</td>\n",
              "      <td>0</td>\n",
              "      <td>-1.023629</td>\n",
              "      <td>0</td>\n",
              "      <td>0.533333</td>\n",
              "      <td>0</td>\n",
              "      <td>0</td>\n",
              "      <td>0</td>\n",
              "      <td>White</td>\n",
              "      <td>0</td>\n",
              "      <td>-0.148422</td>\n",
              "      <td>-0.214669</td>\n",
              "      <td>-0.033506</td>\n",
              "      <td>0</td>\n",
              "      <td>0</td>\n",
              "      <td>0</td>\n",
              "    </tr>\n",
              "    <tr>\n",
              "      <th>2</th>\n",
              "      <td>0.540570</td>\n",
              "      <td>0</td>\n",
              "      <td>-1.526850</td>\n",
              "      <td>4</td>\n",
              "      <td>0.666667</td>\n",
              "      <td>1</td>\n",
              "      <td>7</td>\n",
              "      <td>1</td>\n",
              "      <td>White</td>\n",
              "      <td>0</td>\n",
              "      <td>-0.148422</td>\n",
              "      <td>-0.214669</td>\n",
              "      <td>0.781978</td>\n",
              "      <td>0</td>\n",
              "      <td>0</td>\n",
              "      <td>0</td>\n",
              "    </tr>\n",
              "    <tr>\n",
              "      <th>3</th>\n",
              "      <td>-0.854711</td>\n",
              "      <td>0</td>\n",
              "      <td>0.024772</td>\n",
              "      <td>2</td>\n",
              "      <td>0.800000</td>\n",
              "      <td>1</td>\n",
              "      <td>0</td>\n",
              "      <td>1</td>\n",
              "      <td>White</td>\n",
              "      <td>0</td>\n",
              "      <td>-0.148422</td>\n",
              "      <td>-0.214669</td>\n",
              "      <td>0.374236</td>\n",
              "      <td>0</td>\n",
              "      <td>0</td>\n",
              "      <td>0</td>\n",
              "    </tr>\n",
              "    <tr>\n",
              "      <th>4</th>\n",
              "      <td>1.862414</td>\n",
              "      <td>0</td>\n",
              "      <td>2.728568</td>\n",
              "      <td>0</td>\n",
              "      <td>0.533333</td>\n",
              "      <td>0</td>\n",
              "      <td>2</td>\n",
              "      <td>0</td>\n",
              "      <td>White</td>\n",
              "      <td>0</td>\n",
              "      <td>-0.148422</td>\n",
              "      <td>-0.214669</td>\n",
              "      <td>-1.990668</td>\n",
              "      <td>0</td>\n",
              "      <td>0</td>\n",
              "      <td>0</td>\n",
              "    </tr>\n",
              "  </tbody>\n",
              "</table>\n",
              "</div>\n",
              "    <div class=\"colab-df-buttons\">\n",
              "\n",
              "  <div class=\"colab-df-container\">\n",
              "    <button class=\"colab-df-convert\" onclick=\"convertToInteractive('df-3dd72796-84e4-4ab8-9554-2c53e3c3f819')\"\n",
              "            title=\"Convert this dataframe to an interactive table.\"\n",
              "            style=\"display:none;\">\n",
              "\n",
              "  <svg xmlns=\"http://www.w3.org/2000/svg\" height=\"24px\" viewBox=\"0 -960 960 960\">\n",
              "    <path d=\"M120-120v-720h720v720H120Zm60-500h600v-160H180v160Zm220 220h160v-160H400v160Zm0 220h160v-160H400v160ZM180-400h160v-160H180v160Zm440 0h160v-160H620v160ZM180-180h160v-160H180v160Zm440 0h160v-160H620v160Z\"/>\n",
              "  </svg>\n",
              "    </button>\n",
              "\n",
              "  <style>\n",
              "    .colab-df-container {\n",
              "      display:flex;\n",
              "      gap: 12px;\n",
              "    }\n",
              "\n",
              "    .colab-df-convert {\n",
              "      background-color: #E8F0FE;\n",
              "      border: none;\n",
              "      border-radius: 50%;\n",
              "      cursor: pointer;\n",
              "      display: none;\n",
              "      fill: #1967D2;\n",
              "      height: 32px;\n",
              "      padding: 0 0 0 0;\n",
              "      width: 32px;\n",
              "    }\n",
              "\n",
              "    .colab-df-convert:hover {\n",
              "      background-color: #E2EBFA;\n",
              "      box-shadow: 0px 1px 2px rgba(60, 64, 67, 0.3), 0px 1px 3px 1px rgba(60, 64, 67, 0.15);\n",
              "      fill: #174EA6;\n",
              "    }\n",
              "\n",
              "    .colab-df-buttons div {\n",
              "      margin-bottom: 4px;\n",
              "    }\n",
              "\n",
              "    [theme=dark] .colab-df-convert {\n",
              "      background-color: #3B4455;\n",
              "      fill: #D2E3FC;\n",
              "    }\n",
              "\n",
              "    [theme=dark] .colab-df-convert:hover {\n",
              "      background-color: #434B5C;\n",
              "      box-shadow: 0px 1px 3px 1px rgba(0, 0, 0, 0.15);\n",
              "      filter: drop-shadow(0px 1px 2px rgba(0, 0, 0, 0.3));\n",
              "      fill: #FFFFFF;\n",
              "    }\n",
              "  </style>\n",
              "\n",
              "    <script>\n",
              "      const buttonEl =\n",
              "        document.querySelector('#df-3dd72796-84e4-4ab8-9554-2c53e3c3f819 button.colab-df-convert');\n",
              "      buttonEl.style.display =\n",
              "        google.colab.kernel.accessAllowed ? 'block' : 'none';\n",
              "\n",
              "      async function convertToInteractive(key) {\n",
              "        const element = document.querySelector('#df-3dd72796-84e4-4ab8-9554-2c53e3c3f819');\n",
              "        const dataTable =\n",
              "          await google.colab.kernel.invokeFunction('convertToInteractive',\n",
              "                                                    [key], {});\n",
              "        if (!dataTable) return;\n",
              "\n",
              "        const docLinkHtml = 'Like what you see? Visit the ' +\n",
              "          '<a target=\"_blank\" href=https://colab.research.google.com/notebooks/data_table.ipynb>data table notebook</a>'\n",
              "          + ' to learn more about interactive tables.';\n",
              "        element.innerHTML = '';\n",
              "        dataTable['output_type'] = 'display_data';\n",
              "        await google.colab.output.renderOutput(dataTable, element);\n",
              "        const docLink = document.createElement('div');\n",
              "        docLink.innerHTML = docLinkHtml;\n",
              "        element.appendChild(docLink);\n",
              "      }\n",
              "    </script>\n",
              "  </div>\n",
              "\n",
              "\n",
              "<div id=\"df-9077215f-50fe-4e6a-b414-ba21a898899b\">\n",
              "  <button class=\"colab-df-quickchart\" onclick=\"quickchart('df-9077215f-50fe-4e6a-b414-ba21a898899b')\"\n",
              "            title=\"Suggest charts\"\n",
              "            style=\"display:none;\">\n",
              "\n",
              "<svg xmlns=\"http://www.w3.org/2000/svg\" height=\"24px\"viewBox=\"0 0 24 24\"\n",
              "     width=\"24px\">\n",
              "    <g>\n",
              "        <path d=\"M19 3H5c-1.1 0-2 .9-2 2v14c0 1.1.9 2 2 2h14c1.1 0 2-.9 2-2V5c0-1.1-.9-2-2-2zM9 17H7v-7h2v7zm4 0h-2V7h2v10zm4 0h-2v-4h2v4z\"/>\n",
              "    </g>\n",
              "</svg>\n",
              "  </button>\n",
              "\n",
              "<style>\n",
              "  .colab-df-quickchart {\n",
              "      --bg-color: #E8F0FE;\n",
              "      --fill-color: #1967D2;\n",
              "      --hover-bg-color: #E2EBFA;\n",
              "      --hover-fill-color: #174EA6;\n",
              "      --disabled-fill-color: #AAA;\n",
              "      --disabled-bg-color: #DDD;\n",
              "  }\n",
              "\n",
              "  [theme=dark] .colab-df-quickchart {\n",
              "      --bg-color: #3B4455;\n",
              "      --fill-color: #D2E3FC;\n",
              "      --hover-bg-color: #434B5C;\n",
              "      --hover-fill-color: #FFFFFF;\n",
              "      --disabled-bg-color: #3B4455;\n",
              "      --disabled-fill-color: #666;\n",
              "  }\n",
              "\n",
              "  .colab-df-quickchart {\n",
              "    background-color: var(--bg-color);\n",
              "    border: none;\n",
              "    border-radius: 50%;\n",
              "    cursor: pointer;\n",
              "    display: none;\n",
              "    fill: var(--fill-color);\n",
              "    height: 32px;\n",
              "    padding: 0;\n",
              "    width: 32px;\n",
              "  }\n",
              "\n",
              "  .colab-df-quickchart:hover {\n",
              "    background-color: var(--hover-bg-color);\n",
              "    box-shadow: 0 1px 2px rgba(60, 64, 67, 0.3), 0 1px 3px 1px rgba(60, 64, 67, 0.15);\n",
              "    fill: var(--button-hover-fill-color);\n",
              "  }\n",
              "\n",
              "  .colab-df-quickchart-complete:disabled,\n",
              "  .colab-df-quickchart-complete:disabled:hover {\n",
              "    background-color: var(--disabled-bg-color);\n",
              "    fill: var(--disabled-fill-color);\n",
              "    box-shadow: none;\n",
              "  }\n",
              "\n",
              "  .colab-df-spinner {\n",
              "    border: 2px solid var(--fill-color);\n",
              "    border-color: transparent;\n",
              "    border-bottom-color: var(--fill-color);\n",
              "    animation:\n",
              "      spin 1s steps(1) infinite;\n",
              "  }\n",
              "\n",
              "  @keyframes spin {\n",
              "    0% {\n",
              "      border-color: transparent;\n",
              "      border-bottom-color: var(--fill-color);\n",
              "      border-left-color: var(--fill-color);\n",
              "    }\n",
              "    20% {\n",
              "      border-color: transparent;\n",
              "      border-left-color: var(--fill-color);\n",
              "      border-top-color: var(--fill-color);\n",
              "    }\n",
              "    30% {\n",
              "      border-color: transparent;\n",
              "      border-left-color: var(--fill-color);\n",
              "      border-top-color: var(--fill-color);\n",
              "      border-right-color: var(--fill-color);\n",
              "    }\n",
              "    40% {\n",
              "      border-color: transparent;\n",
              "      border-right-color: var(--fill-color);\n",
              "      border-top-color: var(--fill-color);\n",
              "    }\n",
              "    60% {\n",
              "      border-color: transparent;\n",
              "      border-right-color: var(--fill-color);\n",
              "    }\n",
              "    80% {\n",
              "      border-color: transparent;\n",
              "      border-right-color: var(--fill-color);\n",
              "      border-bottom-color: var(--fill-color);\n",
              "    }\n",
              "    90% {\n",
              "      border-color: transparent;\n",
              "      border-bottom-color: var(--fill-color);\n",
              "    }\n",
              "  }\n",
              "</style>\n",
              "\n",
              "  <script>\n",
              "    async function quickchart(key) {\n",
              "      const quickchartButtonEl =\n",
              "        document.querySelector('#' + key + ' button');\n",
              "      quickchartButtonEl.disabled = true;  // To prevent multiple clicks.\n",
              "      quickchartButtonEl.classList.add('colab-df-spinner');\n",
              "      try {\n",
              "        const charts = await google.colab.kernel.invokeFunction(\n",
              "            'suggestCharts', [key], {});\n",
              "      } catch (error) {\n",
              "        console.error('Error during call to suggestCharts:', error);\n",
              "      }\n",
              "      quickchartButtonEl.classList.remove('colab-df-spinner');\n",
              "      quickchartButtonEl.classList.add('colab-df-quickchart-complete');\n",
              "    }\n",
              "    (() => {\n",
              "      let quickchartButtonEl =\n",
              "        document.querySelector('#df-9077215f-50fe-4e6a-b414-ba21a898899b button');\n",
              "      quickchartButtonEl.style.display =\n",
              "        google.colab.kernel.accessAllowed ? 'block' : 'none';\n",
              "    })();\n",
              "  </script>\n",
              "</div>\n",
              "\n",
              "    </div>\n",
              "  </div>\n"
            ],
            "application/vnd.google.colaboratory.intrinsic+json": {
              "type": "dataframe",
              "variable_name": "t_labeled",
              "summary": "{\n  \"name\": \"t_labeled\",\n  \"rows\": 16280,\n  \"fields\": [\n    {\n      \"column\": \"age\",\n      \"properties\": {\n        \"dtype\": \"number\",\n        \"std\": 1.0000000000000295,\n        \"min\": -1.5890689193756447,\n        \"max\": 3.7717455058780334,\n        \"num_unique_values\": 72,\n        \"samples\": [\n          1.8624143407191893,\n          2.376465039031186,\n          0.6874413160060543\n        ],\n        \"semantic_type\": \"\",\n        \"description\": \"\"\n      }\n    },\n    {\n      \"column\": \"workclass\",\n      \"properties\": {\n        \"dtype\": \"category\",\n        \"num_unique_values\": 9,\n        \"samples\": [\n          \"7\",\n          \"1\",\n          \"3\"\n        ],\n        \"semantic_type\": \"\",\n        \"description\": \"\"\n      }\n    },\n    {\n      \"column\": \"fnlwgt\",\n      \"properties\": {\n        \"dtype\": \"number\",\n        \"std\": 1.0000000000000036,\n        \"min\": -1.6796659610458444,\n        \"max\": 11.98938975119933,\n        \"num_unique_values\": 12767,\n        \"samples\": [\n          1.2327147738523179,\n          1.058445324349772,\n          -0.3234444454242876\n        ],\n        \"semantic_type\": \"\",\n        \"description\": \"\"\n      }\n    },\n    {\n      \"column\": \"education\",\n      \"properties\": {\n        \"dtype\": \"number\",\n        \"std\": 3,\n        \"min\": 0,\n        \"max\": 15,\n        \"num_unique_values\": 16,\n        \"samples\": [\n          15,\n          0,\n          5\n        ],\n        \"semantic_type\": \"\",\n        \"description\": \"\"\n      }\n    },\n    {\n      \"column\": \"education-num\",\n      \"properties\": {\n        \"dtype\": \"number\",\n        \"std\": 0.17105496731839848,\n        \"min\": 0.0,\n        \"max\": 1.0,\n        \"num_unique_values\": 16,\n        \"samples\": [\n          0.0,\n          0.5333333333333333,\n          0.4\n        ],\n        \"semantic_type\": \"\",\n        \"description\": \"\"\n      }\n    },\n    {\n      \"column\": \"marital-status\",\n      \"properties\": {\n        \"dtype\": \"number\",\n        \"std\": 1,\n        \"min\": 0,\n        \"max\": 6,\n        \"num_unique_values\": 7,\n        \"samples\": [\n          1,\n          0,\n          5\n        ],\n        \"semantic_type\": \"\",\n        \"description\": \"\"\n      }\n    },\n    {\n      \"column\": \"occupation\",\n      \"properties\": {\n        \"dtype\": \"category\",\n        \"num_unique_values\": 15,\n        \"samples\": [\n          \"11\",\n          \"13\",\n          \"5\"\n        ],\n        \"semantic_type\": \"\",\n        \"description\": \"\"\n      }\n    },\n    {\n      \"column\": \"relationship\",\n      \"properties\": {\n        \"dtype\": \"number\",\n        \"std\": 1,\n        \"min\": 0,\n        \"max\": 5,\n        \"num_unique_values\": 6,\n        \"samples\": [\n          1,\n          0,\n          5\n        ],\n        \"semantic_type\": \"\",\n        \"description\": \"\"\n      }\n    },\n    {\n      \"column\": \"race\",\n      \"properties\": {\n        \"dtype\": \"category\",\n        \"num_unique_values\": 5,\n        \"samples\": [\n          \"Amer-Indian-Eskimo\",\n          \"Other\",\n          \"Asian-Pac-Islander\"\n        ],\n        \"semantic_type\": \"\",\n        \"description\": \"\"\n      }\n    },\n    {\n      \"column\": \"sex\",\n      \"properties\": {\n        \"dtype\": \"number\",\n        \"std\": 0,\n        \"min\": 0,\n        \"max\": 1,\n        \"num_unique_values\": 2,\n        \"samples\": [\n          0,\n          1\n        ],\n        \"semantic_type\": \"\",\n        \"description\": \"\"\n      }\n    },\n    {\n      \"column\": \"capital-gain\",\n      \"properties\": {\n        \"dtype\": \"number\",\n        \"std\": 1.00000000000023,\n        \"min\": -0.14842177755199898,\n        \"max\": 13.182806038871291,\n        \"num_unique_values\": 105,\n        \"samples\": [\n          0.19779367099499934,\n          3.2009493927578916\n        ],\n        \"semantic_type\": \"\",\n        \"description\": \"\"\n      }\n    },\n    {\n      \"column\": \"capital-loss\",\n      \"properties\": {\n        \"dtype\": \"number\",\n        \"std\": 1.0000000000000404,\n        \"min\": -0.21466878158112948,\n        \"max\": 10.650871570148102,\n        \"num_unique_values\": 78,\n        \"samples\": [\n          3.2275822940355687,\n          -0.21466878158112948\n        ],\n        \"semantic_type\": \"\",\n        \"description\": \"\"\n      }\n    },\n    {\n      \"column\": \"hours-per-week\",\n      \"properties\": {\n        \"dtype\": \"number\",\n        \"std\": 1.000000000000024,\n        \"min\": -3.213894325905951,\n        \"max\": 4.777850745194034,\n        \"num_unique_values\": 89,\n        \"samples\": [\n          -0.604344914934527,\n          4.696302326101177\n        ],\n        \"semantic_type\": \"\",\n        \"description\": \"\"\n      }\n    },\n    {\n      \"column\": \"native-country\",\n      \"properties\": {\n        \"dtype\": \"category\",\n        \"num_unique_values\": 41,\n        \"samples\": [\n          \"19\",\n          \"7\"\n        ],\n        \"semantic_type\": \"\",\n        \"description\": \"\"\n      }\n    },\n    {\n      \"column\": \"income\",\n      \"properties\": {\n        \"dtype\": \"number\",\n        \"std\": 0,\n        \"min\": 0,\n        \"max\": 1,\n        \"num_unique_values\": 2,\n        \"samples\": [\n          1,\n          0\n        ],\n        \"semantic_type\": \"\",\n        \"description\": \"\"\n      }\n    },\n    {\n      \"column\": \"disc\",\n      \"properties\": {\n        \"dtype\": \"number\",\n        \"std\": 0,\n        \"min\": 0,\n        \"max\": 1,\n        \"num_unique_values\": 2,\n        \"samples\": [\n          1,\n          0\n        ],\n        \"semantic_type\": \"\",\n        \"description\": \"\"\n      }\n    }\n  ]\n}"
            }
          },
          "metadata": {},
          "execution_count": 90
        }
      ]
    },
    {
      "cell_type": "markdown",
      "source": [
        "## ***PreventionN() Algorithm***"
      ],
      "metadata": {
        "id": "S5-iKEQhy4Nb"
      }
    },
    {
      "cell_type": "code",
      "source": [
        "# Function that implements the PreventionN() algorithm to produce the t-corrected dataset.\n",
        "\n",
        "def PreventionN(T,k,t,diff, dec):\n",
        "  R = T.copy()\n",
        "  j = 0\n",
        "  for i in range(R.shape[0]):\n",
        "    if R.loc[i,'race'] != 'White':\n",
        "      if R.loc[i,'income'] == dec[0] and diff[k][j] >= t:\n",
        "        R.loc[i,'income'] = dec[1]\n",
        "      j += 1\n",
        "  return R"
      ],
      "metadata": {
        "id": "EiW07BaJpXQy"
      },
      "execution_count": 91,
      "outputs": []
    },
    {
      "cell_type": "code",
      "source": [
        "# Use PreventionN() function to evaluate the t-corrected dataset.\n",
        "\n",
        "t_corrected = PreventionN(T = t_labeled, k = 32, t = 0.10, diff = bias_data, dec = [0,1])"
      ],
      "metadata": {
        "id": "dqPQo_-J9PXh"
      },
      "execution_count": 92,
      "outputs": []
    },
    {
      "cell_type": "code",
      "source": [
        "print('T-corrected dataset shape: ', t_corrected.shape)"
      ],
      "metadata": {
        "colab": {
          "base_uri": "https://localhost:8080/"
        },
        "id": "Ivi382Qn-ZHK",
        "outputId": "05be9f56-0ca1-403e-efba-925899ba0206"
      },
      "execution_count": 93,
      "outputs": [
        {
          "output_type": "stream",
          "name": "stdout",
          "text": [
            "T-corrected dataset shape:  (16280, 16)\n"
          ]
        }
      ]
    },
    {
      "cell_type": "code",
      "source": [
        "t_corrected.head()"
      ],
      "metadata": {
        "colab": {
          "base_uri": "https://localhost:8080/",
          "height": 223
        },
        "id": "pvuY8QqoiRJI",
        "outputId": "c01f388d-b8b7-4c92-e2e0-a0cbf83eaece"
      },
      "execution_count": 94,
      "outputs": [
        {
          "output_type": "execute_result",
          "data": {
            "text/plain": [
              "        age workclass    fnlwgt  education  education-num  marital-status  \\\n",
              "0  0.099955         0 -1.126899         15       0.000000               1   \n",
              "1  0.834313         0 -1.023629          0       0.533333               0   \n",
              "2  0.540570         0 -1.526850          4       0.666667               1   \n",
              "3 -0.854711         0  0.024772          2       0.800000               1   \n",
              "4  1.862414         0  2.728568          0       0.533333               0   \n",
              "\n",
              "  occupation  relationship   race  sex  capital-gain  capital-loss  \\\n",
              "0          5             1  White    1     -0.148422     -0.214669   \n",
              "1          0             0  White    0     -0.148422     -0.214669   \n",
              "2          7             1  White    0     -0.148422     -0.214669   \n",
              "3          0             1  White    0     -0.148422     -0.214669   \n",
              "4          2             0  White    0     -0.148422     -0.214669   \n",
              "\n",
              "   hours-per-week native-country  income  disc  \n",
              "0       -1.664474              0       0     0  \n",
              "1       -0.033506              0       0     0  \n",
              "2        0.781978              0       0     0  \n",
              "3        0.374236              0       0     0  \n",
              "4       -1.990668              0       0     0  "
            ],
            "text/html": [
              "\n",
              "  <div id=\"df-3d5d158d-17c0-41c5-a9d2-ac2649b476c1\" class=\"colab-df-container\">\n",
              "    <div>\n",
              "<style scoped>\n",
              "    .dataframe tbody tr th:only-of-type {\n",
              "        vertical-align: middle;\n",
              "    }\n",
              "\n",
              "    .dataframe tbody tr th {\n",
              "        vertical-align: top;\n",
              "    }\n",
              "\n",
              "    .dataframe thead th {\n",
              "        text-align: right;\n",
              "    }\n",
              "</style>\n",
              "<table border=\"1\" class=\"dataframe\">\n",
              "  <thead>\n",
              "    <tr style=\"text-align: right;\">\n",
              "      <th></th>\n",
              "      <th>age</th>\n",
              "      <th>workclass</th>\n",
              "      <th>fnlwgt</th>\n",
              "      <th>education</th>\n",
              "      <th>education-num</th>\n",
              "      <th>marital-status</th>\n",
              "      <th>occupation</th>\n",
              "      <th>relationship</th>\n",
              "      <th>race</th>\n",
              "      <th>sex</th>\n",
              "      <th>capital-gain</th>\n",
              "      <th>capital-loss</th>\n",
              "      <th>hours-per-week</th>\n",
              "      <th>native-country</th>\n",
              "      <th>income</th>\n",
              "      <th>disc</th>\n",
              "    </tr>\n",
              "  </thead>\n",
              "  <tbody>\n",
              "    <tr>\n",
              "      <th>0</th>\n",
              "      <td>0.099955</td>\n",
              "      <td>0</td>\n",
              "      <td>-1.126899</td>\n",
              "      <td>15</td>\n",
              "      <td>0.000000</td>\n",
              "      <td>1</td>\n",
              "      <td>5</td>\n",
              "      <td>1</td>\n",
              "      <td>White</td>\n",
              "      <td>1</td>\n",
              "      <td>-0.148422</td>\n",
              "      <td>-0.214669</td>\n",
              "      <td>-1.664474</td>\n",
              "      <td>0</td>\n",
              "      <td>0</td>\n",
              "      <td>0</td>\n",
              "    </tr>\n",
              "    <tr>\n",
              "      <th>1</th>\n",
              "      <td>0.834313</td>\n",
              "      <td>0</td>\n",
              "      <td>-1.023629</td>\n",
              "      <td>0</td>\n",
              "      <td>0.533333</td>\n",
              "      <td>0</td>\n",
              "      <td>0</td>\n",
              "      <td>0</td>\n",
              "      <td>White</td>\n",
              "      <td>0</td>\n",
              "      <td>-0.148422</td>\n",
              "      <td>-0.214669</td>\n",
              "      <td>-0.033506</td>\n",
              "      <td>0</td>\n",
              "      <td>0</td>\n",
              "      <td>0</td>\n",
              "    </tr>\n",
              "    <tr>\n",
              "      <th>2</th>\n",
              "      <td>0.540570</td>\n",
              "      <td>0</td>\n",
              "      <td>-1.526850</td>\n",
              "      <td>4</td>\n",
              "      <td>0.666667</td>\n",
              "      <td>1</td>\n",
              "      <td>7</td>\n",
              "      <td>1</td>\n",
              "      <td>White</td>\n",
              "      <td>0</td>\n",
              "      <td>-0.148422</td>\n",
              "      <td>-0.214669</td>\n",
              "      <td>0.781978</td>\n",
              "      <td>0</td>\n",
              "      <td>0</td>\n",
              "      <td>0</td>\n",
              "    </tr>\n",
              "    <tr>\n",
              "      <th>3</th>\n",
              "      <td>-0.854711</td>\n",
              "      <td>0</td>\n",
              "      <td>0.024772</td>\n",
              "      <td>2</td>\n",
              "      <td>0.800000</td>\n",
              "      <td>1</td>\n",
              "      <td>0</td>\n",
              "      <td>1</td>\n",
              "      <td>White</td>\n",
              "      <td>0</td>\n",
              "      <td>-0.148422</td>\n",
              "      <td>-0.214669</td>\n",
              "      <td>0.374236</td>\n",
              "      <td>0</td>\n",
              "      <td>0</td>\n",
              "      <td>0</td>\n",
              "    </tr>\n",
              "    <tr>\n",
              "      <th>4</th>\n",
              "      <td>1.862414</td>\n",
              "      <td>0</td>\n",
              "      <td>2.728568</td>\n",
              "      <td>0</td>\n",
              "      <td>0.533333</td>\n",
              "      <td>0</td>\n",
              "      <td>2</td>\n",
              "      <td>0</td>\n",
              "      <td>White</td>\n",
              "      <td>0</td>\n",
              "      <td>-0.148422</td>\n",
              "      <td>-0.214669</td>\n",
              "      <td>-1.990668</td>\n",
              "      <td>0</td>\n",
              "      <td>0</td>\n",
              "      <td>0</td>\n",
              "    </tr>\n",
              "  </tbody>\n",
              "</table>\n",
              "</div>\n",
              "    <div class=\"colab-df-buttons\">\n",
              "\n",
              "  <div class=\"colab-df-container\">\n",
              "    <button class=\"colab-df-convert\" onclick=\"convertToInteractive('df-3d5d158d-17c0-41c5-a9d2-ac2649b476c1')\"\n",
              "            title=\"Convert this dataframe to an interactive table.\"\n",
              "            style=\"display:none;\">\n",
              "\n",
              "  <svg xmlns=\"http://www.w3.org/2000/svg\" height=\"24px\" viewBox=\"0 -960 960 960\">\n",
              "    <path d=\"M120-120v-720h720v720H120Zm60-500h600v-160H180v160Zm220 220h160v-160H400v160Zm0 220h160v-160H400v160ZM180-400h160v-160H180v160Zm440 0h160v-160H620v160ZM180-180h160v-160H180v160Zm440 0h160v-160H620v160Z\"/>\n",
              "  </svg>\n",
              "    </button>\n",
              "\n",
              "  <style>\n",
              "    .colab-df-container {\n",
              "      display:flex;\n",
              "      gap: 12px;\n",
              "    }\n",
              "\n",
              "    .colab-df-convert {\n",
              "      background-color: #E8F0FE;\n",
              "      border: none;\n",
              "      border-radius: 50%;\n",
              "      cursor: pointer;\n",
              "      display: none;\n",
              "      fill: #1967D2;\n",
              "      height: 32px;\n",
              "      padding: 0 0 0 0;\n",
              "      width: 32px;\n",
              "    }\n",
              "\n",
              "    .colab-df-convert:hover {\n",
              "      background-color: #E2EBFA;\n",
              "      box-shadow: 0px 1px 2px rgba(60, 64, 67, 0.3), 0px 1px 3px 1px rgba(60, 64, 67, 0.15);\n",
              "      fill: #174EA6;\n",
              "    }\n",
              "\n",
              "    .colab-df-buttons div {\n",
              "      margin-bottom: 4px;\n",
              "    }\n",
              "\n",
              "    [theme=dark] .colab-df-convert {\n",
              "      background-color: #3B4455;\n",
              "      fill: #D2E3FC;\n",
              "    }\n",
              "\n",
              "    [theme=dark] .colab-df-convert:hover {\n",
              "      background-color: #434B5C;\n",
              "      box-shadow: 0px 1px 3px 1px rgba(0, 0, 0, 0.15);\n",
              "      filter: drop-shadow(0px 1px 2px rgba(0, 0, 0, 0.3));\n",
              "      fill: #FFFFFF;\n",
              "    }\n",
              "  </style>\n",
              "\n",
              "    <script>\n",
              "      const buttonEl =\n",
              "        document.querySelector('#df-3d5d158d-17c0-41c5-a9d2-ac2649b476c1 button.colab-df-convert');\n",
              "      buttonEl.style.display =\n",
              "        google.colab.kernel.accessAllowed ? 'block' : 'none';\n",
              "\n",
              "      async function convertToInteractive(key) {\n",
              "        const element = document.querySelector('#df-3d5d158d-17c0-41c5-a9d2-ac2649b476c1');\n",
              "        const dataTable =\n",
              "          await google.colab.kernel.invokeFunction('convertToInteractive',\n",
              "                                                    [key], {});\n",
              "        if (!dataTable) return;\n",
              "\n",
              "        const docLinkHtml = 'Like what you see? Visit the ' +\n",
              "          '<a target=\"_blank\" href=https://colab.research.google.com/notebooks/data_table.ipynb>data table notebook</a>'\n",
              "          + ' to learn more about interactive tables.';\n",
              "        element.innerHTML = '';\n",
              "        dataTable['output_type'] = 'display_data';\n",
              "        await google.colab.output.renderOutput(dataTable, element);\n",
              "        const docLink = document.createElement('div');\n",
              "        docLink.innerHTML = docLinkHtml;\n",
              "        element.appendChild(docLink);\n",
              "      }\n",
              "    </script>\n",
              "  </div>\n",
              "\n",
              "\n",
              "<div id=\"df-8fe9bf46-05d2-4c72-a22d-67176009727f\">\n",
              "  <button class=\"colab-df-quickchart\" onclick=\"quickchart('df-8fe9bf46-05d2-4c72-a22d-67176009727f')\"\n",
              "            title=\"Suggest charts\"\n",
              "            style=\"display:none;\">\n",
              "\n",
              "<svg xmlns=\"http://www.w3.org/2000/svg\" height=\"24px\"viewBox=\"0 0 24 24\"\n",
              "     width=\"24px\">\n",
              "    <g>\n",
              "        <path d=\"M19 3H5c-1.1 0-2 .9-2 2v14c0 1.1.9 2 2 2h14c1.1 0 2-.9 2-2V5c0-1.1-.9-2-2-2zM9 17H7v-7h2v7zm4 0h-2V7h2v10zm4 0h-2v-4h2v4z\"/>\n",
              "    </g>\n",
              "</svg>\n",
              "  </button>\n",
              "\n",
              "<style>\n",
              "  .colab-df-quickchart {\n",
              "      --bg-color: #E8F0FE;\n",
              "      --fill-color: #1967D2;\n",
              "      --hover-bg-color: #E2EBFA;\n",
              "      --hover-fill-color: #174EA6;\n",
              "      --disabled-fill-color: #AAA;\n",
              "      --disabled-bg-color: #DDD;\n",
              "  }\n",
              "\n",
              "  [theme=dark] .colab-df-quickchart {\n",
              "      --bg-color: #3B4455;\n",
              "      --fill-color: #D2E3FC;\n",
              "      --hover-bg-color: #434B5C;\n",
              "      --hover-fill-color: #FFFFFF;\n",
              "      --disabled-bg-color: #3B4455;\n",
              "      --disabled-fill-color: #666;\n",
              "  }\n",
              "\n",
              "  .colab-df-quickchart {\n",
              "    background-color: var(--bg-color);\n",
              "    border: none;\n",
              "    border-radius: 50%;\n",
              "    cursor: pointer;\n",
              "    display: none;\n",
              "    fill: var(--fill-color);\n",
              "    height: 32px;\n",
              "    padding: 0;\n",
              "    width: 32px;\n",
              "  }\n",
              "\n",
              "  .colab-df-quickchart:hover {\n",
              "    background-color: var(--hover-bg-color);\n",
              "    box-shadow: 0 1px 2px rgba(60, 64, 67, 0.3), 0 1px 3px 1px rgba(60, 64, 67, 0.15);\n",
              "    fill: var(--button-hover-fill-color);\n",
              "  }\n",
              "\n",
              "  .colab-df-quickchart-complete:disabled,\n",
              "  .colab-df-quickchart-complete:disabled:hover {\n",
              "    background-color: var(--disabled-bg-color);\n",
              "    fill: var(--disabled-fill-color);\n",
              "    box-shadow: none;\n",
              "  }\n",
              "\n",
              "  .colab-df-spinner {\n",
              "    border: 2px solid var(--fill-color);\n",
              "    border-color: transparent;\n",
              "    border-bottom-color: var(--fill-color);\n",
              "    animation:\n",
              "      spin 1s steps(1) infinite;\n",
              "  }\n",
              "\n",
              "  @keyframes spin {\n",
              "    0% {\n",
              "      border-color: transparent;\n",
              "      border-bottom-color: var(--fill-color);\n",
              "      border-left-color: var(--fill-color);\n",
              "    }\n",
              "    20% {\n",
              "      border-color: transparent;\n",
              "      border-left-color: var(--fill-color);\n",
              "      border-top-color: var(--fill-color);\n",
              "    }\n",
              "    30% {\n",
              "      border-color: transparent;\n",
              "      border-left-color: var(--fill-color);\n",
              "      border-top-color: var(--fill-color);\n",
              "      border-right-color: var(--fill-color);\n",
              "    }\n",
              "    40% {\n",
              "      border-color: transparent;\n",
              "      border-right-color: var(--fill-color);\n",
              "      border-top-color: var(--fill-color);\n",
              "    }\n",
              "    60% {\n",
              "      border-color: transparent;\n",
              "      border-right-color: var(--fill-color);\n",
              "    }\n",
              "    80% {\n",
              "      border-color: transparent;\n",
              "      border-right-color: var(--fill-color);\n",
              "      border-bottom-color: var(--fill-color);\n",
              "    }\n",
              "    90% {\n",
              "      border-color: transparent;\n",
              "      border-bottom-color: var(--fill-color);\n",
              "    }\n",
              "  }\n",
              "</style>\n",
              "\n",
              "  <script>\n",
              "    async function quickchart(key) {\n",
              "      const quickchartButtonEl =\n",
              "        document.querySelector('#' + key + ' button');\n",
              "      quickchartButtonEl.disabled = true;  // To prevent multiple clicks.\n",
              "      quickchartButtonEl.classList.add('colab-df-spinner');\n",
              "      try {\n",
              "        const charts = await google.colab.kernel.invokeFunction(\n",
              "            'suggestCharts', [key], {});\n",
              "      } catch (error) {\n",
              "        console.error('Error during call to suggestCharts:', error);\n",
              "      }\n",
              "      quickchartButtonEl.classList.remove('colab-df-spinner');\n",
              "      quickchartButtonEl.classList.add('colab-df-quickchart-complete');\n",
              "    }\n",
              "    (() => {\n",
              "      let quickchartButtonEl =\n",
              "        document.querySelector('#df-8fe9bf46-05d2-4c72-a22d-67176009727f button');\n",
              "      quickchartButtonEl.style.display =\n",
              "        google.colab.kernel.accessAllowed ? 'block' : 'none';\n",
              "    })();\n",
              "  </script>\n",
              "</div>\n",
              "\n",
              "    </div>\n",
              "  </div>\n"
            ],
            "application/vnd.google.colaboratory.intrinsic+json": {
              "type": "dataframe",
              "variable_name": "t_corrected",
              "summary": "{\n  \"name\": \"t_corrected\",\n  \"rows\": 16280,\n  \"fields\": [\n    {\n      \"column\": \"age\",\n      \"properties\": {\n        \"dtype\": \"number\",\n        \"std\": 1.0000000000000295,\n        \"min\": -1.5890689193756447,\n        \"max\": 3.7717455058780334,\n        \"num_unique_values\": 72,\n        \"samples\": [\n          1.8624143407191893,\n          2.376465039031186,\n          0.6874413160060543\n        ],\n        \"semantic_type\": \"\",\n        \"description\": \"\"\n      }\n    },\n    {\n      \"column\": \"workclass\",\n      \"properties\": {\n        \"dtype\": \"category\",\n        \"num_unique_values\": 9,\n        \"samples\": [\n          \"7\",\n          \"1\",\n          \"3\"\n        ],\n        \"semantic_type\": \"\",\n        \"description\": \"\"\n      }\n    },\n    {\n      \"column\": \"fnlwgt\",\n      \"properties\": {\n        \"dtype\": \"number\",\n        \"std\": 1.0000000000000036,\n        \"min\": -1.6796659610458444,\n        \"max\": 11.98938975119933,\n        \"num_unique_values\": 12767,\n        \"samples\": [\n          1.2327147738523179,\n          1.058445324349772,\n          -0.3234444454242876\n        ],\n        \"semantic_type\": \"\",\n        \"description\": \"\"\n      }\n    },\n    {\n      \"column\": \"education\",\n      \"properties\": {\n        \"dtype\": \"number\",\n        \"std\": 3,\n        \"min\": 0,\n        \"max\": 15,\n        \"num_unique_values\": 16,\n        \"samples\": [\n          15,\n          0,\n          5\n        ],\n        \"semantic_type\": \"\",\n        \"description\": \"\"\n      }\n    },\n    {\n      \"column\": \"education-num\",\n      \"properties\": {\n        \"dtype\": \"number\",\n        \"std\": 0.17105496731839848,\n        \"min\": 0.0,\n        \"max\": 1.0,\n        \"num_unique_values\": 16,\n        \"samples\": [\n          0.0,\n          0.5333333333333333,\n          0.4\n        ],\n        \"semantic_type\": \"\",\n        \"description\": \"\"\n      }\n    },\n    {\n      \"column\": \"marital-status\",\n      \"properties\": {\n        \"dtype\": \"number\",\n        \"std\": 1,\n        \"min\": 0,\n        \"max\": 6,\n        \"num_unique_values\": 7,\n        \"samples\": [\n          1,\n          0,\n          5\n        ],\n        \"semantic_type\": \"\",\n        \"description\": \"\"\n      }\n    },\n    {\n      \"column\": \"occupation\",\n      \"properties\": {\n        \"dtype\": \"category\",\n        \"num_unique_values\": 15,\n        \"samples\": [\n          \"11\",\n          \"13\",\n          \"5\"\n        ],\n        \"semantic_type\": \"\",\n        \"description\": \"\"\n      }\n    },\n    {\n      \"column\": \"relationship\",\n      \"properties\": {\n        \"dtype\": \"number\",\n        \"std\": 1,\n        \"min\": 0,\n        \"max\": 5,\n        \"num_unique_values\": 6,\n        \"samples\": [\n          1,\n          0,\n          5\n        ],\n        \"semantic_type\": \"\",\n        \"description\": \"\"\n      }\n    },\n    {\n      \"column\": \"race\",\n      \"properties\": {\n        \"dtype\": \"category\",\n        \"num_unique_values\": 5,\n        \"samples\": [\n          \"Amer-Indian-Eskimo\",\n          \"Other\",\n          \"Asian-Pac-Islander\"\n        ],\n        \"semantic_type\": \"\",\n        \"description\": \"\"\n      }\n    },\n    {\n      \"column\": \"sex\",\n      \"properties\": {\n        \"dtype\": \"number\",\n        \"std\": 0,\n        \"min\": 0,\n        \"max\": 1,\n        \"num_unique_values\": 2,\n        \"samples\": [\n          0,\n          1\n        ],\n        \"semantic_type\": \"\",\n        \"description\": \"\"\n      }\n    },\n    {\n      \"column\": \"capital-gain\",\n      \"properties\": {\n        \"dtype\": \"number\",\n        \"std\": 1.00000000000023,\n        \"min\": -0.14842177755199898,\n        \"max\": 13.182806038871291,\n        \"num_unique_values\": 105,\n        \"samples\": [\n          0.19779367099499934,\n          3.2009493927578916\n        ],\n        \"semantic_type\": \"\",\n        \"description\": \"\"\n      }\n    },\n    {\n      \"column\": \"capital-loss\",\n      \"properties\": {\n        \"dtype\": \"number\",\n        \"std\": 1.0000000000000404,\n        \"min\": -0.21466878158112948,\n        \"max\": 10.650871570148102,\n        \"num_unique_values\": 78,\n        \"samples\": [\n          3.2275822940355687,\n          -0.21466878158112948\n        ],\n        \"semantic_type\": \"\",\n        \"description\": \"\"\n      }\n    },\n    {\n      \"column\": \"hours-per-week\",\n      \"properties\": {\n        \"dtype\": \"number\",\n        \"std\": 1.000000000000024,\n        \"min\": -3.213894325905951,\n        \"max\": 4.777850745194034,\n        \"num_unique_values\": 89,\n        \"samples\": [\n          -0.604344914934527,\n          4.696302326101177\n        ],\n        \"semantic_type\": \"\",\n        \"description\": \"\"\n      }\n    },\n    {\n      \"column\": \"native-country\",\n      \"properties\": {\n        \"dtype\": \"category\",\n        \"num_unique_values\": 41,\n        \"samples\": [\n          \"19\",\n          \"7\"\n        ],\n        \"semantic_type\": \"\",\n        \"description\": \"\"\n      }\n    },\n    {\n      \"column\": \"income\",\n      \"properties\": {\n        \"dtype\": \"number\",\n        \"std\": 0,\n        \"min\": 0,\n        \"max\": 1,\n        \"num_unique_values\": 2,\n        \"samples\": [\n          1,\n          0\n        ],\n        \"semantic_type\": \"\",\n        \"description\": \"\"\n      }\n    },\n    {\n      \"column\": \"disc\",\n      \"properties\": {\n        \"dtype\": \"number\",\n        \"std\": 0,\n        \"min\": 0,\n        \"max\": 1,\n        \"num_unique_values\": 2,\n        \"samples\": [\n          1,\n          0\n        ],\n        \"semantic_type\": \"\",\n        \"description\": \"\"\n      }\n    }\n  ]\n}"
            }
          },
          "metadata": {},
          "execution_count": 94
        }
      ]
    },
    {
      "cell_type": "markdown",
      "source": [
        "## ***Data Preprocessing for Classification***"
      ],
      "metadata": {
        "id": "OieI6c_byznf"
      }
    },
    {
      "cell_type": "code",
      "source": [
        "# For classification, drop missing values from t-labeled and t-corrected dataset.\n",
        "\n",
        "t_labeled_new = t_labeled.drop(t_labeled[t_labeled['workclass'] == '?'].index)\n",
        "t_labeled_new = t_labeled_new.drop(t_labeled_new[t_labeled_new['occupation'] == '?'].index)\n",
        "t_labeled_new = t_labeled_new.drop(t_labeled_new[t_labeled_new['native-country'] == '?'].index)\n",
        "\n",
        "t_corrected_new = t_corrected.drop(t_corrected[t_corrected['workclass'] == '?'].index)\n",
        "t_corrected_new = t_corrected_new.drop(t_corrected_new[t_corrected_new['occupation'] == '?'].index)\n",
        "t_corrected_new = t_corrected_new.drop(t_corrected_new[t_corrected_new['native-country'] == '?'].index)"
      ],
      "metadata": {
        "id": "Me8FsVrbAVRv"
      },
      "execution_count": 95,
      "outputs": []
    },
    {
      "cell_type": "code",
      "source": [
        "# Drop NaN values from t-labeled and t-corrected dataset.\n",
        "\n",
        "t_labeled_clean = t_labeled_new.dropna(ignore_index=True)\n",
        "t_corrected_clean = t_corrected_new.dropna(ignore_index=True)"
      ],
      "metadata": {
        "id": "tjactbTHImkP"
      },
      "execution_count": 96,
      "outputs": []
    },
    {
      "cell_type": "code",
      "source": [
        "# Convert the dataype of encoded columns from object to int.\n",
        "\n",
        "convert_dtype = {'workclass': int, 'occupation': int, 'native-country': int}\n",
        "\n",
        "t_labeled_clean = t_labeled_clean.astype(convert_dtype)\n",
        "t_corrected_clean = t_corrected_clean.astype(convert_dtype)"
      ],
      "metadata": {
        "id": "L6blWKlmGN6L"
      },
      "execution_count": 97,
      "outputs": []
    },
    {
      "cell_type": "code",
      "source": [
        "print('Cleaned t-labeled dataset shape : ', t_labeled_clean.shape)\n",
        "print('Cleaned t-corrected dataset shape : ', t_corrected_clean.shape)"
      ],
      "metadata": {
        "colab": {
          "base_uri": "https://localhost:8080/"
        },
        "id": "HhRzrsgRncLe",
        "outputId": "dc9b5489-41ed-4f2b-d1a5-d584f9b19b06"
      },
      "execution_count": 98,
      "outputs": [
        {
          "output_type": "stream",
          "name": "stdout",
          "text": [
            "Cleaned t-labeled dataset shape :  (15086, 16)\n",
            "Cleaned t-corrected dataset shape :  (15086, 16)\n"
          ]
        }
      ]
    },
    {
      "cell_type": "code",
      "source": [
        "# Train-test split of t-labeled and t-corrected dataset.\n",
        "\n",
        "y = t_labeled_clean['disc']\n",
        "\n",
        "final_tlab = t_labeled_clean.copy()\n",
        "final_tcor = t_corrected_clean.copy()\n",
        "\n",
        "tlab_X_train, tlab_X_test, tlab_y_train, tlab_y_test = train_test_split(final_tlab, y, test_size=0.3, random_state=42)\n",
        "tcor_X_train, tcor_X_test, tcor_y_train, tcor_y_test = train_test_split(final_tcor, y, test_size=0.3, random_state=42)"
      ],
      "metadata": {
        "id": "6Fcgtgyr-6mj"
      },
      "execution_count": 99,
      "outputs": []
    },
    {
      "cell_type": "code",
      "source": [
        "# Set of legally-grounded attributes.\n",
        "\n",
        "G = ['age', 'workclass', 'fnlwgt', 'education', 'education-num',\n",
        "     'marital-status', 'occupation', 'relationship', 'sex',\n",
        "     'capital-gain', 'capital-loss', 'hours-per-week', 'native-country','income']"
      ],
      "metadata": {
        "id": "gWlt28XS_1-C"
      },
      "execution_count": 100,
      "outputs": []
    },
    {
      "cell_type": "code",
      "source": [
        "# Project the train and test data on the set of G attributes.\n",
        "\n",
        "tlab_X_train_proj = tlab_X_train[G]\n",
        "tlab_X_test_proj = tlab_X_test[G]\n",
        "tcor_X_train_proj = tcor_X_train[G]\n",
        "tcor_X_test_proj = tcor_X_test[G]"
      ],
      "metadata": {
        "id": "bOLziQDxM2_C"
      },
      "execution_count": 101,
      "outputs": []
    },
    {
      "cell_type": "markdown",
      "source": [
        "## ***Classification***"
      ],
      "metadata": {
        "id": "tNDos8baoLSO"
      }
    },
    {
      "cell_type": "markdown",
      "source": [
        "### 1. Naive Bayes Classifier"
      ],
      "metadata": {
        "id": "IZs8bXC8oQX3"
      }
    },
    {
      "cell_type": "code",
      "source": [
        "# Naive bayes classification on t_labeled dataset.\n",
        "\n",
        "from sklearn.naive_bayes import GaussianNB\n",
        "from sklearn import metrics\n",
        "\n",
        "gnb_tlab = GaussianNB()\n",
        "gnb_tlab.fit(tlab_X_train_proj, tlab_y_train)\n",
        "\n",
        "gnb_tlab_y_pred = gnb_tlab.predict(tlab_X_test_proj)\n",
        "gnb_tlab_accuracy = metrics.accuracy_score(tlab_y_test, gnb_tlab_y_pred)\n",
        "\n",
        "print(\"Naive Bayes accuracy (T-labeled dataset) : \", round(gnb_tlab_accuracy*100,2), \"%\")"
      ],
      "metadata": {
        "colab": {
          "base_uri": "https://localhost:8080/"
        },
        "id": "lBSXi2EmI8FW",
        "outputId": "12caf213-db43-4179-e638-a524424e33be"
      },
      "execution_count": 102,
      "outputs": [
        {
          "output_type": "stream",
          "name": "stdout",
          "text": [
            "Naive Bayes accuracy (T-labeled dataset) :  31.18 %\n"
          ]
        }
      ]
    },
    {
      "cell_type": "code",
      "source": [
        "# Function implementation of 0.10-discrimination.\n",
        "\n",
        "def disc_0_10(D, k, y_pred, t,interval_attr,nominal_attr,ordinal_attr):\n",
        "  k1_test, k2_test = knn(R=D,k=k,interval_attr=interval_attr,nominal_attr=nominal_attr,ordinal_attr=ordinal_attr)\n",
        "  bias_test = bias_calc(R=D,k=k,K1=k1_test,K2=k2_test,dec=0)\n",
        "  frac = 0\n",
        "  total_pr = 0\n",
        "  j=0\n",
        "  for i in D.index.tolist():\n",
        "    if D.loc[i,'race'] != 'White':\n",
        "      if y_pred[j] == 1 and bias_test[total_pr] >= t:\n",
        "        frac += 1\n",
        "      total_pr += 1\n",
        "    j+=1\n",
        "  prop = frac/total_pr\n",
        "  return prop"
      ],
      "metadata": {
        "id": "rMMksU23LMKt"
      },
      "execution_count": 103,
      "outputs": []
    },
    {
      "cell_type": "code",
      "source": [
        "# Calculate the 0.10 discrimination for t-labeled dataset.\n",
        "\n",
        "tlab_0_10_discr = disc_0_10(D = tlab_X_test, k = 32, y_pred = gnb_tlab_y_pred, t = 0.10,\n",
        "                            interval_attr = interval_attr, nominal_attr = nominal_attr, ordinal_attr = ordinal_attr)\n",
        "\n",
        "print('0.10-discrimination for t-labeled dataset: ', round(tlab_0_10_discr*100,2), \"%\")"
      ],
      "metadata": {
        "colab": {
          "base_uri": "https://localhost:8080/"
        },
        "id": "nDyFpDivK59j",
        "outputId": "ffdd839b-434a-4d2b-938d-349f52f99c49"
      },
      "execution_count": 104,
      "outputs": [
        {
          "output_type": "stream",
          "name": "stdout",
          "text": [
            "0.10-discrimination for t-labeled dataset:  15.56 %\n"
          ]
        }
      ]
    },
    {
      "cell_type": "code",
      "source": [
        "# Naive bayes classification on t_corrected dataset.\n",
        "\n",
        "gnb_tcor = GaussianNB()\n",
        "gnb_tcor.fit(tcor_X_train_proj, tcor_y_train)\n",
        "\n",
        "gnb_tcor_y_pred = gnb_tcor.predict(tcor_X_test_proj)\n",
        "gnb_tcor_accuracy = metrics.accuracy_score(tcor_y_test, gnb_tcor_y_pred)\n",
        "\n",
        "print(\"Naive Bayes accuracy: \", round(gnb_tcor_accuracy*100,2),\"%\")"
      ],
      "metadata": {
        "colab": {
          "base_uri": "https://localhost:8080/"
        },
        "id": "Dztxq-oYKlh6",
        "outputId": "a094f62b-3158-450a-ae11-37712d87693d"
      },
      "execution_count": 105,
      "outputs": [
        {
          "output_type": "stream",
          "name": "stdout",
          "text": [
            "Naive Bayes accuracy:  82.39 %\n"
          ]
        }
      ]
    },
    {
      "cell_type": "code",
      "source": [
        "# Calculate the 0.10 discrimination for t-corrected dataset.\n",
        "\n",
        "tcor_0_10_discr = disc_0_10(D=tcor_X_test, k = 32, y_pred = gnb_tcor_y_pred, t = 0.10, \\\n",
        "                            interval_attr=interval_attr,nominal_attr=nominal_attr,ordinal_attr=ordinal_attr)\n",
        "\n",
        "print('0.10-discrimination for t-corrected dataset: ', round(tcor_0_10_discr*100,2),\"%\")"
      ],
      "metadata": {
        "colab": {
          "base_uri": "https://localhost:8080/"
        },
        "id": "AyHoF7PiLJ-G",
        "outputId": "06996f4c-50cd-4231-88e6-c48da3437f06"
      },
      "execution_count": 106,
      "outputs": [
        {
          "output_type": "stream",
          "name": "stdout",
          "text": [
            "0.10-discrimination for t-corrected dataset:  3.02 %\n"
          ]
        }
      ]
    },
    {
      "cell_type": "markdown",
      "source": [
        "### 2. Logistic Regression Classifier"
      ],
      "metadata": {
        "id": "2GoTZY37rZgr"
      }
    },
    {
      "cell_type": "code",
      "source": [
        "# Logistic regression classification on t_labeled dataset.\n",
        "\n",
        "from sklearn.linear_model import LogisticRegression\n",
        "\n",
        "tlab_log = LogisticRegression()\n",
        "tlab_log.fit(tlab_X_train_proj, tlab_y_train)\n",
        "\n",
        "log_tlab_y_pred = tlab_log.predict(tlab_X_test_proj)\n",
        "log_tlab_accuracy = metrics.accuracy_score(tlab_y_test, log_tlab_y_pred)\n",
        "\n",
        "print(\"Logistic Regression accuracy (T-labeled dataset): \", round(log_tlab_accuracy*100,2),\"%\")"
      ],
      "metadata": {
        "colab": {
          "base_uri": "https://localhost:8080/"
        },
        "id": "7CwaLwTyXaF9",
        "outputId": "084d8397-c199-48c4-deb8-8b70adb614d7"
      },
      "execution_count": 107,
      "outputs": [
        {
          "output_type": "stream",
          "name": "stdout",
          "text": [
            "Logistic Regression accuracy (T-labeled dataset):  98.54 %\n"
          ]
        }
      ]
    },
    {
      "cell_type": "code",
      "source": [
        "# Calculate the 0.10 discrimination for t_labeled dataset.\n",
        "\n",
        "log_tlab_0_10_discr = disc_0_10(D=tlab_X_test, k = 16, y_pred = log_tlab_y_pred, t = 0.10, \\\n",
        "                            interval_attr=interval_attr,nominal_attr=nominal_attr,ordinal_attr=ordinal_attr)\n",
        "\n",
        "print('0.10-discrimination for t-labeled dataset: ', round(log_tlab_0_10_discr*100,2),\"%\")"
      ],
      "metadata": {
        "colab": {
          "base_uri": "https://localhost:8080/"
        },
        "id": "lWMDmNjzPppH",
        "outputId": "f5f3d490-f8ee-4f00-fc2f-e2f7a6b15218"
      },
      "execution_count": 108,
      "outputs": [
        {
          "output_type": "stream",
          "name": "stdout",
          "text": [
            "0.10-discrimination for t-labeled dataset:  0.0 %\n"
          ]
        }
      ]
    },
    {
      "cell_type": "code",
      "source": [
        "# Logistic regression classification on t_corrected dataset.\n",
        "\n",
        "tcor_log = LogisticRegression()\n",
        "tcor_log.fit(tcor_X_train_proj, tcor_y_train)\n",
        "\n",
        "log_tcor_y_pred = tcor_log.predict(tcor_X_test_proj)\n",
        "log_tcor_accuracy = metrics.accuracy_score(tcor_y_test, log_tcor_y_pred)\n",
        "\n",
        "print(\"Logistic Regression accuracy (T-corrected dataset): \", round(log_tcor_accuracy*100,2),\"%\")"
      ],
      "metadata": {
        "colab": {
          "base_uri": "https://localhost:8080/"
        },
        "id": "7Vt6DmKNXclq",
        "outputId": "6cdaaa99-c6e4-4887-efe5-d99f090b8afb"
      },
      "execution_count": 109,
      "outputs": [
        {
          "output_type": "stream",
          "name": "stdout",
          "text": [
            "Logistic Regression accuracy (T-corrected dataset):  98.92 %\n"
          ]
        }
      ]
    },
    {
      "cell_type": "code",
      "source": [
        "# Calculate the 0.10 discrimination for t_corrected dataset.\n",
        "\n",
        "log_tcor_0_10_discr = disc_0_10(D=tcor_X_test, k = 16, y_pred = log_tcor_y_pred, t = 0.10, \\\n",
        "                            interval_attr=interval_attr,nominal_attr=nominal_attr,ordinal_attr=ordinal_attr)\n",
        "\n",
        "print('0.10-discrimination for t-labeled dataset: ', round(log_tcor_0_10_discr*100,2),\"%\")"
      ],
      "metadata": {
        "id": "x1c2gmezYRiL",
        "colab": {
          "base_uri": "https://localhost:8080/"
        },
        "outputId": "729b2eb5-8f5b-4a65-9918-b1552f7b66ae"
      },
      "execution_count": 110,
      "outputs": [
        {
          "output_type": "stream",
          "name": "stdout",
          "text": [
            "0.10-discrimination for t-labeled dataset:  0.79 %\n"
          ]
        }
      ]
    },
    {
      "cell_type": "markdown",
      "source": [
        "### 3. Decision Tree Classifier"
      ],
      "metadata": {
        "id": "6eo_AQ5r4Sww"
      }
    },
    {
      "cell_type": "code",
      "source": [
        "# Decision Trees classification for t-labeled dataset.\n",
        "\n",
        "from sklearn.tree import DecisionTreeClassifier\n",
        "\n",
        "tlab_dt = DecisionTreeClassifier(criterion=\"entropy\", random_state=42, max_depth=5)\n",
        "tlab_dt.fit(tlab_X_train_proj, tlab_y_train)\n",
        "\n",
        "dt_tlab_y_pred = tlab_dt.predict(tlab_X_test_proj)\n",
        "dt_tlab_accuracy = metrics.accuracy_score(tlab_y_test, dt_tlab_y_pred)\n",
        "\n",
        "print(\"Decision accuracy (T-labeled dataset): \", round(dt_tlab_accuracy*100,2),\"%\")"
      ],
      "metadata": {
        "colab": {
          "base_uri": "https://localhost:8080/"
        },
        "id": "nTF3D_C_Qqj3",
        "outputId": "22c3b02f-8b92-4407-d02a-cc8b3a8643db"
      },
      "execution_count": 111,
      "outputs": [
        {
          "output_type": "stream",
          "name": "stdout",
          "text": [
            "Decision accuracy (T-labeled dataset):  98.54 %\n"
          ]
        }
      ]
    },
    {
      "cell_type": "code",
      "source": [
        "# Calculate the 0.10 discrimination for t_labeled dataset.\n",
        "\n",
        "dt_tlab_0_10_discr = disc_0_10(D=tlab_X_test, k = 16, y_pred = dt_tlab_y_pred, t = 0.10, \\\n",
        "                            interval_attr=interval_attr,nominal_attr=nominal_attr,ordinal_attr=ordinal_attr)\n",
        "\n",
        "print('0.10-discrimination for t-labeled dataset: ', round(dt_tlab_0_10_discr*100,2),\"%\")"
      ],
      "metadata": {
        "colab": {
          "base_uri": "https://localhost:8080/"
        },
        "id": "jZzPFtO1RWmY",
        "outputId": "31317324-bfac-4027-f6a5-207064de4941"
      },
      "execution_count": 112,
      "outputs": [
        {
          "output_type": "stream",
          "name": "stdout",
          "text": [
            "0.10-discrimination for t-labeled dataset:  0.0 %\n"
          ]
        }
      ]
    },
    {
      "cell_type": "code",
      "source": [
        "# Decision Trees classification for t_corrected dataset.\n",
        "\n",
        "tcor_dt = DecisionTreeClassifier(criterion=\"entropy\", random_state=42)\n",
        "tcor_dt.fit(tcor_X_train_proj, tcor_y_train)\n",
        "\n",
        "dt_tcor_y_pred = tcor_dt.predict(tcor_X_test_proj)\n",
        "dt_tcor_accuracy = metrics.accuracy_score(tcor_y_test, dt_tcor_y_pred)\n",
        "\n",
        "print(\"Decision accuracy (T-corrected dataset): \", round(dt_tcor_accuracy*100,2),\"%\")"
      ],
      "metadata": {
        "colab": {
          "base_uri": "https://localhost:8080/"
        },
        "id": "Tu3PiZFBTqWO",
        "outputId": "451cfdc6-33df-46d3-880a-14727a086ffb"
      },
      "execution_count": 113,
      "outputs": [
        {
          "output_type": "stream",
          "name": "stdout",
          "text": [
            "Decision accuracy (T-corrected dataset):  98.67 %\n"
          ]
        }
      ]
    },
    {
      "cell_type": "code",
      "source": [
        "# Calculate the 0.10 discrimination for t_corrected dataset.\n",
        "\n",
        "dt_tcor_0_10_discr = disc_0_10(D=tcor_X_test, k = 16, y_pred = dt_tcor_y_pred, t = 0.10, \\\n",
        "                            interval_attr=interval_attr,nominal_attr=nominal_attr,ordinal_attr=ordinal_attr)\n",
        "\n",
        "print('0.10-discrimination for t-corrected dataset: ', round(dt_tcor_0_10_discr*100,2),\"%\")"
      ],
      "metadata": {
        "colab": {
          "base_uri": "https://localhost:8080/"
        },
        "id": "DfXk_oEoTsLV",
        "outputId": "5b5f852c-0934-4dd8-cf6f-e042e47153ea"
      },
      "execution_count": 114,
      "outputs": [
        {
          "output_type": "stream",
          "name": "stdout",
          "text": [
            "0.10-discrimination for t-corrected dataset:  2.06 %\n"
          ]
        }
      ]
    }
  ]
}