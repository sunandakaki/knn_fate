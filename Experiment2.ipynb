{
  "nbformat": 4,
  "nbformat_minor": 0,
  "metadata": {
    "colab": {
      "provenance": []
    },
    "kernelspec": {
      "name": "python3",
      "display_name": "Python 3"
    },
    "language_info": {
      "name": "python"
    }
  },
  "cells": [
    {
      "cell_type": "markdown",
      "source": [
        "# **DA421: Fairness in AI Models**\n",
        "## Assignment - 01"
      ],
      "metadata": {
        "id": "vdG8DsSr6ToY"
      }
    },
    {
      "cell_type": "markdown",
      "source": [
        "## **Experiment 1**\n",
        "\n",
        "### *Problem Statement*:\n",
        "\n",
        "Implement the *situation testing* using *k−nearest neighbor algorithm* on the *adult* (also known as *census-income*) dataset. Use the protected attribute as **marital status**. Implement both *DiscoverN* and\n",
        "*PreventionN* algorithms. On the pre-processed data, implement *C4.5*, *Naive Bayes* and *Logistic regression* classi-fiers and report accuracy obtained, t = 0.10 discrimination. Compare your results withthe results obtained in the paper as given in table 2 (title: k-NN as an Implementationof Situation Testing for Discrimination Discovery and Prevention, SIGKDD, 2011)."
      ],
      "metadata": {
        "id": "zudukFSJ6XSS"
      }
    },
    {
      "cell_type": "markdown",
      "source": [
        "Dataset Information:\n",
        "\n",
        "| Variable Name     | Type     | Missing Values |\n",
        "| :---------------- | :------: | ----: |\n",
        "| age        |   Integer   | no |\n",
        "| workclass\t           |   Categorical   | yes |\n",
        "| fnlwgt    |  Integer   | no |\n",
        "| education |  Categorical   | no |\n",
        "| education-num |  Integer   | no |\n",
        "| marital-status |  Categorical   | no |\n",
        "| occupation |  Categorical   | yes |\n",
        "| relationship |  Categorical   | no |\n",
        "| race |  Categorical   | no |\n",
        "| sex |  Binary   | no |\n",
        "| capital-gain |  Integer   | no |\n",
        "| capital-loss |  Integer   | no |\n",
        "| hours-per-week |  Integer   | no |\n",
        "| native-country |  Categorical   | yes |\n",
        "| income |  Binary   | no |"
      ],
      "metadata": {
        "id": "zLhY6kF-6fZ_"
      }
    },
    {
      "cell_type": "code",
      "execution_count": 58,
      "metadata": {
        "id": "gpSzH-_Gg_Si"
      },
      "outputs": [],
      "source": [
        "# Import Necessary Libraries\n",
        "\n",
        "import pandas as pd\n",
        "import numpy as np\n",
        "import matplotlib.pyplot as plt\n",
        "from sklearn.preprocessing import LabelEncoder\n",
        "from sklearn.model_selection import train_test_split\n",
        "import scipy.spatial.distance as d"
      ]
    },
    {
      "cell_type": "markdown",
      "source": [
        "## ***Data Preprocessing for kNN***\n",
        "\n",
        "\n"
      ],
      "metadata": {
        "id": "K76k3gPm6mGg"
      }
    },
    {
      "cell_type": "code",
      "source": [
        "# Column names of the dataset.\n",
        "\n",
        "col_names = ['age','workclass','fnlwgt','education','education-num','marital-status','occupation',\\\n",
        "             'relationship','race','sex','capital-gain','capital-loss','hours-per-week','native-country','income']"
      ],
      "metadata": {
        "id": "3QvHEqqV6h5I"
      },
      "execution_count": 59,
      "outputs": []
    },
    {
      "cell_type": "code",
      "source": [
        "# Read the data into the dataframes from the csv files.\n",
        "\n",
        "data = pd.read_csv('/content/drive/MyDrive/adult/adult.data', header=None, skipinitialspace=True,names = col_names)"
      ],
      "metadata": {
        "id": "fzJF9T696ooE"
      },
      "execution_count": 60,
      "outputs": []
    },
    {
      "cell_type": "code",
      "source": [
        "data.head()"
      ],
      "metadata": {
        "colab": {
          "base_uri": "https://localhost:8080/",
          "height": 293
        },
        "id": "HeUMsE9f6q4y",
        "outputId": "cd0e100f-3af8-4f6b-f957-64e43ebf999d"
      },
      "execution_count": 61,
      "outputs": [
        {
          "output_type": "execute_result",
          "data": {
            "text/plain": [
              "   age         workclass  fnlwgt  education  education-num  \\\n",
              "0   39         State-gov   77516  Bachelors             13   \n",
              "1   50  Self-emp-not-inc   83311  Bachelors             13   \n",
              "2   38           Private  215646    HS-grad              9   \n",
              "3   53           Private  234721       11th              7   \n",
              "4   28           Private  338409  Bachelors             13   \n",
              "\n",
              "       marital-status         occupation   relationship   race     sex  \\\n",
              "0       Never-married       Adm-clerical  Not-in-family  White    Male   \n",
              "1  Married-civ-spouse    Exec-managerial        Husband  White    Male   \n",
              "2            Divorced  Handlers-cleaners  Not-in-family  White    Male   \n",
              "3  Married-civ-spouse  Handlers-cleaners        Husband  Black    Male   \n",
              "4  Married-civ-spouse     Prof-specialty           Wife  Black  Female   \n",
              "\n",
              "   capital-gain  capital-loss  hours-per-week native-country income  \n",
              "0          2174             0              40  United-States  <=50K  \n",
              "1             0             0              13  United-States  <=50K  \n",
              "2             0             0              40  United-States  <=50K  \n",
              "3             0             0              40  United-States  <=50K  \n",
              "4             0             0              40           Cuba  <=50K  "
            ],
            "text/html": [
              "\n",
              "  <div id=\"df-0c0ee974-7887-4b6a-a560-349940519633\" class=\"colab-df-container\">\n",
              "    <div>\n",
              "<style scoped>\n",
              "    .dataframe tbody tr th:only-of-type {\n",
              "        vertical-align: middle;\n",
              "    }\n",
              "\n",
              "    .dataframe tbody tr th {\n",
              "        vertical-align: top;\n",
              "    }\n",
              "\n",
              "    .dataframe thead th {\n",
              "        text-align: right;\n",
              "    }\n",
              "</style>\n",
              "<table border=\"1\" class=\"dataframe\">\n",
              "  <thead>\n",
              "    <tr style=\"text-align: right;\">\n",
              "      <th></th>\n",
              "      <th>age</th>\n",
              "      <th>workclass</th>\n",
              "      <th>fnlwgt</th>\n",
              "      <th>education</th>\n",
              "      <th>education-num</th>\n",
              "      <th>marital-status</th>\n",
              "      <th>occupation</th>\n",
              "      <th>relationship</th>\n",
              "      <th>race</th>\n",
              "      <th>sex</th>\n",
              "      <th>capital-gain</th>\n",
              "      <th>capital-loss</th>\n",
              "      <th>hours-per-week</th>\n",
              "      <th>native-country</th>\n",
              "      <th>income</th>\n",
              "    </tr>\n",
              "  </thead>\n",
              "  <tbody>\n",
              "    <tr>\n",
              "      <th>0</th>\n",
              "      <td>39</td>\n",
              "      <td>State-gov</td>\n",
              "      <td>77516</td>\n",
              "      <td>Bachelors</td>\n",
              "      <td>13</td>\n",
              "      <td>Never-married</td>\n",
              "      <td>Adm-clerical</td>\n",
              "      <td>Not-in-family</td>\n",
              "      <td>White</td>\n",
              "      <td>Male</td>\n",
              "      <td>2174</td>\n",
              "      <td>0</td>\n",
              "      <td>40</td>\n",
              "      <td>United-States</td>\n",
              "      <td>&lt;=50K</td>\n",
              "    </tr>\n",
              "    <tr>\n",
              "      <th>1</th>\n",
              "      <td>50</td>\n",
              "      <td>Self-emp-not-inc</td>\n",
              "      <td>83311</td>\n",
              "      <td>Bachelors</td>\n",
              "      <td>13</td>\n",
              "      <td>Married-civ-spouse</td>\n",
              "      <td>Exec-managerial</td>\n",
              "      <td>Husband</td>\n",
              "      <td>White</td>\n",
              "      <td>Male</td>\n",
              "      <td>0</td>\n",
              "      <td>0</td>\n",
              "      <td>13</td>\n",
              "      <td>United-States</td>\n",
              "      <td>&lt;=50K</td>\n",
              "    </tr>\n",
              "    <tr>\n",
              "      <th>2</th>\n",
              "      <td>38</td>\n",
              "      <td>Private</td>\n",
              "      <td>215646</td>\n",
              "      <td>HS-grad</td>\n",
              "      <td>9</td>\n",
              "      <td>Divorced</td>\n",
              "      <td>Handlers-cleaners</td>\n",
              "      <td>Not-in-family</td>\n",
              "      <td>White</td>\n",
              "      <td>Male</td>\n",
              "      <td>0</td>\n",
              "      <td>0</td>\n",
              "      <td>40</td>\n",
              "      <td>United-States</td>\n",
              "      <td>&lt;=50K</td>\n",
              "    </tr>\n",
              "    <tr>\n",
              "      <th>3</th>\n",
              "      <td>53</td>\n",
              "      <td>Private</td>\n",
              "      <td>234721</td>\n",
              "      <td>11th</td>\n",
              "      <td>7</td>\n",
              "      <td>Married-civ-spouse</td>\n",
              "      <td>Handlers-cleaners</td>\n",
              "      <td>Husband</td>\n",
              "      <td>Black</td>\n",
              "      <td>Male</td>\n",
              "      <td>0</td>\n",
              "      <td>0</td>\n",
              "      <td>40</td>\n",
              "      <td>United-States</td>\n",
              "      <td>&lt;=50K</td>\n",
              "    </tr>\n",
              "    <tr>\n",
              "      <th>4</th>\n",
              "      <td>28</td>\n",
              "      <td>Private</td>\n",
              "      <td>338409</td>\n",
              "      <td>Bachelors</td>\n",
              "      <td>13</td>\n",
              "      <td>Married-civ-spouse</td>\n",
              "      <td>Prof-specialty</td>\n",
              "      <td>Wife</td>\n",
              "      <td>Black</td>\n",
              "      <td>Female</td>\n",
              "      <td>0</td>\n",
              "      <td>0</td>\n",
              "      <td>40</td>\n",
              "      <td>Cuba</td>\n",
              "      <td>&lt;=50K</td>\n",
              "    </tr>\n",
              "  </tbody>\n",
              "</table>\n",
              "</div>\n",
              "    <div class=\"colab-df-buttons\">\n",
              "\n",
              "  <div class=\"colab-df-container\">\n",
              "    <button class=\"colab-df-convert\" onclick=\"convertToInteractive('df-0c0ee974-7887-4b6a-a560-349940519633')\"\n",
              "            title=\"Convert this dataframe to an interactive table.\"\n",
              "            style=\"display:none;\">\n",
              "\n",
              "  <svg xmlns=\"http://www.w3.org/2000/svg\" height=\"24px\" viewBox=\"0 -960 960 960\">\n",
              "    <path d=\"M120-120v-720h720v720H120Zm60-500h600v-160H180v160Zm220 220h160v-160H400v160Zm0 220h160v-160H400v160ZM180-400h160v-160H180v160Zm440 0h160v-160H620v160ZM180-180h160v-160H180v160Zm440 0h160v-160H620v160Z\"/>\n",
              "  </svg>\n",
              "    </button>\n",
              "\n",
              "  <style>\n",
              "    .colab-df-container {\n",
              "      display:flex;\n",
              "      gap: 12px;\n",
              "    }\n",
              "\n",
              "    .colab-df-convert {\n",
              "      background-color: #E8F0FE;\n",
              "      border: none;\n",
              "      border-radius: 50%;\n",
              "      cursor: pointer;\n",
              "      display: none;\n",
              "      fill: #1967D2;\n",
              "      height: 32px;\n",
              "      padding: 0 0 0 0;\n",
              "      width: 32px;\n",
              "    }\n",
              "\n",
              "    .colab-df-convert:hover {\n",
              "      background-color: #E2EBFA;\n",
              "      box-shadow: 0px 1px 2px rgba(60, 64, 67, 0.3), 0px 1px 3px 1px rgba(60, 64, 67, 0.15);\n",
              "      fill: #174EA6;\n",
              "    }\n",
              "\n",
              "    .colab-df-buttons div {\n",
              "      margin-bottom: 4px;\n",
              "    }\n",
              "\n",
              "    [theme=dark] .colab-df-convert {\n",
              "      background-color: #3B4455;\n",
              "      fill: #D2E3FC;\n",
              "    }\n",
              "\n",
              "    [theme=dark] .colab-df-convert:hover {\n",
              "      background-color: #434B5C;\n",
              "      box-shadow: 0px 1px 3px 1px rgba(0, 0, 0, 0.15);\n",
              "      filter: drop-shadow(0px 1px 2px rgba(0, 0, 0, 0.3));\n",
              "      fill: #FFFFFF;\n",
              "    }\n",
              "  </style>\n",
              "\n",
              "    <script>\n",
              "      const buttonEl =\n",
              "        document.querySelector('#df-0c0ee974-7887-4b6a-a560-349940519633 button.colab-df-convert');\n",
              "      buttonEl.style.display =\n",
              "        google.colab.kernel.accessAllowed ? 'block' : 'none';\n",
              "\n",
              "      async function convertToInteractive(key) {\n",
              "        const element = document.querySelector('#df-0c0ee974-7887-4b6a-a560-349940519633');\n",
              "        const dataTable =\n",
              "          await google.colab.kernel.invokeFunction('convertToInteractive',\n",
              "                                                    [key], {});\n",
              "        if (!dataTable) return;\n",
              "\n",
              "        const docLinkHtml = 'Like what you see? Visit the ' +\n",
              "          '<a target=\"_blank\" href=https://colab.research.google.com/notebooks/data_table.ipynb>data table notebook</a>'\n",
              "          + ' to learn more about interactive tables.';\n",
              "        element.innerHTML = '';\n",
              "        dataTable['output_type'] = 'display_data';\n",
              "        await google.colab.output.renderOutput(dataTable, element);\n",
              "        const docLink = document.createElement('div');\n",
              "        docLink.innerHTML = docLinkHtml;\n",
              "        element.appendChild(docLink);\n",
              "      }\n",
              "    </script>\n",
              "  </div>\n",
              "\n",
              "\n",
              "<div id=\"df-c4c4da9d-5fb1-4355-8026-70f925e6959c\">\n",
              "  <button class=\"colab-df-quickchart\" onclick=\"quickchart('df-c4c4da9d-5fb1-4355-8026-70f925e6959c')\"\n",
              "            title=\"Suggest charts\"\n",
              "            style=\"display:none;\">\n",
              "\n",
              "<svg xmlns=\"http://www.w3.org/2000/svg\" height=\"24px\"viewBox=\"0 0 24 24\"\n",
              "     width=\"24px\">\n",
              "    <g>\n",
              "        <path d=\"M19 3H5c-1.1 0-2 .9-2 2v14c0 1.1.9 2 2 2h14c1.1 0 2-.9 2-2V5c0-1.1-.9-2-2-2zM9 17H7v-7h2v7zm4 0h-2V7h2v10zm4 0h-2v-4h2v4z\"/>\n",
              "    </g>\n",
              "</svg>\n",
              "  </button>\n",
              "\n",
              "<style>\n",
              "  .colab-df-quickchart {\n",
              "      --bg-color: #E8F0FE;\n",
              "      --fill-color: #1967D2;\n",
              "      --hover-bg-color: #E2EBFA;\n",
              "      --hover-fill-color: #174EA6;\n",
              "      --disabled-fill-color: #AAA;\n",
              "      --disabled-bg-color: #DDD;\n",
              "  }\n",
              "\n",
              "  [theme=dark] .colab-df-quickchart {\n",
              "      --bg-color: #3B4455;\n",
              "      --fill-color: #D2E3FC;\n",
              "      --hover-bg-color: #434B5C;\n",
              "      --hover-fill-color: #FFFFFF;\n",
              "      --disabled-bg-color: #3B4455;\n",
              "      --disabled-fill-color: #666;\n",
              "  }\n",
              "\n",
              "  .colab-df-quickchart {\n",
              "    background-color: var(--bg-color);\n",
              "    border: none;\n",
              "    border-radius: 50%;\n",
              "    cursor: pointer;\n",
              "    display: none;\n",
              "    fill: var(--fill-color);\n",
              "    height: 32px;\n",
              "    padding: 0;\n",
              "    width: 32px;\n",
              "  }\n",
              "\n",
              "  .colab-df-quickchart:hover {\n",
              "    background-color: var(--hover-bg-color);\n",
              "    box-shadow: 0 1px 2px rgba(60, 64, 67, 0.3), 0 1px 3px 1px rgba(60, 64, 67, 0.15);\n",
              "    fill: var(--button-hover-fill-color);\n",
              "  }\n",
              "\n",
              "  .colab-df-quickchart-complete:disabled,\n",
              "  .colab-df-quickchart-complete:disabled:hover {\n",
              "    background-color: var(--disabled-bg-color);\n",
              "    fill: var(--disabled-fill-color);\n",
              "    box-shadow: none;\n",
              "  }\n",
              "\n",
              "  .colab-df-spinner {\n",
              "    border: 2px solid var(--fill-color);\n",
              "    border-color: transparent;\n",
              "    border-bottom-color: var(--fill-color);\n",
              "    animation:\n",
              "      spin 1s steps(1) infinite;\n",
              "  }\n",
              "\n",
              "  @keyframes spin {\n",
              "    0% {\n",
              "      border-color: transparent;\n",
              "      border-bottom-color: var(--fill-color);\n",
              "      border-left-color: var(--fill-color);\n",
              "    }\n",
              "    20% {\n",
              "      border-color: transparent;\n",
              "      border-left-color: var(--fill-color);\n",
              "      border-top-color: var(--fill-color);\n",
              "    }\n",
              "    30% {\n",
              "      border-color: transparent;\n",
              "      border-left-color: var(--fill-color);\n",
              "      border-top-color: var(--fill-color);\n",
              "      border-right-color: var(--fill-color);\n",
              "    }\n",
              "    40% {\n",
              "      border-color: transparent;\n",
              "      border-right-color: var(--fill-color);\n",
              "      border-top-color: var(--fill-color);\n",
              "    }\n",
              "    60% {\n",
              "      border-color: transparent;\n",
              "      border-right-color: var(--fill-color);\n",
              "    }\n",
              "    80% {\n",
              "      border-color: transparent;\n",
              "      border-right-color: var(--fill-color);\n",
              "      border-bottom-color: var(--fill-color);\n",
              "    }\n",
              "    90% {\n",
              "      border-color: transparent;\n",
              "      border-bottom-color: var(--fill-color);\n",
              "    }\n",
              "  }\n",
              "</style>\n",
              "\n",
              "  <script>\n",
              "    async function quickchart(key) {\n",
              "      const quickchartButtonEl =\n",
              "        document.querySelector('#' + key + ' button');\n",
              "      quickchartButtonEl.disabled = true;  // To prevent multiple clicks.\n",
              "      quickchartButtonEl.classList.add('colab-df-spinner');\n",
              "      try {\n",
              "        const charts = await google.colab.kernel.invokeFunction(\n",
              "            'suggestCharts', [key], {});\n",
              "      } catch (error) {\n",
              "        console.error('Error during call to suggestCharts:', error);\n",
              "      }\n",
              "      quickchartButtonEl.classList.remove('colab-df-spinner');\n",
              "      quickchartButtonEl.classList.add('colab-df-quickchart-complete');\n",
              "    }\n",
              "    (() => {\n",
              "      let quickchartButtonEl =\n",
              "        document.querySelector('#df-c4c4da9d-5fb1-4355-8026-70f925e6959c button');\n",
              "      quickchartButtonEl.style.display =\n",
              "        google.colab.kernel.accessAllowed ? 'block' : 'none';\n",
              "    })();\n",
              "  </script>\n",
              "</div>\n",
              "\n",
              "    </div>\n",
              "  </div>\n"
            ],
            "application/vnd.google.colaboratory.intrinsic+json": {
              "type": "dataframe",
              "variable_name": "data",
              "summary": "{\n  \"name\": \"data\",\n  \"rows\": 32561,\n  \"fields\": [\n    {\n      \"column\": \"age\",\n      \"properties\": {\n        \"dtype\": \"number\",\n        \"std\": 13,\n        \"min\": 17,\n        \"max\": 90,\n        \"num_unique_values\": 73,\n        \"samples\": [\n          28,\n          73,\n          35\n        ],\n        \"semantic_type\": \"\",\n        \"description\": \"\"\n      }\n    },\n    {\n      \"column\": \"workclass\",\n      \"properties\": {\n        \"dtype\": \"category\",\n        \"num_unique_values\": 9,\n        \"samples\": [\n          \"Without-pay\",\n          \"Self-emp-not-inc\",\n          \"?\"\n        ],\n        \"semantic_type\": \"\",\n        \"description\": \"\"\n      }\n    },\n    {\n      \"column\": \"fnlwgt\",\n      \"properties\": {\n        \"dtype\": \"number\",\n        \"std\": 105549,\n        \"min\": 12285,\n        \"max\": 1484705,\n        \"num_unique_values\": 21648,\n        \"samples\": [\n          128485,\n          469907,\n          235951\n        ],\n        \"semantic_type\": \"\",\n        \"description\": \"\"\n      }\n    },\n    {\n      \"column\": \"education\",\n      \"properties\": {\n        \"dtype\": \"category\",\n        \"num_unique_values\": 16,\n        \"samples\": [\n          \"Bachelors\",\n          \"HS-grad\",\n          \"Some-college\"\n        ],\n        \"semantic_type\": \"\",\n        \"description\": \"\"\n      }\n    },\n    {\n      \"column\": \"education-num\",\n      \"properties\": {\n        \"dtype\": \"number\",\n        \"std\": 2,\n        \"min\": 1,\n        \"max\": 16,\n        \"num_unique_values\": 16,\n        \"samples\": [\n          13,\n          9,\n          10\n        ],\n        \"semantic_type\": \"\",\n        \"description\": \"\"\n      }\n    },\n    {\n      \"column\": \"marital-status\",\n      \"properties\": {\n        \"dtype\": \"category\",\n        \"num_unique_values\": 7,\n        \"samples\": [\n          \"Never-married\",\n          \"Married-civ-spouse\",\n          \"Married-AF-spouse\"\n        ],\n        \"semantic_type\": \"\",\n        \"description\": \"\"\n      }\n    },\n    {\n      \"column\": \"occupation\",\n      \"properties\": {\n        \"dtype\": \"category\",\n        \"num_unique_values\": 15,\n        \"samples\": [\n          \"Machine-op-inspct\",\n          \"?\",\n          \"Adm-clerical\"\n        ],\n        \"semantic_type\": \"\",\n        \"description\": \"\"\n      }\n    },\n    {\n      \"column\": \"relationship\",\n      \"properties\": {\n        \"dtype\": \"category\",\n        \"num_unique_values\": 6,\n        \"samples\": [\n          \"Not-in-family\",\n          \"Husband\",\n          \"Other-relative\"\n        ],\n        \"semantic_type\": \"\",\n        \"description\": \"\"\n      }\n    },\n    {\n      \"column\": \"race\",\n      \"properties\": {\n        \"dtype\": \"category\",\n        \"num_unique_values\": 5,\n        \"samples\": [\n          \"Black\",\n          \"Other\",\n          \"Asian-Pac-Islander\"\n        ],\n        \"semantic_type\": \"\",\n        \"description\": \"\"\n      }\n    },\n    {\n      \"column\": \"sex\",\n      \"properties\": {\n        \"dtype\": \"category\",\n        \"num_unique_values\": 2,\n        \"samples\": [\n          \"Female\",\n          \"Male\"\n        ],\n        \"semantic_type\": \"\",\n        \"description\": \"\"\n      }\n    },\n    {\n      \"column\": \"capital-gain\",\n      \"properties\": {\n        \"dtype\": \"number\",\n        \"std\": 7385,\n        \"min\": 0,\n        \"max\": 99999,\n        \"num_unique_values\": 119,\n        \"samples\": [\n          3781,\n          15831\n        ],\n        \"semantic_type\": \"\",\n        \"description\": \"\"\n      }\n    },\n    {\n      \"column\": \"capital-loss\",\n      \"properties\": {\n        \"dtype\": \"number\",\n        \"std\": 402,\n        \"min\": 0,\n        \"max\": 4356,\n        \"num_unique_values\": 92,\n        \"samples\": [\n          419,\n          2051\n        ],\n        \"semantic_type\": \"\",\n        \"description\": \"\"\n      }\n    },\n    {\n      \"column\": \"hours-per-week\",\n      \"properties\": {\n        \"dtype\": \"number\",\n        \"std\": 12,\n        \"min\": 1,\n        \"max\": 99,\n        \"num_unique_values\": 94,\n        \"samples\": [\n          6,\n          22\n        ],\n        \"semantic_type\": \"\",\n        \"description\": \"\"\n      }\n    },\n    {\n      \"column\": \"native-country\",\n      \"properties\": {\n        \"dtype\": \"category\",\n        \"num_unique_values\": 42,\n        \"samples\": [\n          \"El-Salvador\",\n          \"Philippines\"\n        ],\n        \"semantic_type\": \"\",\n        \"description\": \"\"\n      }\n    },\n    {\n      \"column\": \"income\",\n      \"properties\": {\n        \"dtype\": \"category\",\n        \"num_unique_values\": 2,\n        \"samples\": [\n          \">50K\",\n          \"<=50K\"\n        ],\n        \"semantic_type\": \"\",\n        \"description\": \"\"\n      }\n    }\n  ]\n}"
            }
          },
          "metadata": {},
          "execution_count": 61
        }
      ]
    },
    {
      "cell_type": "code",
      "source": [
        "print('Adult data shape: ', data.shape)"
      ],
      "metadata": {
        "colab": {
          "base_uri": "https://localhost:8080/"
        },
        "id": "pZCmi31U6sEK",
        "outputId": "bdfb3b3f-9af1-4c61-90ef-86b5a8195afc"
      },
      "execution_count": 62,
      "outputs": [
        {
          "output_type": "stream",
          "name": "stdout",
          "text": [
            "Adult data shape:  (32561, 15)\n"
          ]
        }
      ]
    },
    {
      "cell_type": "code",
      "source": [
        "data.info()"
      ],
      "metadata": {
        "colab": {
          "base_uri": "https://localhost:8080/"
        },
        "id": "w80PuF8j6uGj",
        "outputId": "bbf99bfe-f6bc-4bf9-a3e0-966ae22bae28"
      },
      "execution_count": 63,
      "outputs": [
        {
          "output_type": "stream",
          "name": "stdout",
          "text": [
            "<class 'pandas.core.frame.DataFrame'>\n",
            "RangeIndex: 32561 entries, 0 to 32560\n",
            "Data columns (total 15 columns):\n",
            " #   Column          Non-Null Count  Dtype \n",
            "---  ------          --------------  ----- \n",
            " 0   age             32561 non-null  int64 \n",
            " 1   workclass       32561 non-null  object\n",
            " 2   fnlwgt          32561 non-null  int64 \n",
            " 3   education       32561 non-null  object\n",
            " 4   education-num   32561 non-null  int64 \n",
            " 5   marital-status  32561 non-null  object\n",
            " 6   occupation      32561 non-null  object\n",
            " 7   relationship    32561 non-null  object\n",
            " 8   race            32561 non-null  object\n",
            " 9   sex             32561 non-null  object\n",
            " 10  capital-gain    32561 non-null  int64 \n",
            " 11  capital-loss    32561 non-null  int64 \n",
            " 12  hours-per-week  32561 non-null  int64 \n",
            " 13  native-country  32561 non-null  object\n",
            " 14  income          32561 non-null  object\n",
            "dtypes: int64(6), object(9)\n",
            "memory usage: 3.7+ MB\n"
          ]
        }
      ]
    },
    {
      "cell_type": "code",
      "source": [
        "# Sample 50% of the data from each demographic group of 'race' attribute.\n",
        "\n",
        "sampled_data, _ = train_test_split(data, test_size=0.5, stratify=data['marital-status'], random_state=42)\n",
        "sampled_data.reset_index(drop=True, inplace=True)"
      ],
      "metadata": {
        "id": "-MNfyFFo6wM7"
      },
      "execution_count": 64,
      "outputs": []
    },
    {
      "cell_type": "code",
      "source": [
        "print('Sampled Adult data shape: ', sampled_data.shape)"
      ],
      "metadata": {
        "colab": {
          "base_uri": "https://localhost:8080/"
        },
        "id": "SPICKX7N6yWE",
        "outputId": "959954fc-f3fc-4733-f2bb-5789b2889e4c"
      },
      "execution_count": 65,
      "outputs": [
        {
          "output_type": "stream",
          "name": "stdout",
          "text": [
            "Sampled Adult data shape:  (16280, 15)\n"
          ]
        }
      ]
    },
    {
      "cell_type": "code",
      "source": [
        "sampled_data.info()"
      ],
      "metadata": {
        "colab": {
          "base_uri": "https://localhost:8080/"
        },
        "id": "o5HAAakK6zoh",
        "outputId": "5383744a-3025-4b58-82d6-a912d242fd24"
      },
      "execution_count": 66,
      "outputs": [
        {
          "output_type": "stream",
          "name": "stdout",
          "text": [
            "<class 'pandas.core.frame.DataFrame'>\n",
            "RangeIndex: 16280 entries, 0 to 16279\n",
            "Data columns (total 15 columns):\n",
            " #   Column          Non-Null Count  Dtype \n",
            "---  ------          --------------  ----- \n",
            " 0   age             16280 non-null  int64 \n",
            " 1   workclass       16280 non-null  object\n",
            " 2   fnlwgt          16280 non-null  int64 \n",
            " 3   education       16280 non-null  object\n",
            " 4   education-num   16280 non-null  int64 \n",
            " 5   marital-status  16280 non-null  object\n",
            " 6   occupation      16280 non-null  object\n",
            " 7   relationship    16280 non-null  object\n",
            " 8   race            16280 non-null  object\n",
            " 9   sex             16280 non-null  object\n",
            " 10  capital-gain    16280 non-null  int64 \n",
            " 11  capital-loss    16280 non-null  int64 \n",
            " 12  hours-per-week  16280 non-null  int64 \n",
            " 13  native-country  16280 non-null  object\n",
            " 14  income          16280 non-null  object\n",
            "dtypes: int64(6), object(9)\n",
            "memory usage: 1.9+ MB\n"
          ]
        }
      ]
    },
    {
      "cell_type": "code",
      "source": [
        "# Categorize the attributes into interval-scaled, norminal and ordinal for distance calculation.\n",
        "\n",
        "interval_attr = ['age','fnlwgt','capital-gain', 'capital-loss', 'hours-per-week']\n",
        "nominal_attr = ['workclass','education','occupation', 'relationship', 'race', 'sex','native-country']\n",
        "ordinal_attr = ['education-num']"
      ],
      "metadata": {
        "id": "DGLR4buV603t"
      },
      "execution_count": 67,
      "outputs": []
    },
    {
      "cell_type": "code",
      "source": [
        "# Define map for each nominal attribute to encode the respective classes.\n",
        "\n",
        "map_workclass = {'Private': '0', 'Self-emp-not-inc': '1', 'Self-emp-inc': '2', 'Federal-gov': '3', 'Local-gov': '4',\n",
        "                 'State-gov': '5', 'Without-pay': '6','Never-worked':'7','?':'?'}\n",
        "\n",
        "map_education = {'HS-grad': 0, 'Some-college': 1, 'Bachelors': 2, 'Masters': 3, 'Assoc-voc': 4, '11th': 5,\n",
        "                 'Assoc-acdm': 6,'10th':7,'7th-8th':8,'Prof-school':9,'9th':10,'12th':11,'Doctorate':12,'5th-6th':13,\\\n",
        "                 '1st-4th':14,'Preschool':15}\n",
        "\n",
        "map_occupation = {'Prof-specialty': '0', 'Craft-repair': '1', 'Exec-managerial': '2', 'Adm-clerical': '3', 'Sales': '4',\n",
        "                  'Other-service': '5', 'Machine-op-inspct': '6', 'Transport-moving': '7', 'Handlers-cleaners': '8',\n",
        "                  'Farming-fishing': '9', 'Tech-support': '10', 'Protective-serv': '11', 'Priv-house-serv': '12',\n",
        "                  'Armed-Forces': '13', '?': '?'}\n",
        "\n",
        "map_relationship = {'Husband': 0, 'Not-in-family': 1, 'Own-child': 2, 'Unmarried': 3, 'Wife': 4, 'Other-relative': 5}\n",
        "\n",
        "map_race = {'White': 0, 'Black': 1, 'Asian-Pac-Islander': 2, 'Amer-Indian-Eskimo': 3, 'Other': 4}\n",
        "\n",
        "map_sex = {'Male': 0, 'Female': 1}\n",
        "\n",
        "map_native_country = {'United-States': '0', 'Mexico': '1', 'Philippines': '2', 'Germany': '3', 'Canada': '4',\n",
        "                      'Puerto-Rico': '5', 'El-Salvador': '6', 'India': '7', 'Cuba': '8', 'England': '9',\n",
        "                      'Jamaica': '10', 'South': '11', 'China': '12', 'Italy': '13', 'Dominican-Republic': '14',\n",
        "                      'Vietnam': '15', 'Guatemala': '16', 'Japan': '17', 'Poland': '18', 'Columbia':'19','Taiwan':'20',\n",
        "                      'Haiti':'21','Iran':'22','Portugal':'23','Nicaragua':'24','Peru':'25','France':'26','Greece':'27',\n",
        "                      'Ecuador':'28','Ireland':'29','Hong':'30','Cambodia':'31','Trinadad&Tobago':'32','Laos':'33','Thailand':'34',\n",
        "                      'Yugoslavia':'35','Outlying-US(Guam-USVI-etc)':'36','Hungary':'37','Scotland':'38','Holand-Netherlands':'39',\n",
        "                      '?':'?'}\n",
        "\n",
        "# Map income variable.\n",
        "\n",
        "map_income = {'<=50K': 0, '>50K' :1}"
      ],
      "metadata": {
        "id": "Ew3bo9kY_gHN"
      },
      "execution_count": 68,
      "outputs": []
    },
    {
      "cell_type": "code",
      "source": [
        "# Encode the classes of each nominal attribute using the defined maps.\n",
        "\n",
        "sampled_data['workclass'] = sampled_data['workclass'].map(map_workclass)\n",
        "sampled_data['education'] = sampled_data['education'].map(map_education)\n",
        "sampled_data['occupation'] = sampled_data['occupation'].map(map_occupation)\n",
        "sampled_data['relationship'] = sampled_data['relationship'].map(map_relationship)\n",
        "sampled_data['race'] = sampled_data['race'].map(map_race)\n",
        "sampled_data['sex'] = sampled_data['sex'].map(map_sex)\n",
        "sampled_data['native-country'] = sampled_data['native-country'].map(map_native_country)\n",
        "sampled_data['income'] = sampled_data['income'].map(map_income)"
      ],
      "metadata": {
        "id": "owK_3KST_ohy"
      },
      "execution_count": 69,
      "outputs": []
    },
    {
      "cell_type": "code",
      "source": [
        "sampled_data.head()"
      ],
      "metadata": {
        "colab": {
          "base_uri": "https://localhost:8080/",
          "height": 241
        },
        "id": "h0QDtNtV_rxU",
        "outputId": "d8fbaa24-9c9f-4176-b1d2-967477cc96d5"
      },
      "execution_count": 70,
      "outputs": [
        {
          "output_type": "execute_result",
          "data": {
            "text/plain": [
              "   age workclass  fnlwgt  education  education-num      marital-status  \\\n",
              "0   19         0  213644          0              9       Never-married   \n",
              "1   31         0  248653         14              2       Never-married   \n",
              "2   66         0   98837          0              9             Widowed   \n",
              "3   30         0  103649          1             10       Never-married   \n",
              "4   29         0  307812          0              9  Married-civ-spouse   \n",
              "\n",
              "  occupation  relationship  race  sex  capital-gain  capital-loss  \\\n",
              "0          6             1     0    0             0             0   \n",
              "1          8             1     0    0             0             0   \n",
              "2          3             1     0    1             0             0   \n",
              "3          5             2     1    1             0             0   \n",
              "4          1             0     0    0             0             0   \n",
              "\n",
              "   hours-per-week native-country  income  \n",
              "0              40              0       0  \n",
              "1              37              1       0  \n",
              "2              40              0       0  \n",
              "3              40              0       0  \n",
              "4              60              0       0  "
            ],
            "text/html": [
              "\n",
              "  <div id=\"df-bb274fa5-814f-46f8-bef3-bf030cac82c8\" class=\"colab-df-container\">\n",
              "    <div>\n",
              "<style scoped>\n",
              "    .dataframe tbody tr th:only-of-type {\n",
              "        vertical-align: middle;\n",
              "    }\n",
              "\n",
              "    .dataframe tbody tr th {\n",
              "        vertical-align: top;\n",
              "    }\n",
              "\n",
              "    .dataframe thead th {\n",
              "        text-align: right;\n",
              "    }\n",
              "</style>\n",
              "<table border=\"1\" class=\"dataframe\">\n",
              "  <thead>\n",
              "    <tr style=\"text-align: right;\">\n",
              "      <th></th>\n",
              "      <th>age</th>\n",
              "      <th>workclass</th>\n",
              "      <th>fnlwgt</th>\n",
              "      <th>education</th>\n",
              "      <th>education-num</th>\n",
              "      <th>marital-status</th>\n",
              "      <th>occupation</th>\n",
              "      <th>relationship</th>\n",
              "      <th>race</th>\n",
              "      <th>sex</th>\n",
              "      <th>capital-gain</th>\n",
              "      <th>capital-loss</th>\n",
              "      <th>hours-per-week</th>\n",
              "      <th>native-country</th>\n",
              "      <th>income</th>\n",
              "    </tr>\n",
              "  </thead>\n",
              "  <tbody>\n",
              "    <tr>\n",
              "      <th>0</th>\n",
              "      <td>19</td>\n",
              "      <td>0</td>\n",
              "      <td>213644</td>\n",
              "      <td>0</td>\n",
              "      <td>9</td>\n",
              "      <td>Never-married</td>\n",
              "      <td>6</td>\n",
              "      <td>1</td>\n",
              "      <td>0</td>\n",
              "      <td>0</td>\n",
              "      <td>0</td>\n",
              "      <td>0</td>\n",
              "      <td>40</td>\n",
              "      <td>0</td>\n",
              "      <td>0</td>\n",
              "    </tr>\n",
              "    <tr>\n",
              "      <th>1</th>\n",
              "      <td>31</td>\n",
              "      <td>0</td>\n",
              "      <td>248653</td>\n",
              "      <td>14</td>\n",
              "      <td>2</td>\n",
              "      <td>Never-married</td>\n",
              "      <td>8</td>\n",
              "      <td>1</td>\n",
              "      <td>0</td>\n",
              "      <td>0</td>\n",
              "      <td>0</td>\n",
              "      <td>0</td>\n",
              "      <td>37</td>\n",
              "      <td>1</td>\n",
              "      <td>0</td>\n",
              "    </tr>\n",
              "    <tr>\n",
              "      <th>2</th>\n",
              "      <td>66</td>\n",
              "      <td>0</td>\n",
              "      <td>98837</td>\n",
              "      <td>0</td>\n",
              "      <td>9</td>\n",
              "      <td>Widowed</td>\n",
              "      <td>3</td>\n",
              "      <td>1</td>\n",
              "      <td>0</td>\n",
              "      <td>1</td>\n",
              "      <td>0</td>\n",
              "      <td>0</td>\n",
              "      <td>40</td>\n",
              "      <td>0</td>\n",
              "      <td>0</td>\n",
              "    </tr>\n",
              "    <tr>\n",
              "      <th>3</th>\n",
              "      <td>30</td>\n",
              "      <td>0</td>\n",
              "      <td>103649</td>\n",
              "      <td>1</td>\n",
              "      <td>10</td>\n",
              "      <td>Never-married</td>\n",
              "      <td>5</td>\n",
              "      <td>2</td>\n",
              "      <td>1</td>\n",
              "      <td>1</td>\n",
              "      <td>0</td>\n",
              "      <td>0</td>\n",
              "      <td>40</td>\n",
              "      <td>0</td>\n",
              "      <td>0</td>\n",
              "    </tr>\n",
              "    <tr>\n",
              "      <th>4</th>\n",
              "      <td>29</td>\n",
              "      <td>0</td>\n",
              "      <td>307812</td>\n",
              "      <td>0</td>\n",
              "      <td>9</td>\n",
              "      <td>Married-civ-spouse</td>\n",
              "      <td>1</td>\n",
              "      <td>0</td>\n",
              "      <td>0</td>\n",
              "      <td>0</td>\n",
              "      <td>0</td>\n",
              "      <td>0</td>\n",
              "      <td>60</td>\n",
              "      <td>0</td>\n",
              "      <td>0</td>\n",
              "    </tr>\n",
              "  </tbody>\n",
              "</table>\n",
              "</div>\n",
              "    <div class=\"colab-df-buttons\">\n",
              "\n",
              "  <div class=\"colab-df-container\">\n",
              "    <button class=\"colab-df-convert\" onclick=\"convertToInteractive('df-bb274fa5-814f-46f8-bef3-bf030cac82c8')\"\n",
              "            title=\"Convert this dataframe to an interactive table.\"\n",
              "            style=\"display:none;\">\n",
              "\n",
              "  <svg xmlns=\"http://www.w3.org/2000/svg\" height=\"24px\" viewBox=\"0 -960 960 960\">\n",
              "    <path d=\"M120-120v-720h720v720H120Zm60-500h600v-160H180v160Zm220 220h160v-160H400v160Zm0 220h160v-160H400v160ZM180-400h160v-160H180v160Zm440 0h160v-160H620v160ZM180-180h160v-160H180v160Zm440 0h160v-160H620v160Z\"/>\n",
              "  </svg>\n",
              "    </button>\n",
              "\n",
              "  <style>\n",
              "    .colab-df-container {\n",
              "      display:flex;\n",
              "      gap: 12px;\n",
              "    }\n",
              "\n",
              "    .colab-df-convert {\n",
              "      background-color: #E8F0FE;\n",
              "      border: none;\n",
              "      border-radius: 50%;\n",
              "      cursor: pointer;\n",
              "      display: none;\n",
              "      fill: #1967D2;\n",
              "      height: 32px;\n",
              "      padding: 0 0 0 0;\n",
              "      width: 32px;\n",
              "    }\n",
              "\n",
              "    .colab-df-convert:hover {\n",
              "      background-color: #E2EBFA;\n",
              "      box-shadow: 0px 1px 2px rgba(60, 64, 67, 0.3), 0px 1px 3px 1px rgba(60, 64, 67, 0.15);\n",
              "      fill: #174EA6;\n",
              "    }\n",
              "\n",
              "    .colab-df-buttons div {\n",
              "      margin-bottom: 4px;\n",
              "    }\n",
              "\n",
              "    [theme=dark] .colab-df-convert {\n",
              "      background-color: #3B4455;\n",
              "      fill: #D2E3FC;\n",
              "    }\n",
              "\n",
              "    [theme=dark] .colab-df-convert:hover {\n",
              "      background-color: #434B5C;\n",
              "      box-shadow: 0px 1px 3px 1px rgba(0, 0, 0, 0.15);\n",
              "      filter: drop-shadow(0px 1px 2px rgba(0, 0, 0, 0.3));\n",
              "      fill: #FFFFFF;\n",
              "    }\n",
              "  </style>\n",
              "\n",
              "    <script>\n",
              "      const buttonEl =\n",
              "        document.querySelector('#df-bb274fa5-814f-46f8-bef3-bf030cac82c8 button.colab-df-convert');\n",
              "      buttonEl.style.display =\n",
              "        google.colab.kernel.accessAllowed ? 'block' : 'none';\n",
              "\n",
              "      async function convertToInteractive(key) {\n",
              "        const element = document.querySelector('#df-bb274fa5-814f-46f8-bef3-bf030cac82c8');\n",
              "        const dataTable =\n",
              "          await google.colab.kernel.invokeFunction('convertToInteractive',\n",
              "                                                    [key], {});\n",
              "        if (!dataTable) return;\n",
              "\n",
              "        const docLinkHtml = 'Like what you see? Visit the ' +\n",
              "          '<a target=\"_blank\" href=https://colab.research.google.com/notebooks/data_table.ipynb>data table notebook</a>'\n",
              "          + ' to learn more about interactive tables.';\n",
              "        element.innerHTML = '';\n",
              "        dataTable['output_type'] = 'display_data';\n",
              "        await google.colab.output.renderOutput(dataTable, element);\n",
              "        const docLink = document.createElement('div');\n",
              "        docLink.innerHTML = docLinkHtml;\n",
              "        element.appendChild(docLink);\n",
              "      }\n",
              "    </script>\n",
              "  </div>\n",
              "\n",
              "\n",
              "<div id=\"df-0cecaec0-148c-4be9-9623-7057fc2d1172\">\n",
              "  <button class=\"colab-df-quickchart\" onclick=\"quickchart('df-0cecaec0-148c-4be9-9623-7057fc2d1172')\"\n",
              "            title=\"Suggest charts\"\n",
              "            style=\"display:none;\">\n",
              "\n",
              "<svg xmlns=\"http://www.w3.org/2000/svg\" height=\"24px\"viewBox=\"0 0 24 24\"\n",
              "     width=\"24px\">\n",
              "    <g>\n",
              "        <path d=\"M19 3H5c-1.1 0-2 .9-2 2v14c0 1.1.9 2 2 2h14c1.1 0 2-.9 2-2V5c0-1.1-.9-2-2-2zM9 17H7v-7h2v7zm4 0h-2V7h2v10zm4 0h-2v-4h2v4z\"/>\n",
              "    </g>\n",
              "</svg>\n",
              "  </button>\n",
              "\n",
              "<style>\n",
              "  .colab-df-quickchart {\n",
              "      --bg-color: #E8F0FE;\n",
              "      --fill-color: #1967D2;\n",
              "      --hover-bg-color: #E2EBFA;\n",
              "      --hover-fill-color: #174EA6;\n",
              "      --disabled-fill-color: #AAA;\n",
              "      --disabled-bg-color: #DDD;\n",
              "  }\n",
              "\n",
              "  [theme=dark] .colab-df-quickchart {\n",
              "      --bg-color: #3B4455;\n",
              "      --fill-color: #D2E3FC;\n",
              "      --hover-bg-color: #434B5C;\n",
              "      --hover-fill-color: #FFFFFF;\n",
              "      --disabled-bg-color: #3B4455;\n",
              "      --disabled-fill-color: #666;\n",
              "  }\n",
              "\n",
              "  .colab-df-quickchart {\n",
              "    background-color: var(--bg-color);\n",
              "    border: none;\n",
              "    border-radius: 50%;\n",
              "    cursor: pointer;\n",
              "    display: none;\n",
              "    fill: var(--fill-color);\n",
              "    height: 32px;\n",
              "    padding: 0;\n",
              "    width: 32px;\n",
              "  }\n",
              "\n",
              "  .colab-df-quickchart:hover {\n",
              "    background-color: var(--hover-bg-color);\n",
              "    box-shadow: 0 1px 2px rgba(60, 64, 67, 0.3), 0 1px 3px 1px rgba(60, 64, 67, 0.15);\n",
              "    fill: var(--button-hover-fill-color);\n",
              "  }\n",
              "\n",
              "  .colab-df-quickchart-complete:disabled,\n",
              "  .colab-df-quickchart-complete:disabled:hover {\n",
              "    background-color: var(--disabled-bg-color);\n",
              "    fill: var(--disabled-fill-color);\n",
              "    box-shadow: none;\n",
              "  }\n",
              "\n",
              "  .colab-df-spinner {\n",
              "    border: 2px solid var(--fill-color);\n",
              "    border-color: transparent;\n",
              "    border-bottom-color: var(--fill-color);\n",
              "    animation:\n",
              "      spin 1s steps(1) infinite;\n",
              "  }\n",
              "\n",
              "  @keyframes spin {\n",
              "    0% {\n",
              "      border-color: transparent;\n",
              "      border-bottom-color: var(--fill-color);\n",
              "      border-left-color: var(--fill-color);\n",
              "    }\n",
              "    20% {\n",
              "      border-color: transparent;\n",
              "      border-left-color: var(--fill-color);\n",
              "      border-top-color: var(--fill-color);\n",
              "    }\n",
              "    30% {\n",
              "      border-color: transparent;\n",
              "      border-left-color: var(--fill-color);\n",
              "      border-top-color: var(--fill-color);\n",
              "      border-right-color: var(--fill-color);\n",
              "    }\n",
              "    40% {\n",
              "      border-color: transparent;\n",
              "      border-right-color: var(--fill-color);\n",
              "      border-top-color: var(--fill-color);\n",
              "    }\n",
              "    60% {\n",
              "      border-color: transparent;\n",
              "      border-right-color: var(--fill-color);\n",
              "    }\n",
              "    80% {\n",
              "      border-color: transparent;\n",
              "      border-right-color: var(--fill-color);\n",
              "      border-bottom-color: var(--fill-color);\n",
              "    }\n",
              "    90% {\n",
              "      border-color: transparent;\n",
              "      border-bottom-color: var(--fill-color);\n",
              "    }\n",
              "  }\n",
              "</style>\n",
              "\n",
              "  <script>\n",
              "    async function quickchart(key) {\n",
              "      const quickchartButtonEl =\n",
              "        document.querySelector('#' + key + ' button');\n",
              "      quickchartButtonEl.disabled = true;  // To prevent multiple clicks.\n",
              "      quickchartButtonEl.classList.add('colab-df-spinner');\n",
              "      try {\n",
              "        const charts = await google.colab.kernel.invokeFunction(\n",
              "            'suggestCharts', [key], {});\n",
              "      } catch (error) {\n",
              "        console.error('Error during call to suggestCharts:', error);\n",
              "      }\n",
              "      quickchartButtonEl.classList.remove('colab-df-spinner');\n",
              "      quickchartButtonEl.classList.add('colab-df-quickchart-complete');\n",
              "    }\n",
              "    (() => {\n",
              "      let quickchartButtonEl =\n",
              "        document.querySelector('#df-0cecaec0-148c-4be9-9623-7057fc2d1172 button');\n",
              "      quickchartButtonEl.style.display =\n",
              "        google.colab.kernel.accessAllowed ? 'block' : 'none';\n",
              "    })();\n",
              "  </script>\n",
              "</div>\n",
              "\n",
              "    </div>\n",
              "  </div>\n"
            ],
            "application/vnd.google.colaboratory.intrinsic+json": {
              "type": "dataframe",
              "variable_name": "sampled_data",
              "summary": "{\n  \"name\": \"sampled_data\",\n  \"rows\": 16280,\n  \"fields\": [\n    {\n      \"column\": \"age\",\n      \"properties\": {\n        \"dtype\": \"number\",\n        \"std\": 13,\n        \"min\": 17,\n        \"max\": 90,\n        \"num_unique_values\": 72,\n        \"samples\": [\n          29,\n          72,\n          22\n        ],\n        \"semantic_type\": \"\",\n        \"description\": \"\"\n      }\n    },\n    {\n      \"column\": \"workclass\",\n      \"properties\": {\n        \"dtype\": \"category\",\n        \"num_unique_values\": 9,\n        \"samples\": [\n          \"6\",\n          \"1\",\n          \"?\"\n        ],\n        \"semantic_type\": \"\",\n        \"description\": \"\"\n      }\n    },\n    {\n      \"column\": \"fnlwgt\",\n      \"properties\": {\n        \"dtype\": \"number\",\n        \"std\": 105558,\n        \"min\": 12285,\n        \"max\": 1484705,\n        \"num_unique_values\": 12810,\n        \"samples\": [\n          202984,\n          345122,\n          77143\n        ],\n        \"semantic_type\": \"\",\n        \"description\": \"\"\n      }\n    },\n    {\n      \"column\": \"education\",\n      \"properties\": {\n        \"dtype\": \"number\",\n        \"std\": 3,\n        \"min\": 0,\n        \"max\": 15,\n        \"num_unique_values\": 16,\n        \"samples\": [\n          0,\n          14,\n          2\n        ],\n        \"semantic_type\": \"\",\n        \"description\": \"\"\n      }\n    },\n    {\n      \"column\": \"education-num\",\n      \"properties\": {\n        \"dtype\": \"number\",\n        \"std\": 2,\n        \"min\": 1,\n        \"max\": 16,\n        \"num_unique_values\": 16,\n        \"samples\": [\n          9,\n          2,\n          13\n        ],\n        \"semantic_type\": \"\",\n        \"description\": \"\"\n      }\n    },\n    {\n      \"column\": \"marital-status\",\n      \"properties\": {\n        \"dtype\": \"category\",\n        \"num_unique_values\": 7,\n        \"samples\": [\n          \"Never-married\",\n          \"Widowed\",\n          \"Married-spouse-absent\"\n        ],\n        \"semantic_type\": \"\",\n        \"description\": \"\"\n      }\n    },\n    {\n      \"column\": \"occupation\",\n      \"properties\": {\n        \"dtype\": \"category\",\n        \"num_unique_values\": 15,\n        \"samples\": [\n          \"10\",\n          \"7\",\n          \"6\"\n        ],\n        \"semantic_type\": \"\",\n        \"description\": \"\"\n      }\n    },\n    {\n      \"column\": \"relationship\",\n      \"properties\": {\n        \"dtype\": \"number\",\n        \"std\": 1,\n        \"min\": 0,\n        \"max\": 5,\n        \"num_unique_values\": 6,\n        \"samples\": [\n          1,\n          2,\n          3\n        ],\n        \"semantic_type\": \"\",\n        \"description\": \"\"\n      }\n    },\n    {\n      \"column\": \"race\",\n      \"properties\": {\n        \"dtype\": \"number\",\n        \"std\": 0,\n        \"min\": 0,\n        \"max\": 4,\n        \"num_unique_values\": 5,\n        \"samples\": [\n          1,\n          3,\n          2\n        ],\n        \"semantic_type\": \"\",\n        \"description\": \"\"\n      }\n    },\n    {\n      \"column\": \"sex\",\n      \"properties\": {\n        \"dtype\": \"number\",\n        \"std\": 0,\n        \"min\": 0,\n        \"max\": 1,\n        \"num_unique_values\": 2,\n        \"samples\": [\n          1,\n          0\n        ],\n        \"semantic_type\": \"\",\n        \"description\": \"\"\n      }\n    },\n    {\n      \"column\": \"capital-gain\",\n      \"properties\": {\n        \"dtype\": \"number\",\n        \"std\": 7516,\n        \"min\": 0,\n        \"max\": 99999,\n        \"num_unique_values\": 109,\n        \"samples\": [\n          1173,\n          7298\n        ],\n        \"semantic_type\": \"\",\n        \"description\": \"\"\n      }\n    },\n    {\n      \"column\": \"capital-loss\",\n      \"properties\": {\n        \"dtype\": \"number\",\n        \"std\": 405,\n        \"min\": 0,\n        \"max\": 3900,\n        \"num_unique_values\": 81,\n        \"samples\": [\n          2559,\n          0\n        ],\n        \"semantic_type\": \"\",\n        \"description\": \"\"\n      }\n    },\n    {\n      \"column\": \"hours-per-week\",\n      \"properties\": {\n        \"dtype\": \"number\",\n        \"std\": 12,\n        \"min\": 1,\n        \"max\": 99,\n        \"num_unique_values\": 91,\n        \"samples\": [\n          85,\n          44\n        ],\n        \"semantic_type\": \"\",\n        \"description\": \"\"\n      }\n    },\n    {\n      \"column\": \"native-country\",\n      \"properties\": {\n        \"dtype\": \"category\",\n        \"num_unique_values\": 41,\n        \"samples\": [\n          \"28\",\n          \"16\"\n        ],\n        \"semantic_type\": \"\",\n        \"description\": \"\"\n      }\n    },\n    {\n      \"column\": \"income\",\n      \"properties\": {\n        \"dtype\": \"number\",\n        \"std\": 0,\n        \"min\": 0,\n        \"max\": 1,\n        \"num_unique_values\": 2,\n        \"samples\": [\n          1,\n          0\n        ],\n        \"semantic_type\": \"\",\n        \"description\": \"\"\n      }\n    }\n  ]\n}"
            }
          },
          "metadata": {},
          "execution_count": 70
        }
      ]
    },
    {
      "cell_type": "markdown",
      "source": [
        "## ***kNN for Situtation Testing***"
      ],
      "metadata": {
        "id": "hooo5RQb_2Hx"
      }
    },
    {
      "cell_type": "code",
      "source": [
        "# Vectorized kNN Function.\n",
        "# https://adityassrana.github.io/blog/broadcasting/numpy/2020/07/24/Vectorization.html\n",
        "\n",
        "def knn(R,k,interval_attr,nominal_attr,ordinal_attr):\n",
        "  # split the data into protected and unprotected groups\n",
        "  P_R = R[R['marital-status'].isin(['Divorced', 'Separated', 'Widowed'])]\n",
        "  U_R = R[~R['marital-status'].isin(['Divorced', 'Separated', 'Widowed'])]\n",
        "\n",
        "  # Store values of interval-scaled, nominal, ordinal attributes.\n",
        "  pr_interval_data = P_R[interval_attr].values\n",
        "  pr_nominal_data = P_R[nominal_attr].values\n",
        "  pr_ordinal_data = P_R[ordinal_attr].values\n",
        "\n",
        "  ur_interval_data = U_R[interval_attr].values\n",
        "  ur_nominal_data = U_R[nominal_attr].values\n",
        "  ur_ordinal_data = U_R[ordinal_attr].values\n",
        "\n",
        "  # Calculate interval-scaled distance using Manhattan/Cityblock metric.\n",
        "  interval_dist_pr = d.cdist(pr_interval_data, pr_interval_data, 'cityblock')\n",
        "  interval_dist_ur = d.cdist(pr_interval_data, ur_interval_data, 'cityblock')\n",
        "\n",
        "  # Calculate the nominal distance.\n",
        "  pr_con1 = (pr_nominal_data[:,np.newaxis,:] == '?') | (pr_nominal_data[np.newaxis,:,:] == '?')\n",
        "  pr_con2 = pr_nominal_data[:,np.newaxis,:] == pr_nominal_data[np.newaxis,:,:]\n",
        "\n",
        "  nominal_dist_pr = np.where(pr_con1, 3, np.where(pr_con2, 0, 1))\n",
        "\n",
        "  ur_con1 = (pr_nominal_data[:, np.newaxis, :] == '?') | (ur_nominal_data[np.newaxis, :, :] == '?')\n",
        "  ur_con2 = pr_nominal_data[:, np.newaxis, :] == ur_nominal_data[np.newaxis, :, :]\n",
        "\n",
        "  nominal_dist_ur = np.where(ur_con1, 3, np.where(ur_con2, 0, 1))\n",
        "\n",
        "  # Calculate ordinal distance using Manhattan/Cityblock metric.\n",
        "  ordinal_dist_pr = d.cdist(pr_ordinal_data, pr_ordinal_data, 'cityblock')\n",
        "  ordinal_dist_ur = d.cdist(pr_ordinal_data, ur_ordinal_data, 'cityblock')\n",
        "\n",
        "  # Calculate total distance.\n",
        "  total_dist_pr = interval_dist_pr + nominal_dist_pr.sum(axis=2) + ordinal_dist_pr\n",
        "  total_dist_ur = interval_dist_ur + nominal_dist_ur.sum(axis=2) + ordinal_dist_ur\n",
        "\n",
        "  # Obtain the kNN set in protected group (K1) and unprotected group (K2) for each tuple in protected group.\n",
        "  K1 = np.argsort(total_dist_pr, axis=1)[:, 1:k+1]\n",
        "  K2 = np.argsort(total_dist_ur, axis=1)[:, :k  ]\n",
        "\n",
        "  return K1, K2"
      ],
      "metadata": {
        "id": "eLshQ1Ux_uix"
      },
      "execution_count": 71,
      "outputs": []
    },
    {
      "cell_type": "code",
      "source": [
        "# Pre-process data for distance calculations.\n",
        "\n",
        "# Evaluate the z-scaled values for interval-scaled attributes.\n",
        "sampled_data_mean = sampled_data[interval_attr].mean(axis=0)\n",
        "sampled_data_std = sampled_data[interval_attr].std(axis=0)\n",
        "\n",
        "sampled_data[interval_attr] = (sampled_data[interval_attr] - sampled_data_mean)/sampled_data_std"
      ],
      "metadata": {
        "id": "g8vsqpF7_4-m"
      },
      "execution_count": 72,
      "outputs": []
    },
    {
      "cell_type": "code",
      "source": [
        "# Evaluate the scaled values for ordinal attribtues.\n",
        "\n",
        "sampled_ord_min = sampled_data[ordinal_attr].values.min()\n",
        "sampled_ord_max = sampled_data[ordinal_attr].values.max()\n",
        "\n",
        "sampled_data[ordinal_attr] = (sampled_data[ordinal_attr] - sampled_ord_min)/(sampled_ord_max - sampled_ord_min)"
      ],
      "metadata": {
        "id": "54wZEg2V_7PE"
      },
      "execution_count": 73,
      "outputs": []
    },
    {
      "cell_type": "code",
      "source": [
        "# Pre-processed & sampled data.\n",
        "\n",
        "sampled_data.head()"
      ],
      "metadata": {
        "colab": {
          "base_uri": "https://localhost:8080/",
          "height": 241
        },
        "id": "qlXM27OT_93D",
        "outputId": "9e8692ac-9c0e-4f26-dde7-b973cbcc634b"
      },
      "execution_count": 74,
      "outputs": [
        {
          "output_type": "execute_result",
          "data": {
            "text/plain": [
              "        age workclass    fnlwgt  education  education-num      marital-status  \\\n",
              "0 -1.440917         0  0.225307          0       0.533333       Never-married   \n",
              "1 -0.564780         0  0.556963         14       0.066667       Never-married   \n",
              "2  1.990619         0 -0.862310          0       0.533333             Widowed   \n",
              "3 -0.637791         0 -0.816724          1       0.600000       Never-married   \n",
              "4 -0.710803         0  1.117402          0       0.533333  Married-civ-spouse   \n",
              "\n",
              "  occupation  relationship  race  sex  capital-gain  capital-loss  \\\n",
              "0          6             1     0    0     -0.147904     -0.220471   \n",
              "1          8             1     0    0     -0.147904     -0.220471   \n",
              "2          3             1     0    1     -0.147904     -0.220471   \n",
              "3          5             2     1    1     -0.147904     -0.220471   \n",
              "4          1             0     0    0     -0.147904     -0.220471   \n",
              "\n",
              "   hours-per-week native-country  income  \n",
              "0       -0.037465              0       0  \n",
              "1       -0.281307              1       0  \n",
              "2       -0.037465              0       0  \n",
              "3       -0.037465              0       0  \n",
              "4        1.588150              0       0  "
            ],
            "text/html": [
              "\n",
              "  <div id=\"df-bfbeb759-e98c-4512-ba18-432b28ee0e4f\" class=\"colab-df-container\">\n",
              "    <div>\n",
              "<style scoped>\n",
              "    .dataframe tbody tr th:only-of-type {\n",
              "        vertical-align: middle;\n",
              "    }\n",
              "\n",
              "    .dataframe tbody tr th {\n",
              "        vertical-align: top;\n",
              "    }\n",
              "\n",
              "    .dataframe thead th {\n",
              "        text-align: right;\n",
              "    }\n",
              "</style>\n",
              "<table border=\"1\" class=\"dataframe\">\n",
              "  <thead>\n",
              "    <tr style=\"text-align: right;\">\n",
              "      <th></th>\n",
              "      <th>age</th>\n",
              "      <th>workclass</th>\n",
              "      <th>fnlwgt</th>\n",
              "      <th>education</th>\n",
              "      <th>education-num</th>\n",
              "      <th>marital-status</th>\n",
              "      <th>occupation</th>\n",
              "      <th>relationship</th>\n",
              "      <th>race</th>\n",
              "      <th>sex</th>\n",
              "      <th>capital-gain</th>\n",
              "      <th>capital-loss</th>\n",
              "      <th>hours-per-week</th>\n",
              "      <th>native-country</th>\n",
              "      <th>income</th>\n",
              "    </tr>\n",
              "  </thead>\n",
              "  <tbody>\n",
              "    <tr>\n",
              "      <th>0</th>\n",
              "      <td>-1.440917</td>\n",
              "      <td>0</td>\n",
              "      <td>0.225307</td>\n",
              "      <td>0</td>\n",
              "      <td>0.533333</td>\n",
              "      <td>Never-married</td>\n",
              "      <td>6</td>\n",
              "      <td>1</td>\n",
              "      <td>0</td>\n",
              "      <td>0</td>\n",
              "      <td>-0.147904</td>\n",
              "      <td>-0.220471</td>\n",
              "      <td>-0.037465</td>\n",
              "      <td>0</td>\n",
              "      <td>0</td>\n",
              "    </tr>\n",
              "    <tr>\n",
              "      <th>1</th>\n",
              "      <td>-0.564780</td>\n",
              "      <td>0</td>\n",
              "      <td>0.556963</td>\n",
              "      <td>14</td>\n",
              "      <td>0.066667</td>\n",
              "      <td>Never-married</td>\n",
              "      <td>8</td>\n",
              "      <td>1</td>\n",
              "      <td>0</td>\n",
              "      <td>0</td>\n",
              "      <td>-0.147904</td>\n",
              "      <td>-0.220471</td>\n",
              "      <td>-0.281307</td>\n",
              "      <td>1</td>\n",
              "      <td>0</td>\n",
              "    </tr>\n",
              "    <tr>\n",
              "      <th>2</th>\n",
              "      <td>1.990619</td>\n",
              "      <td>0</td>\n",
              "      <td>-0.862310</td>\n",
              "      <td>0</td>\n",
              "      <td>0.533333</td>\n",
              "      <td>Widowed</td>\n",
              "      <td>3</td>\n",
              "      <td>1</td>\n",
              "      <td>0</td>\n",
              "      <td>1</td>\n",
              "      <td>-0.147904</td>\n",
              "      <td>-0.220471</td>\n",
              "      <td>-0.037465</td>\n",
              "      <td>0</td>\n",
              "      <td>0</td>\n",
              "    </tr>\n",
              "    <tr>\n",
              "      <th>3</th>\n",
              "      <td>-0.637791</td>\n",
              "      <td>0</td>\n",
              "      <td>-0.816724</td>\n",
              "      <td>1</td>\n",
              "      <td>0.600000</td>\n",
              "      <td>Never-married</td>\n",
              "      <td>5</td>\n",
              "      <td>2</td>\n",
              "      <td>1</td>\n",
              "      <td>1</td>\n",
              "      <td>-0.147904</td>\n",
              "      <td>-0.220471</td>\n",
              "      <td>-0.037465</td>\n",
              "      <td>0</td>\n",
              "      <td>0</td>\n",
              "    </tr>\n",
              "    <tr>\n",
              "      <th>4</th>\n",
              "      <td>-0.710803</td>\n",
              "      <td>0</td>\n",
              "      <td>1.117402</td>\n",
              "      <td>0</td>\n",
              "      <td>0.533333</td>\n",
              "      <td>Married-civ-spouse</td>\n",
              "      <td>1</td>\n",
              "      <td>0</td>\n",
              "      <td>0</td>\n",
              "      <td>0</td>\n",
              "      <td>-0.147904</td>\n",
              "      <td>-0.220471</td>\n",
              "      <td>1.588150</td>\n",
              "      <td>0</td>\n",
              "      <td>0</td>\n",
              "    </tr>\n",
              "  </tbody>\n",
              "</table>\n",
              "</div>\n",
              "    <div class=\"colab-df-buttons\">\n",
              "\n",
              "  <div class=\"colab-df-container\">\n",
              "    <button class=\"colab-df-convert\" onclick=\"convertToInteractive('df-bfbeb759-e98c-4512-ba18-432b28ee0e4f')\"\n",
              "            title=\"Convert this dataframe to an interactive table.\"\n",
              "            style=\"display:none;\">\n",
              "\n",
              "  <svg xmlns=\"http://www.w3.org/2000/svg\" height=\"24px\" viewBox=\"0 -960 960 960\">\n",
              "    <path d=\"M120-120v-720h720v720H120Zm60-500h600v-160H180v160Zm220 220h160v-160H400v160Zm0 220h160v-160H400v160ZM180-400h160v-160H180v160Zm440 0h160v-160H620v160ZM180-180h160v-160H180v160Zm440 0h160v-160H620v160Z\"/>\n",
              "  </svg>\n",
              "    </button>\n",
              "\n",
              "  <style>\n",
              "    .colab-df-container {\n",
              "      display:flex;\n",
              "      gap: 12px;\n",
              "    }\n",
              "\n",
              "    .colab-df-convert {\n",
              "      background-color: #E8F0FE;\n",
              "      border: none;\n",
              "      border-radius: 50%;\n",
              "      cursor: pointer;\n",
              "      display: none;\n",
              "      fill: #1967D2;\n",
              "      height: 32px;\n",
              "      padding: 0 0 0 0;\n",
              "      width: 32px;\n",
              "    }\n",
              "\n",
              "    .colab-df-convert:hover {\n",
              "      background-color: #E2EBFA;\n",
              "      box-shadow: 0px 1px 2px rgba(60, 64, 67, 0.3), 0px 1px 3px 1px rgba(60, 64, 67, 0.15);\n",
              "      fill: #174EA6;\n",
              "    }\n",
              "\n",
              "    .colab-df-buttons div {\n",
              "      margin-bottom: 4px;\n",
              "    }\n",
              "\n",
              "    [theme=dark] .colab-df-convert {\n",
              "      background-color: #3B4455;\n",
              "      fill: #D2E3FC;\n",
              "    }\n",
              "\n",
              "    [theme=dark] .colab-df-convert:hover {\n",
              "      background-color: #434B5C;\n",
              "      box-shadow: 0px 1px 3px 1px rgba(0, 0, 0, 0.15);\n",
              "      filter: drop-shadow(0px 1px 2px rgba(0, 0, 0, 0.3));\n",
              "      fill: #FFFFFF;\n",
              "    }\n",
              "  </style>\n",
              "\n",
              "    <script>\n",
              "      const buttonEl =\n",
              "        document.querySelector('#df-bfbeb759-e98c-4512-ba18-432b28ee0e4f button.colab-df-convert');\n",
              "      buttonEl.style.display =\n",
              "        google.colab.kernel.accessAllowed ? 'block' : 'none';\n",
              "\n",
              "      async function convertToInteractive(key) {\n",
              "        const element = document.querySelector('#df-bfbeb759-e98c-4512-ba18-432b28ee0e4f');\n",
              "        const dataTable =\n",
              "          await google.colab.kernel.invokeFunction('convertToInteractive',\n",
              "                                                    [key], {});\n",
              "        if (!dataTable) return;\n",
              "\n",
              "        const docLinkHtml = 'Like what you see? Visit the ' +\n",
              "          '<a target=\"_blank\" href=https://colab.research.google.com/notebooks/data_table.ipynb>data table notebook</a>'\n",
              "          + ' to learn more about interactive tables.';\n",
              "        element.innerHTML = '';\n",
              "        dataTable['output_type'] = 'display_data';\n",
              "        await google.colab.output.renderOutput(dataTable, element);\n",
              "        const docLink = document.createElement('div');\n",
              "        docLink.innerHTML = docLinkHtml;\n",
              "        element.appendChild(docLink);\n",
              "      }\n",
              "    </script>\n",
              "  </div>\n",
              "\n",
              "\n",
              "<div id=\"df-40f7d3fe-03e4-41f6-ad6b-339ab8c346f7\">\n",
              "  <button class=\"colab-df-quickchart\" onclick=\"quickchart('df-40f7d3fe-03e4-41f6-ad6b-339ab8c346f7')\"\n",
              "            title=\"Suggest charts\"\n",
              "            style=\"display:none;\">\n",
              "\n",
              "<svg xmlns=\"http://www.w3.org/2000/svg\" height=\"24px\"viewBox=\"0 0 24 24\"\n",
              "     width=\"24px\">\n",
              "    <g>\n",
              "        <path d=\"M19 3H5c-1.1 0-2 .9-2 2v14c0 1.1.9 2 2 2h14c1.1 0 2-.9 2-2V5c0-1.1-.9-2-2-2zM9 17H7v-7h2v7zm4 0h-2V7h2v10zm4 0h-2v-4h2v4z\"/>\n",
              "    </g>\n",
              "</svg>\n",
              "  </button>\n",
              "\n",
              "<style>\n",
              "  .colab-df-quickchart {\n",
              "      --bg-color: #E8F0FE;\n",
              "      --fill-color: #1967D2;\n",
              "      --hover-bg-color: #E2EBFA;\n",
              "      --hover-fill-color: #174EA6;\n",
              "      --disabled-fill-color: #AAA;\n",
              "      --disabled-bg-color: #DDD;\n",
              "  }\n",
              "\n",
              "  [theme=dark] .colab-df-quickchart {\n",
              "      --bg-color: #3B4455;\n",
              "      --fill-color: #D2E3FC;\n",
              "      --hover-bg-color: #434B5C;\n",
              "      --hover-fill-color: #FFFFFF;\n",
              "      --disabled-bg-color: #3B4455;\n",
              "      --disabled-fill-color: #666;\n",
              "  }\n",
              "\n",
              "  .colab-df-quickchart {\n",
              "    background-color: var(--bg-color);\n",
              "    border: none;\n",
              "    border-radius: 50%;\n",
              "    cursor: pointer;\n",
              "    display: none;\n",
              "    fill: var(--fill-color);\n",
              "    height: 32px;\n",
              "    padding: 0;\n",
              "    width: 32px;\n",
              "  }\n",
              "\n",
              "  .colab-df-quickchart:hover {\n",
              "    background-color: var(--hover-bg-color);\n",
              "    box-shadow: 0 1px 2px rgba(60, 64, 67, 0.3), 0 1px 3px 1px rgba(60, 64, 67, 0.15);\n",
              "    fill: var(--button-hover-fill-color);\n",
              "  }\n",
              "\n",
              "  .colab-df-quickchart-complete:disabled,\n",
              "  .colab-df-quickchart-complete:disabled:hover {\n",
              "    background-color: var(--disabled-bg-color);\n",
              "    fill: var(--disabled-fill-color);\n",
              "    box-shadow: none;\n",
              "  }\n",
              "\n",
              "  .colab-df-spinner {\n",
              "    border: 2px solid var(--fill-color);\n",
              "    border-color: transparent;\n",
              "    border-bottom-color: var(--fill-color);\n",
              "    animation:\n",
              "      spin 1s steps(1) infinite;\n",
              "  }\n",
              "\n",
              "  @keyframes spin {\n",
              "    0% {\n",
              "      border-color: transparent;\n",
              "      border-bottom-color: var(--fill-color);\n",
              "      border-left-color: var(--fill-color);\n",
              "    }\n",
              "    20% {\n",
              "      border-color: transparent;\n",
              "      border-left-color: var(--fill-color);\n",
              "      border-top-color: var(--fill-color);\n",
              "    }\n",
              "    30% {\n",
              "      border-color: transparent;\n",
              "      border-left-color: var(--fill-color);\n",
              "      border-top-color: var(--fill-color);\n",
              "      border-right-color: var(--fill-color);\n",
              "    }\n",
              "    40% {\n",
              "      border-color: transparent;\n",
              "      border-right-color: var(--fill-color);\n",
              "      border-top-color: var(--fill-color);\n",
              "    }\n",
              "    60% {\n",
              "      border-color: transparent;\n",
              "      border-right-color: var(--fill-color);\n",
              "    }\n",
              "    80% {\n",
              "      border-color: transparent;\n",
              "      border-right-color: var(--fill-color);\n",
              "      border-bottom-color: var(--fill-color);\n",
              "    }\n",
              "    90% {\n",
              "      border-color: transparent;\n",
              "      border-bottom-color: var(--fill-color);\n",
              "    }\n",
              "  }\n",
              "</style>\n",
              "\n",
              "  <script>\n",
              "    async function quickchart(key) {\n",
              "      const quickchartButtonEl =\n",
              "        document.querySelector('#' + key + ' button');\n",
              "      quickchartButtonEl.disabled = true;  // To prevent multiple clicks.\n",
              "      quickchartButtonEl.classList.add('colab-df-spinner');\n",
              "      try {\n",
              "        const charts = await google.colab.kernel.invokeFunction(\n",
              "            'suggestCharts', [key], {});\n",
              "      } catch (error) {\n",
              "        console.error('Error during call to suggestCharts:', error);\n",
              "      }\n",
              "      quickchartButtonEl.classList.remove('colab-df-spinner');\n",
              "      quickchartButtonEl.classList.add('colab-df-quickchart-complete');\n",
              "    }\n",
              "    (() => {\n",
              "      let quickchartButtonEl =\n",
              "        document.querySelector('#df-40f7d3fe-03e4-41f6-ad6b-339ab8c346f7 button');\n",
              "      quickchartButtonEl.style.display =\n",
              "        google.colab.kernel.accessAllowed ? 'block' : 'none';\n",
              "    })();\n",
              "  </script>\n",
              "</div>\n",
              "\n",
              "    </div>\n",
              "  </div>\n"
            ],
            "application/vnd.google.colaboratory.intrinsic+json": {
              "type": "dataframe",
              "variable_name": "sampled_data",
              "summary": "{\n  \"name\": \"sampled_data\",\n  \"rows\": 16280,\n  \"fields\": [\n    {\n      \"column\": \"age\",\n      \"properties\": {\n        \"dtype\": \"number\",\n        \"std\": 1.00000000000001,\n        \"min\": -1.586939440738322,\n        \"max\": 3.742892379591676,\n        \"num_unique_values\": 72,\n        \"samples\": [\n          -0.7108027031498291,\n          2.428687273208937,\n          -1.2218824667431165\n        ],\n        \"semantic_type\": \"\",\n        \"description\": \"\"\n      }\n    },\n    {\n      \"column\": \"workclass\",\n      \"properties\": {\n        \"dtype\": \"category\",\n        \"num_unique_values\": 9,\n        \"samples\": [\n          \"6\",\n          \"1\",\n          \"?\"\n        ],\n        \"semantic_type\": \"\",\n        \"description\": \"\"\n      }\n    },\n    {\n      \"column\": \"fnlwgt\",\n      \"properties\": {\n        \"dtype\": \"number\",\n        \"std\": 0.9999999999999963,\n        \"min\": -1.682254570005086,\n        \"max\": 12.26662302775663,\n        \"num_unique_values\": 12810,\n        \"samples\": [\n          0.12432032643449066,\n          1.4708556655297589,\n          -1.067826415514092\n        ],\n        \"semantic_type\": \"\",\n        \"description\": \"\"\n      }\n    },\n    {\n      \"column\": \"education\",\n      \"properties\": {\n        \"dtype\": \"number\",\n        \"std\": 3,\n        \"min\": 0,\n        \"max\": 15,\n        \"num_unique_values\": 16,\n        \"samples\": [\n          0,\n          14,\n          2\n        ],\n        \"semantic_type\": \"\",\n        \"description\": \"\"\n      }\n    },\n    {\n      \"column\": \"education-num\",\n      \"properties\": {\n        \"dtype\": \"number\",\n        \"std\": 0.1706255789849163,\n        \"min\": 0.0,\n        \"max\": 1.0,\n        \"num_unique_values\": 16,\n        \"samples\": [\n          0.5333333333333333,\n          0.06666666666666667,\n          0.8\n        ],\n        \"semantic_type\": \"\",\n        \"description\": \"\"\n      }\n    },\n    {\n      \"column\": \"marital-status\",\n      \"properties\": {\n        \"dtype\": \"category\",\n        \"num_unique_values\": 7,\n        \"samples\": [\n          \"Never-married\",\n          \"Widowed\",\n          \"Married-spouse-absent\"\n        ],\n        \"semantic_type\": \"\",\n        \"description\": \"\"\n      }\n    },\n    {\n      \"column\": \"occupation\",\n      \"properties\": {\n        \"dtype\": \"category\",\n        \"num_unique_values\": 15,\n        \"samples\": [\n          \"10\",\n          \"7\",\n          \"6\"\n        ],\n        \"semantic_type\": \"\",\n        \"description\": \"\"\n      }\n    },\n    {\n      \"column\": \"relationship\",\n      \"properties\": {\n        \"dtype\": \"number\",\n        \"std\": 1,\n        \"min\": 0,\n        \"max\": 5,\n        \"num_unique_values\": 6,\n        \"samples\": [\n          1,\n          2,\n          3\n        ],\n        \"semantic_type\": \"\",\n        \"description\": \"\"\n      }\n    },\n    {\n      \"column\": \"race\",\n      \"properties\": {\n        \"dtype\": \"number\",\n        \"std\": 0,\n        \"min\": 0,\n        \"max\": 4,\n        \"num_unique_values\": 5,\n        \"samples\": [\n          1,\n          3,\n          2\n        ],\n        \"semantic_type\": \"\",\n        \"description\": \"\"\n      }\n    },\n    {\n      \"column\": \"sex\",\n      \"properties\": {\n        \"dtype\": \"number\",\n        \"std\": 0,\n        \"min\": 0,\n        \"max\": 1,\n        \"num_unique_values\": 2,\n        \"samples\": [\n          1,\n          0\n        ],\n        \"semantic_type\": \"\",\n        \"description\": \"\"\n      }\n    },\n    {\n      \"column\": \"capital-gain\",\n      \"properties\": {\n        \"dtype\": \"number\",\n        \"std\": 0.9999999999999621,\n        \"min\": -0.14790442625931033,\n        \"max\": 13.155165870306892,\n        \"num_unique_values\": 109,\n        \"samples\": [\n          0.008142148785161656,\n          0.8229633526618803\n        ],\n        \"semantic_type\": \"\",\n        \"description\": \"\"\n      }\n    },\n    {\n      \"column\": \"capital-loss\",\n      \"properties\": {\n        \"dtype\": \"number\",\n        \"std\": 0.9999999999999438,\n        \"min\": -0.22047127202498804,\n        \"max\": 9.398103537612537,\n        \"num_unique_values\": 81,\n        \"samples\": [\n          6.090793583837172,\n          -0.22047127202498804\n        ],\n        \"semantic_type\": \"\",\n        \"description\": \"\"\n      }\n    },\n    {\n      \"column\": \"hours-per-week\",\n      \"properties\": {\n        \"dtype\": \"number\",\n        \"std\": 0.9999999999999334,\n        \"min\": -3.207414769094685,\n        \"max\": 4.75809993646492,\n        \"num_unique_values\": 91,\n        \"samples\": [\n          3.62016926424212,\n          0.287658009875346\n        ],\n        \"semantic_type\": \"\",\n        \"description\": \"\"\n      }\n    },\n    {\n      \"column\": \"native-country\",\n      \"properties\": {\n        \"dtype\": \"category\",\n        \"num_unique_values\": 41,\n        \"samples\": [\n          \"28\",\n          \"16\"\n        ],\n        \"semantic_type\": \"\",\n        \"description\": \"\"\n      }\n    },\n    {\n      \"column\": \"income\",\n      \"properties\": {\n        \"dtype\": \"number\",\n        \"std\": 0,\n        \"min\": 0,\n        \"max\": 1,\n        \"num_unique_values\": 2,\n        \"samples\": [\n          1,\n          0\n        ],\n        \"semantic_type\": \"\",\n        \"description\": \"\"\n      }\n    }\n  ]\n}"
            }
          },
          "metadata": {},
          "execution_count": 74
        }
      ]
    },
    {
      "cell_type": "code",
      "source": [
        "# Evaluate the kNN sets K1 and K2 for k = 32 on preprocessed & sampled data.\n",
        "# K1 and K2 arrays contain the indices of kNN tuples.\n",
        "\n",
        "k1,k2 = knn(R=sampled_data,k=32,interval_attr=interval_attr,nominal_attr=nominal_attr,ordinal_attr=ordinal_attr)"
      ],
      "metadata": {
        "id": "Lcz8L-6X_-AR"
      },
      "execution_count": 75,
      "outputs": []
    },
    {
      "cell_type": "code",
      "source": [
        "print('K1 shape: ',k1.shape)\n",
        "print('K2 shape: ',k2.shape)"
      ],
      "metadata": {
        "colab": {
          "base_uri": "https://localhost:8080/"
        },
        "id": "ua06mjK5AAOY",
        "outputId": "2a83177a-c845-4182-aa1d-66b75aaa6e5d"
      },
      "execution_count": 76,
      "outputs": [
        {
          "output_type": "stream",
          "name": "stdout",
          "text": [
            "K1 shape:  (3230, 32)\n",
            "K2 shape:  (3230, 32)\n"
          ]
        }
      ]
    },
    {
      "cell_type": "code",
      "source": [
        "k1"
      ],
      "metadata": {
        "colab": {
          "base_uri": "https://localhost:8080/"
        },
        "id": "6Nj90IGuBf1F",
        "outputId": "63327fbd-0c9b-4cff-a226-91c265c059dc"
      },
      "execution_count": 77,
      "outputs": [
        {
          "output_type": "execute_result",
          "data": {
            "text/plain": [
              "array([[3003, 2799,  583, ...,  418, 3091, 1194],\n",
              "       [2067, 2258,  958, ..., 1999, 1019, 2298],\n",
              "       [2594, 2406, 2362, ...,  665,  937,  797],\n",
              "       ...,\n",
              "       [2928, 1053,  489, ...,  996, 1649, 1456],\n",
              "       [1766, 2894, 1028, ...,  584,  171,   71],\n",
              "       [ 833, 2005,  622, ..., 1882, 1763,  436]])"
            ]
          },
          "metadata": {},
          "execution_count": 77
        }
      ]
    },
    {
      "cell_type": "code",
      "source": [
        "k2"
      ],
      "metadata": {
        "colab": {
          "base_uri": "https://localhost:8080/"
        },
        "id": "tijHN2rABqMj",
        "outputId": "f745637c-1ad8-4e05-97a8-c1ca13a809dc"
      },
      "execution_count": 78,
      "outputs": [
        {
          "output_type": "execute_result",
          "data": {
            "text/plain": [
              "array([[ 1807,   934, 12729, ..., 10418,  7894,  7761],\n",
              "       [ 2631,  9412,  6491, ...,  4160,  8915,  8971],\n",
              "       [ 6782,  6958, 13044, ...,  3172, 10452,  1614],\n",
              "       ...,\n",
              "       [10682,   348,  1843, ...,  5493,  2244,  7377],\n",
              "       [12546, 12999,   922, ...,  6929,  2639,  9957],\n",
              "       [ 7465,  6655,  9528, ...,  1603, 12350,   740]])"
            ]
          },
          "metadata": {},
          "execution_count": 78
        }
      ]
    },
    {
      "cell_type": "markdown",
      "source": [
        "## ***Bias (diff) Calculation***"
      ],
      "metadata": {
        "id": "ajxQSQK-Bs1Z"
      }
    },
    {
      "cell_type": "code",
      "source": [
        "# Function to calculate the bias/diff(r).\n",
        "\n",
        "def bias_calc(R, k, K1, K2, dec):\n",
        "  dec_arr = R['income'].to_numpy()\n",
        "  bias = []\n",
        "  for i in range(K1.shape[0]):\n",
        "    nn_pr = K1[i,:k]\n",
        "    p1 = sum([1 for j in nn_pr if dec_arr[j] == dec])/k\n",
        "\n",
        "    nn_ur = K2[i,:k]\n",
        "    p2 = sum([1 for j in nn_ur if dec_arr[j] == dec])/k\n",
        "\n",
        "    bias.append(p1-p2)\n",
        "\n",
        "  return bias"
      ],
      "metadata": {
        "id": "wuvHtPWZBqkd"
      },
      "execution_count": 79,
      "outputs": []
    },
    {
      "cell_type": "code",
      "source": [
        "# Calculate the bias for k = 8, 16, 32\n",
        "\n",
        "bias_data = {}\n",
        "for i in [8,16,32]:\n",
        "  bias_data[i] = bias_calc(R = sampled_data,k = i,K1 = k1,K2 = k2, dec = 0)"
      ],
      "metadata": {
        "id": "djz34tqJBxSG"
      },
      "execution_count": 80,
      "outputs": []
    },
    {
      "cell_type": "code",
      "source": [
        "# Sort bias for each k in ascending order for cdf calcualtion.\n",
        "\n",
        "sort_bias_data = bias_data.copy()\n",
        "\n",
        "for key in bias_data.keys():\n",
        "  sort_bias_data[key] = np.sort(bias_data[key])"
      ],
      "metadata": {
        "id": "Xv9pC6R-B2w2"
      },
      "execution_count": 81,
      "outputs": []
    },
    {
      "cell_type": "code",
      "source": [
        "# array of threshold values.\n",
        "t_vals_0 = np.linspace(-1,1,500)\n",
        "t_vals_1 = np.linspace(0,1,500)\n",
        "\n",
        "# dictionary to contain cdf values.\n",
        "cdf_vals_0 = {}\n",
        "for key in bias_data.keys():\n",
        "  cdf_vals_0[key] = [(sort_bias_data[key] >= t).mean() for t in t_vals_0]\n",
        "\n",
        "cdf_vals_1 = {}\n",
        "for key in bias_data.keys():\n",
        "  cdf_vals_1[key] = [(sort_bias_data[key] >= t).mean() for t in t_vals_1]"
      ],
      "metadata": {
        "id": "2kSihLRMB6rO"
      },
      "execution_count": 82,
      "outputs": []
    },
    {
      "cell_type": "code",
      "source": [
        "# Plot of (fraction of tuples with diff>=t) vs (t values)\n",
        "\n",
        "plt.plot(t_vals_0, cdf_vals_0[8], color = 'magenta', linestyle = ':', label = 'k=8')\n",
        "plt.plot(t_vals_0, cdf_vals_0[16], color = 'blue', linestyle = '--', label = 'k=16')\n",
        "plt.plot(t_vals_0, cdf_vals_0[32], color = 'green', linestyle = '-', label = 'k=32')\n",
        "plt.grid(color='gray', linestyle='dashed',alpha=0.3)\n",
        "plt.title(\"dataset=adult, dec ≡ income='<=50K', protected ≡ female non-single\")\n",
        "plt.xlabel(\"t\")\n",
        "plt.ylabel(\"Fract. of tuples with diff ≥ t\")\n",
        "plt.legend()"
      ],
      "metadata": {
        "colab": {
          "base_uri": "https://localhost:8080/",
          "height": 489
        },
        "id": "_2o6lZpZB8IR",
        "outputId": "41ed0224-66bf-4d9e-c3ed-efeb2bb25e21"
      },
      "execution_count": 83,
      "outputs": [
        {
          "output_type": "execute_result",
          "data": {
            "text/plain": [
              "<matplotlib.legend.Legend at 0x78a6b7f15600>"
            ]
          },
          "metadata": {},
          "execution_count": 83
        },
        {
          "output_type": "display_data",
          "data": {
            "text/plain": [
              "<Figure size 640x480 with 1 Axes>"
            ],
            "image/png": "[encoded data removed]"
          },
          "metadata": {}
        }
      ]
    },
    {
      "cell_type": "code",
      "source": [
        "# Plot of (fraction of tuples with diff>=t) vs (t values)\n",
        "\n",
        "plt.plot(t_vals_1, cdf_vals_1[8], color = 'magenta', linestyle = ':', label = 'k=8')\n",
        "plt.plot(t_vals_1, cdf_vals_1[16], color = 'blue', linestyle = '--', label = 'k=16')\n",
        "plt.plot(t_vals_1, cdf_vals_1[32], color = 'green', linestyle = '-', label = 'k=32')\n",
        "plt.grid(color='gray', linestyle='dashed',alpha=0.3)\n",
        "plt.title(\"dataset=adult, dec ≡ income='<=50K', protected ≡ female non-single\")\n",
        "plt.xlabel(\"t\")\n",
        "plt.ylabel(\"Fract. of tuples with diff ≥ t\")\n",
        "plt.legend()"
      ],
      "metadata": {
        "colab": {
          "base_uri": "https://localhost:8080/",
          "height": 489
        },
        "id": "dgACc_VI4F8-",
        "outputId": "e79b826e-aed1-42f8-fd86-38a283a82266"
      },
      "execution_count": 84,
      "outputs": [
        {
          "output_type": "execute_result",
          "data": {
            "text/plain": [
              "<matplotlib.legend.Legend at 0x78a6b7f14e20>"
            ]
          },
          "metadata": {},
          "execution_count": 84
        },
        {
          "output_type": "display_data",
          "data": {
            "text/plain": [
              "<Figure size 640x480 with 1 Axes>"
            ],
            "image/png": "[encoded data removed]"
          },
          "metadata": {}
        }
      ]
    },
    {
      "cell_type": "markdown",
      "source": [
        "## ***DiscoveryN() Algorithm***"
      ],
      "metadata": {
        "id": "sudXsm9HCVHE"
      }
    },
    {
      "cell_type": "code",
      "source": [
        "# Function that implements the DiscoveryN() algorithm to produce the t-labeled dataset.\n",
        "\n",
        "def DiscoverN(D, k, t, diff, dec):\n",
        "  R = D.copy()\n",
        "  R['disc'] = 0\n",
        "  j = 0\n",
        "  for i in range(R.shape[0]):\n",
        "    if R.loc[i,'marital-status'] in ['Divorced', 'Separated', 'Widowed']:\n",
        "      if R.loc[i,'income'] == dec and diff[k][j] >= t:\n",
        "        R.loc[i, 'disc'] = 1\n",
        "      j += 1\n",
        "  return R"
      ],
      "metadata": {
        "id": "UlK6eEylB9WN"
      },
      "execution_count": 85,
      "outputs": []
    },
    {
      "cell_type": "code",
      "source": [
        "# Use DiscoveryN() function to evaluate the t-labeled dataset.\n",
        "\n",
        "t_labeled = DiscoverN(D = sampled_data, k = 32, t = 0.10, diff = bias_data, dec = 0)"
      ],
      "metadata": {
        "id": "tNW9DcdvCXLz"
      },
      "execution_count": 86,
      "outputs": []
    },
    {
      "cell_type": "code",
      "source": [
        "print('T-labeled dataset shape: ', t_labeled.shape)"
      ],
      "metadata": {
        "colab": {
          "base_uri": "https://localhost:8080/"
        },
        "id": "dcd8pEziCZyk",
        "outputId": "ee97b192-fe43-42c7-f829-172f7ab40168"
      },
      "execution_count": 87,
      "outputs": [
        {
          "output_type": "stream",
          "name": "stdout",
          "text": [
            "T-labeled dataset shape:  (16280, 16)\n"
          ]
        }
      ]
    },
    {
      "cell_type": "code",
      "source": [
        "t_labeled.head()\n"
      ],
      "metadata": {
        "colab": {
          "base_uri": "https://localhost:8080/",
          "height": 293
        },
        "id": "Uyh8oLkhCbwm",
        "outputId": "012d7089-bc2b-4cec-8ce3-f555710cfe3e"
      },
      "execution_count": 88,
      "outputs": [
        {
          "output_type": "execute_result",
          "data": {
            "text/plain": [
              "        age workclass    fnlwgt  education  education-num      marital-status  \\\n",
              "0 -1.440917         0  0.225307          0       0.533333       Never-married   \n",
              "1 -0.564780         0  0.556963         14       0.066667       Never-married   \n",
              "2  1.990619         0 -0.862310          0       0.533333             Widowed   \n",
              "3 -0.637791         0 -0.816724          1       0.600000       Never-married   \n",
              "4 -0.710803         0  1.117402          0       0.533333  Married-civ-spouse   \n",
              "\n",
              "  occupation  relationship  race  sex  capital-gain  capital-loss  \\\n",
              "0          6             1     0    0     -0.147904     -0.220471   \n",
              "1          8             1     0    0     -0.147904     -0.220471   \n",
              "2          3             1     0    1     -0.147904     -0.220471   \n",
              "3          5             2     1    1     -0.147904     -0.220471   \n",
              "4          1             0     0    0     -0.147904     -0.220471   \n",
              "\n",
              "   hours-per-week native-country  income  disc  \n",
              "0       -0.037465              0       0     0  \n",
              "1       -0.281307              1       0     0  \n",
              "2       -0.037465              0       0     0  \n",
              "3       -0.037465              0       0     0  \n",
              "4        1.588150              0       0     0  "
            ],
            "text/html": [
              "\n",
              "  <div id=\"df-14e914d5-2370-411e-bdf9-1bcf618ac97f\" class=\"colab-df-container\">\n",
              "    <div>\n",
              "<style scoped>\n",
              "    .dataframe tbody tr th:only-of-type {\n",
              "        vertical-align: middle;\n",
              "    }\n",
              "\n",
              "    .dataframe tbody tr th {\n",
              "        vertical-align: top;\n",
              "    }\n",
              "\n",
              "    .dataframe thead th {\n",
              "        text-align: right;\n",
              "    }\n",
              "</style>\n",
              "<table border=\"1\" class=\"dataframe\">\n",
              "  <thead>\n",
              "    <tr style=\"text-align: right;\">\n",
              "      <th></th>\n",
              "      <th>age</th>\n",
              "      <th>workclass</th>\n",
              "      <th>fnlwgt</th>\n",
              "      <th>education</th>\n",
              "      <th>education-num</th>\n",
              "      <th>marital-status</th>\n",
              "      <th>occupation</th>\n",
              "      <th>relationship</th>\n",
              "      <th>race</th>\n",
              "      <th>sex</th>\n",
              "      <th>capital-gain</th>\n",
              "      <th>capital-loss</th>\n",
              "      <th>hours-per-week</th>\n",
              "      <th>native-country</th>\n",
              "      <th>income</th>\n",
              "      <th>disc</th>\n",
              "    </tr>\n",
              "  </thead>\n",
              "  <tbody>\n",
              "    <tr>\n",
              "      <th>0</th>\n",
              "      <td>-1.440917</td>\n",
              "      <td>0</td>\n",
              "      <td>0.225307</td>\n",
              "      <td>0</td>\n",
              "      <td>0.533333</td>\n",
              "      <td>Never-married</td>\n",
              "      <td>6</td>\n",
              "      <td>1</td>\n",
              "      <td>0</td>\n",
              "      <td>0</td>\n",
              "      <td>-0.147904</td>\n",
              "      <td>-0.220471</td>\n",
              "      <td>-0.037465</td>\n",
              "      <td>0</td>\n",
              "      <td>0</td>\n",
              "      <td>0</td>\n",
              "    </tr>\n",
              "    <tr>\n",
              "      <th>1</th>\n",
              "      <td>-0.564780</td>\n",
              "      <td>0</td>\n",
              "      <td>0.556963</td>\n",
              "      <td>14</td>\n",
              "      <td>0.066667</td>\n",
              "      <td>Never-married</td>\n",
              "      <td>8</td>\n",
              "      <td>1</td>\n",
              "      <td>0</td>\n",
              "      <td>0</td>\n",
              "      <td>-0.147904</td>\n",
              "      <td>-0.220471</td>\n",
              "      <td>-0.281307</td>\n",
              "      <td>1</td>\n",
              "      <td>0</td>\n",
              "      <td>0</td>\n",
              "    </tr>\n",
              "    <tr>\n",
              "      <th>2</th>\n",
              "      <td>1.990619</td>\n",
              "      <td>0</td>\n",
              "      <td>-0.862310</td>\n",
              "      <td>0</td>\n",
              "      <td>0.533333</td>\n",
              "      <td>Widowed</td>\n",
              "      <td>3</td>\n",
              "      <td>1</td>\n",
              "      <td>0</td>\n",
              "      <td>1</td>\n",
              "      <td>-0.147904</td>\n",
              "      <td>-0.220471</td>\n",
              "      <td>-0.037465</td>\n",
              "      <td>0</td>\n",
              "      <td>0</td>\n",
              "      <td>0</td>\n",
              "    </tr>\n",
              "    <tr>\n",
              "      <th>3</th>\n",
              "      <td>-0.637791</td>\n",
              "      <td>0</td>\n",
              "      <td>-0.816724</td>\n",
              "      <td>1</td>\n",
              "      <td>0.600000</td>\n",
              "      <td>Never-married</td>\n",
              "      <td>5</td>\n",
              "      <td>2</td>\n",
              "      <td>1</td>\n",
              "      <td>1</td>\n",
              "      <td>-0.147904</td>\n",
              "      <td>-0.220471</td>\n",
              "      <td>-0.037465</td>\n",
              "      <td>0</td>\n",
              "      <td>0</td>\n",
              "      <td>0</td>\n",
              "    </tr>\n",
              "    <tr>\n",
              "      <th>4</th>\n",
              "      <td>-0.710803</td>\n",
              "      <td>0</td>\n",
              "      <td>1.117402</td>\n",
              "      <td>0</td>\n",
              "      <td>0.533333</td>\n",
              "      <td>Married-civ-spouse</td>\n",
              "      <td>1</td>\n",
              "      <td>0</td>\n",
              "      <td>0</td>\n",
              "      <td>0</td>\n",
              "      <td>-0.147904</td>\n",
              "      <td>-0.220471</td>\n",
              "      <td>1.588150</td>\n",
              "      <td>0</td>\n",
              "      <td>0</td>\n",
              "      <td>0</td>\n",
              "    </tr>\n",
              "  </tbody>\n",
              "</table>\n",
              "</div>\n",
              "    <div class=\"colab-df-buttons\">\n",
              "\n",
              "  <div class=\"colab-df-container\">\n",
              "    <button class=\"colab-df-convert\" onclick=\"convertToInteractive('df-14e914d5-2370-411e-bdf9-1bcf618ac97f')\"\n",
              "            title=\"Convert this dataframe to an interactive table.\"\n",
              "            style=\"display:none;\">\n",
              "\n",
              "  <svg xmlns=\"http://www.w3.org/2000/svg\" height=\"24px\" viewBox=\"0 -960 960 960\">\n",
              "    <path d=\"M120-120v-720h720v720H120Zm60-500h600v-160H180v160Zm220 220h160v-160H400v160Zm0 220h160v-160H400v160ZM180-400h160v-160H180v160Zm440 0h160v-160H620v160ZM180-180h160v-160H180v160Zm440 0h160v-160H620v160Z\"/>\n",
              "  </svg>\n",
              "    </button>\n",
              "\n",
              "  <style>\n",
              "    .colab-df-container {\n",
              "      display:flex;\n",
              "      gap: 12px;\n",
              "    }\n",
              "\n",
              "    .colab-df-convert {\n",
              "      background-color: #E8F0FE;\n",
              "      border: none;\n",
              "      border-radius: 50%;\n",
              "      cursor: pointer;\n",
              "      display: none;\n",
              "      fill: #1967D2;\n",
              "      height: 32px;\n",
              "      padding: 0 0 0 0;\n",
              "      width: 32px;\n",
              "    }\n",
              "\n",
              "    .colab-df-convert:hover {\n",
              "      background-color: #E2EBFA;\n",
              "      box-shadow: 0px 1px 2px rgba(60, 64, 67, 0.3), 0px 1px 3px 1px rgba(60, 64, 67, 0.15);\n",
              "      fill: #174EA6;\n",
              "    }\n",
              "\n",
              "    .colab-df-buttons div {\n",
              "      margin-bottom: 4px;\n",
              "    }\n",
              "\n",
              "    [theme=dark] .colab-df-convert {\n",
              "      background-color: #3B4455;\n",
              "      fill: #D2E3FC;\n",
              "    }\n",
              "\n",
              "    [theme=dark] .colab-df-convert:hover {\n",
              "      background-color: #434B5C;\n",
              "      box-shadow: 0px 1px 3px 1px rgba(0, 0, 0, 0.15);\n",
              "      filter: drop-shadow(0px 1px 2px rgba(0, 0, 0, 0.3));\n",
              "      fill: #FFFFFF;\n",
              "    }\n",
              "  </style>\n",
              "\n",
              "    <script>\n",
              "      const buttonEl =\n",
              "        document.querySelector('#df-14e914d5-2370-411e-bdf9-1bcf618ac97f button.colab-df-convert');\n",
              "      buttonEl.style.display =\n",
              "        google.colab.kernel.accessAllowed ? 'block' : 'none';\n",
              "\n",
              "      async function convertToInteractive(key) {\n",
              "        const element = document.querySelector('#df-14e914d5-2370-411e-bdf9-1bcf618ac97f');\n",
              "        const dataTable =\n",
              "          await google.colab.kernel.invokeFunction('convertToInteractive',\n",
              "                                                    [key], {});\n",
              "        if (!dataTable) return;\n",
              "\n",
              "        const docLinkHtml = 'Like what you see? Visit the ' +\n",
              "          '<a target=\"_blank\" href=https://colab.research.google.com/notebooks/data_table.ipynb>data table notebook</a>'\n",
              "          + ' to learn more about interactive tables.';\n",
              "        element.innerHTML = '';\n",
              "        dataTable['output_type'] = 'display_data';\n",
              "        await google.colab.output.renderOutput(dataTable, element);\n",
              "        const docLink = document.createElement('div');\n",
              "        docLink.innerHTML = docLinkHtml;\n",
              "        element.appendChild(docLink);\n",
              "      }\n",
              "    </script>\n",
              "  </div>\n",
              "\n",
              "\n",
              "<div id=\"df-77527aa3-6dbf-4cd0-a400-c3312c8cd608\">\n",
              "  <button class=\"colab-df-quickchart\" onclick=\"quickchart('df-77527aa3-6dbf-4cd0-a400-c3312c8cd608')\"\n",
              "            title=\"Suggest charts\"\n",
              "            style=\"display:none;\">\n",
              "\n",
              "<svg xmlns=\"http://www.w3.org/2000/svg\" height=\"24px\"viewBox=\"0 0 24 24\"\n",
              "     width=\"24px\">\n",
              "    <g>\n",
              "        <path d=\"M19 3H5c-1.1 0-2 .9-2 2v14c0 1.1.9 2 2 2h14c1.1 0 2-.9 2-2V5c0-1.1-.9-2-2-2zM9 17H7v-7h2v7zm4 0h-2V7h2v10zm4 0h-2v-4h2v4z\"/>\n",
              "    </g>\n",
              "</svg>\n",
              "  </button>\n",
              "\n",
              "<style>\n",
              "  .colab-df-quickchart {\n",
              "      --bg-color: #E8F0FE;\n",
              "      --fill-color: #1967D2;\n",
              "      --hover-bg-color: #E2EBFA;\n",
              "      --hover-fill-color: #174EA6;\n",
              "      --disabled-fill-color: #AAA;\n",
              "      --disabled-bg-color: #DDD;\n",
              "  }\n",
              "\n",
              "  [theme=dark] .colab-df-quickchart {\n",
              "      --bg-color: #3B4455;\n",
              "      --fill-color: #D2E3FC;\n",
              "      --hover-bg-color: #434B5C;\n",
              "      --hover-fill-color: #FFFFFF;\n",
              "      --disabled-bg-color: #3B4455;\n",
              "      --disabled-fill-color: #666;\n",
              "  }\n",
              "\n",
              "  .colab-df-quickchart {\n",
              "    background-color: var(--bg-color);\n",
              "    border: none;\n",
              "    border-radius: 50%;\n",
              "    cursor: pointer;\n",
              "    display: none;\n",
              "    fill: var(--fill-color);\n",
              "    height: 32px;\n",
              "    padding: 0;\n",
              "    width: 32px;\n",
              "  }\n",
              "\n",
              "  .colab-df-quickchart:hover {\n",
              "    background-color: var(--hover-bg-color);\n",
              "    box-shadow: 0 1px 2px rgba(60, 64, 67, 0.3), 0 1px 3px 1px rgba(60, 64, 67, 0.15);\n",
              "    fill: var(--button-hover-fill-color);\n",
              "  }\n",
              "\n",
              "  .colab-df-quickchart-complete:disabled,\n",
              "  .colab-df-quickchart-complete:disabled:hover {\n",
              "    background-color: var(--disabled-bg-color);\n",
              "    fill: var(--disabled-fill-color);\n",
              "    box-shadow: none;\n",
              "  }\n",
              "\n",
              "  .colab-df-spinner {\n",
              "    border: 2px solid var(--fill-color);\n",
              "    border-color: transparent;\n",
              "    border-bottom-color: var(--fill-color);\n",
              "    animation:\n",
              "      spin 1s steps(1) infinite;\n",
              "  }\n",
              "\n",
              "  @keyframes spin {\n",
              "    0% {\n",
              "      border-color: transparent;\n",
              "      border-bottom-color: var(--fill-color);\n",
              "      border-left-color: var(--fill-color);\n",
              "    }\n",
              "    20% {\n",
              "      border-color: transparent;\n",
              "      border-left-color: var(--fill-color);\n",
              "      border-top-color: var(--fill-color);\n",
              "    }\n",
              "    30% {\n",
              "      border-color: transparent;\n",
              "      border-left-color: var(--fill-color);\n",
              "      border-top-color: var(--fill-color);\n",
              "      border-right-color: var(--fill-color);\n",
              "    }\n",
              "    40% {\n",
              "      border-color: transparent;\n",
              "      border-right-color: var(--fill-color);\n",
              "      border-top-color: var(--fill-color);\n",
              "    }\n",
              "    60% {\n",
              "      border-color: transparent;\n",
              "      border-right-color: var(--fill-color);\n",
              "    }\n",
              "    80% {\n",
              "      border-color: transparent;\n",
              "      border-right-color: var(--fill-color);\n",
              "      border-bottom-color: var(--fill-color);\n",
              "    }\n",
              "    90% {\n",
              "      border-color: transparent;\n",
              "      border-bottom-color: var(--fill-color);\n",
              "    }\n",
              "  }\n",
              "</style>\n",
              "\n",
              "  <script>\n",
              "    async function quickchart(key) {\n",
              "      const quickchartButtonEl =\n",
              "        document.querySelector('#' + key + ' button');\n",
              "      quickchartButtonEl.disabled = true;  // To prevent multiple clicks.\n",
              "      quickchartButtonEl.classList.add('colab-df-spinner');\n",
              "      try {\n",
              "        const charts = await google.colab.kernel.invokeFunction(\n",
              "            'suggestCharts', [key], {});\n",
              "      } catch (error) {\n",
              "        console.error('Error during call to suggestCharts:', error);\n",
              "      }\n",
              "      quickchartButtonEl.classList.remove('colab-df-spinner');\n",
              "      quickchartButtonEl.classList.add('colab-df-quickchart-complete');\n",
              "    }\n",
              "    (() => {\n",
              "      let quickchartButtonEl =\n",
              "        document.querySelector('#df-77527aa3-6dbf-4cd0-a400-c3312c8cd608 button');\n",
              "      quickchartButtonEl.style.display =\n",
              "        google.colab.kernel.accessAllowed ? 'block' : 'none';\n",
              "    })();\n",
              "  </script>\n",
              "</div>\n",
              "\n",
              "    </div>\n",
              "  </div>\n"
            ],
            "application/vnd.google.colaboratory.intrinsic+json": {
              "type": "dataframe",
              "variable_name": "t_labeled",
              "summary": "{\n  \"name\": \"t_labeled\",\n  \"rows\": 16280,\n  \"fields\": [\n    {\n      \"column\": \"age\",\n      \"properties\": {\n        \"dtype\": \"number\",\n        \"std\": 1.00000000000001,\n        \"min\": -1.586939440738322,\n        \"max\": 3.742892379591676,\n        \"num_unique_values\": 72,\n        \"samples\": [\n          -0.7108027031498291,\n          2.428687273208937,\n          -1.2218824667431165\n        ],\n        \"semantic_type\": \"\",\n        \"description\": \"\"\n      }\n    },\n    {\n      \"column\": \"workclass\",\n      \"properties\": {\n        \"dtype\": \"category\",\n        \"num_unique_values\": 9,\n        \"samples\": [\n          \"6\",\n          \"1\",\n          \"?\"\n        ],\n        \"semantic_type\": \"\",\n        \"description\": \"\"\n      }\n    },\n    {\n      \"column\": \"fnlwgt\",\n      \"properties\": {\n        \"dtype\": \"number\",\n        \"std\": 0.9999999999999963,\n        \"min\": -1.682254570005086,\n        \"max\": 12.26662302775663,\n        \"num_unique_values\": 12810,\n        \"samples\": [\n          0.12432032643449066,\n          1.4708556655297589,\n          -1.067826415514092\n        ],\n        \"semantic_type\": \"\",\n        \"description\": \"\"\n      }\n    },\n    {\n      \"column\": \"education\",\n      \"properties\": {\n        \"dtype\": \"number\",\n        \"std\": 3,\n        \"min\": 0,\n        \"max\": 15,\n        \"num_unique_values\": 16,\n        \"samples\": [\n          0,\n          14,\n          2\n        ],\n        \"semantic_type\": \"\",\n        \"description\": \"\"\n      }\n    },\n    {\n      \"column\": \"education-num\",\n      \"properties\": {\n        \"dtype\": \"number\",\n        \"std\": 0.1706255789849163,\n        \"min\": 0.0,\n        \"max\": 1.0,\n        \"num_unique_values\": 16,\n        \"samples\": [\n          0.5333333333333333,\n          0.06666666666666667,\n          0.8\n        ],\n        \"semantic_type\": \"\",\n        \"description\": \"\"\n      }\n    },\n    {\n      \"column\": \"marital-status\",\n      \"properties\": {\n        \"dtype\": \"category\",\n        \"num_unique_values\": 7,\n        \"samples\": [\n          \"Never-married\",\n          \"Widowed\",\n          \"Married-spouse-absent\"\n        ],\n        \"semantic_type\": \"\",\n        \"description\": \"\"\n      }\n    },\n    {\n      \"column\": \"occupation\",\n      \"properties\": {\n        \"dtype\": \"category\",\n        \"num_unique_values\": 15,\n        \"samples\": [\n          \"10\",\n          \"7\",\n          \"6\"\n        ],\n        \"semantic_type\": \"\",\n        \"description\": \"\"\n      }\n    },\n    {\n      \"column\": \"relationship\",\n      \"properties\": {\n        \"dtype\": \"number\",\n        \"std\": 1,\n        \"min\": 0,\n        \"max\": 5,\n        \"num_unique_values\": 6,\n        \"samples\": [\n          1,\n          2,\n          3\n        ],\n        \"semantic_type\": \"\",\n        \"description\": \"\"\n      }\n    },\n    {\n      \"column\": \"race\",\n      \"properties\": {\n        \"dtype\": \"number\",\n        \"std\": 0,\n        \"min\": 0,\n        \"max\": 4,\n        \"num_unique_values\": 5,\n        \"samples\": [\n          1,\n          3,\n          2\n        ],\n        \"semantic_type\": \"\",\n        \"description\": \"\"\n      }\n    },\n    {\n      \"column\": \"sex\",\n      \"properties\": {\n        \"dtype\": \"number\",\n        \"std\": 0,\n        \"min\": 0,\n        \"max\": 1,\n        \"num_unique_values\": 2,\n        \"samples\": [\n          1,\n          0\n        ],\n        \"semantic_type\": \"\",\n        \"description\": \"\"\n      }\n    },\n    {\n      \"column\": \"capital-gain\",\n      \"properties\": {\n        \"dtype\": \"number\",\n        \"std\": 0.9999999999999621,\n        \"min\": -0.14790442625931033,\n        \"max\": 13.155165870306892,\n        \"num_unique_values\": 109,\n        \"samples\": [\n          0.008142148785161656,\n          0.8229633526618803\n        ],\n        \"semantic_type\": \"\",\n        \"description\": \"\"\n      }\n    },\n    {\n      \"column\": \"capital-loss\",\n      \"properties\": {\n        \"dtype\": \"number\",\n        \"std\": 0.9999999999999438,\n        \"min\": -0.22047127202498804,\n        \"max\": 9.398103537612537,\n        \"num_unique_values\": 81,\n        \"samples\": [\n          6.090793583837172,\n          -0.22047127202498804\n        ],\n        \"semantic_type\": \"\",\n        \"description\": \"\"\n      }\n    },\n    {\n      \"column\": \"hours-per-week\",\n      \"properties\": {\n        \"dtype\": \"number\",\n        \"std\": 0.9999999999999334,\n        \"min\": -3.207414769094685,\n        \"max\": 4.75809993646492,\n        \"num_unique_values\": 91,\n        \"samples\": [\n          3.62016926424212,\n          0.287658009875346\n        ],\n        \"semantic_type\": \"\",\n        \"description\": \"\"\n      }\n    },\n    {\n      \"column\": \"native-country\",\n      \"properties\": {\n        \"dtype\": \"category\",\n        \"num_unique_values\": 41,\n        \"samples\": [\n          \"28\",\n          \"16\"\n        ],\n        \"semantic_type\": \"\",\n        \"description\": \"\"\n      }\n    },\n    {\n      \"column\": \"income\",\n      \"properties\": {\n        \"dtype\": \"number\",\n        \"std\": 0,\n        \"min\": 0,\n        \"max\": 1,\n        \"num_unique_values\": 2,\n        \"samples\": [\n          1,\n          0\n        ],\n        \"semantic_type\": \"\",\n        \"description\": \"\"\n      }\n    },\n    {\n      \"column\": \"disc\",\n      \"properties\": {\n        \"dtype\": \"number\",\n        \"std\": 0,\n        \"min\": 0,\n        \"max\": 1,\n        \"num_unique_values\": 2,\n        \"samples\": [\n          1,\n          0\n        ],\n        \"semantic_type\": \"\",\n        \"description\": \"\"\n      }\n    }\n  ]\n}"
            }
          },
          "metadata": {},
          "execution_count": 88
        }
      ]
    },
    {
      "cell_type": "markdown",
      "source": [
        "## ***PreventionN() Algorithm***"
      ],
      "metadata": {
        "id": "Fb5FcLWrCyrj"
      }
    },
    {
      "cell_type": "code",
      "source": [
        "# Function that implements the PreventionN() algorithm to produce the t-corrected dataset.\n",
        "\n",
        "def PreventionN(T,k,t,diff, dec):\n",
        "  R = T.copy()\n",
        "  j = 0\n",
        "  for i in range(R.shape[0]):\n",
        "    if R.loc[i,'marital-status'] in ['Divorced', 'Separated', 'Widowed']:\n",
        "      if R.loc[i,'income'] == dec[0] and diff[k][j] >= t:\n",
        "        R.loc[i,'income'] = dec[1]\n",
        "      j += 1\n",
        "  return R"
      ],
      "metadata": {
        "id": "My2dZtHxCvUz"
      },
      "execution_count": 89,
      "outputs": []
    },
    {
      "cell_type": "code",
      "source": [
        "# Use PreventionN() function to evaluate the t-corrected dataset.\n",
        "\n",
        "t_corrected = PreventionN(T = t_labeled, k = 32, t = 0.10, diff = bias_data, dec = [0,1])"
      ],
      "metadata": {
        "id": "QEaZpTzrC4zg"
      },
      "execution_count": 90,
      "outputs": []
    },
    {
      "cell_type": "code",
      "source": [
        "print('T-corrected dataset shape: ', t_corrected.shape)"
      ],
      "metadata": {
        "colab": {
          "base_uri": "https://localhost:8080/"
        },
        "id": "_Z6h_pOPC6RB",
        "outputId": "8d8c70e5-64e4-438a-ac68-279b154dd00f"
      },
      "execution_count": 91,
      "outputs": [
        {
          "output_type": "stream",
          "name": "stdout",
          "text": [
            "T-corrected dataset shape:  (16280, 16)\n"
          ]
        }
      ]
    },
    {
      "cell_type": "code",
      "source": [
        "t_corrected.head()"
      ],
      "metadata": {
        "colab": {
          "base_uri": "https://localhost:8080/",
          "height": 293
        },
        "id": "1zLqQNGbC7dB",
        "outputId": "dac21f27-d6bd-43a5-88b3-7dc3d9aac5e1"
      },
      "execution_count": 92,
      "outputs": [
        {
          "output_type": "execute_result",
          "data": {
            "text/plain": [
              "        age workclass    fnlwgt  education  education-num      marital-status  \\\n",
              "0 -1.440917         0  0.225307          0       0.533333       Never-married   \n",
              "1 -0.564780         0  0.556963         14       0.066667       Never-married   \n",
              "2  1.990619         0 -0.862310          0       0.533333             Widowed   \n",
              "3 -0.637791         0 -0.816724          1       0.600000       Never-married   \n",
              "4 -0.710803         0  1.117402          0       0.533333  Married-civ-spouse   \n",
              "\n",
              "  occupation  relationship  race  sex  capital-gain  capital-loss  \\\n",
              "0          6             1     0    0     -0.147904     -0.220471   \n",
              "1          8             1     0    0     -0.147904     -0.220471   \n",
              "2          3             1     0    1     -0.147904     -0.220471   \n",
              "3          5             2     1    1     -0.147904     -0.220471   \n",
              "4          1             0     0    0     -0.147904     -0.220471   \n",
              "\n",
              "   hours-per-week native-country  income  disc  \n",
              "0       -0.037465              0       0     0  \n",
              "1       -0.281307              1       0     0  \n",
              "2       -0.037465              0       0     0  \n",
              "3       -0.037465              0       0     0  \n",
              "4        1.588150              0       0     0  "
            ],
            "text/html": [
              "\n",
              "  <div id=\"df-b77b29f2-a80c-4920-b498-6dc143d33200\" class=\"colab-df-container\">\n",
              "    <div>\n",
              "<style scoped>\n",
              "    .dataframe tbody tr th:only-of-type {\n",
              "        vertical-align: middle;\n",
              "    }\n",
              "\n",
              "    .dataframe tbody tr th {\n",
              "        vertical-align: top;\n",
              "    }\n",
              "\n",
              "    .dataframe thead th {\n",
              "        text-align: right;\n",
              "    }\n",
              "</style>\n",
              "<table border=\"1\" class=\"dataframe\">\n",
              "  <thead>\n",
              "    <tr style=\"text-align: right;\">\n",
              "      <th></th>\n",
              "      <th>age</th>\n",
              "      <th>workclass</th>\n",
              "      <th>fnlwgt</th>\n",
              "      <th>education</th>\n",
              "      <th>education-num</th>\n",
              "      <th>marital-status</th>\n",
              "      <th>occupation</th>\n",
              "      <th>relationship</th>\n",
              "      <th>race</th>\n",
              "      <th>sex</th>\n",
              "      <th>capital-gain</th>\n",
              "      <th>capital-loss</th>\n",
              "      <th>hours-per-week</th>\n",
              "      <th>native-country</th>\n",
              "      <th>income</th>\n",
              "      <th>disc</th>\n",
              "    </tr>\n",
              "  </thead>\n",
              "  <tbody>\n",
              "    <tr>\n",
              "      <th>0</th>\n",
              "      <td>-1.440917</td>\n",
              "      <td>0</td>\n",
              "      <td>0.225307</td>\n",
              "      <td>0</td>\n",
              "      <td>0.533333</td>\n",
              "      <td>Never-married</td>\n",
              "      <td>6</td>\n",
              "      <td>1</td>\n",
              "      <td>0</td>\n",
              "      <td>0</td>\n",
              "      <td>-0.147904</td>\n",
              "      <td>-0.220471</td>\n",
              "      <td>-0.037465</td>\n",
              "      <td>0</td>\n",
              "      <td>0</td>\n",
              "      <td>0</td>\n",
              "    </tr>\n",
              "    <tr>\n",
              "      <th>1</th>\n",
              "      <td>-0.564780</td>\n",
              "      <td>0</td>\n",
              "      <td>0.556963</td>\n",
              "      <td>14</td>\n",
              "      <td>0.066667</td>\n",
              "      <td>Never-married</td>\n",
              "      <td>8</td>\n",
              "      <td>1</td>\n",
              "      <td>0</td>\n",
              "      <td>0</td>\n",
              "      <td>-0.147904</td>\n",
              "      <td>-0.220471</td>\n",
              "      <td>-0.281307</td>\n",
              "      <td>1</td>\n",
              "      <td>0</td>\n",
              "      <td>0</td>\n",
              "    </tr>\n",
              "    <tr>\n",
              "      <th>2</th>\n",
              "      <td>1.990619</td>\n",
              "      <td>0</td>\n",
              "      <td>-0.862310</td>\n",
              "      <td>0</td>\n",
              "      <td>0.533333</td>\n",
              "      <td>Widowed</td>\n",
              "      <td>3</td>\n",
              "      <td>1</td>\n",
              "      <td>0</td>\n",
              "      <td>1</td>\n",
              "      <td>-0.147904</td>\n",
              "      <td>-0.220471</td>\n",
              "      <td>-0.037465</td>\n",
              "      <td>0</td>\n",
              "      <td>0</td>\n",
              "      <td>0</td>\n",
              "    </tr>\n",
              "    <tr>\n",
              "      <th>3</th>\n",
              "      <td>-0.637791</td>\n",
              "      <td>0</td>\n",
              "      <td>-0.816724</td>\n",
              "      <td>1</td>\n",
              "      <td>0.600000</td>\n",
              "      <td>Never-married</td>\n",
              "      <td>5</td>\n",
              "      <td>2</td>\n",
              "      <td>1</td>\n",
              "      <td>1</td>\n",
              "      <td>-0.147904</td>\n",
              "      <td>-0.220471</td>\n",
              "      <td>-0.037465</td>\n",
              "      <td>0</td>\n",
              "      <td>0</td>\n",
              "      <td>0</td>\n",
              "    </tr>\n",
              "    <tr>\n",
              "      <th>4</th>\n",
              "      <td>-0.710803</td>\n",
              "      <td>0</td>\n",
              "      <td>1.117402</td>\n",
              "      <td>0</td>\n",
              "      <td>0.533333</td>\n",
              "      <td>Married-civ-spouse</td>\n",
              "      <td>1</td>\n",
              "      <td>0</td>\n",
              "      <td>0</td>\n",
              "      <td>0</td>\n",
              "      <td>-0.147904</td>\n",
              "      <td>-0.220471</td>\n",
              "      <td>1.588150</td>\n",
              "      <td>0</td>\n",
              "      <td>0</td>\n",
              "      <td>0</td>\n",
              "    </tr>\n",
              "  </tbody>\n",
              "</table>\n",
              "</div>\n",
              "    <div class=\"colab-df-buttons\">\n",
              "\n",
              "  <div class=\"colab-df-container\">\n",
              "    <button class=\"colab-df-convert\" onclick=\"convertToInteractive('df-b77b29f2-a80c-4920-b498-6dc143d33200')\"\n",
              "            title=\"Convert this dataframe to an interactive table.\"\n",
              "            style=\"display:none;\">\n",
              "\n",
              "  <svg xmlns=\"http://www.w3.org/2000/svg\" height=\"24px\" viewBox=\"0 -960 960 960\">\n",
              "    <path d=\"M120-120v-720h720v720H120Zm60-500h600v-160H180v160Zm220 220h160v-160H400v160Zm0 220h160v-160H400v160ZM180-400h160v-160H180v160Zm440 0h160v-160H620v160ZM180-180h160v-160H180v160Zm440 0h160v-160H620v160Z\"/>\n",
              "  </svg>\n",
              "    </button>\n",
              "\n",
              "  <style>\n",
              "    .colab-df-container {\n",
              "      display:flex;\n",
              "      gap: 12px;\n",
              "    }\n",
              "\n",
              "    .colab-df-convert {\n",
              "      background-color: #E8F0FE;\n",
              "      border: none;\n",
              "      border-radius: 50%;\n",
              "      cursor: pointer;\n",
              "      display: none;\n",
              "      fill: #1967D2;\n",
              "      height: 32px;\n",
              "      padding: 0 0 0 0;\n",
              "      width: 32px;\n",
              "    }\n",
              "\n",
              "    .colab-df-convert:hover {\n",
              "      background-color: #E2EBFA;\n",
              "      box-shadow: 0px 1px 2px rgba(60, 64, 67, 0.3), 0px 1px 3px 1px rgba(60, 64, 67, 0.15);\n",
              "      fill: #174EA6;\n",
              "    }\n",
              "\n",
              "    .colab-df-buttons div {\n",
              "      margin-bottom: 4px;\n",
              "    }\n",
              "\n",
              "    [theme=dark] .colab-df-convert {\n",
              "      background-color: #3B4455;\n",
              "      fill: #D2E3FC;\n",
              "    }\n",
              "\n",
              "    [theme=dark] .colab-df-convert:hover {\n",
              "      background-color: #434B5C;\n",
              "      box-shadow: 0px 1px 3px 1px rgba(0, 0, 0, 0.15);\n",
              "      filter: drop-shadow(0px 1px 2px rgba(0, 0, 0, 0.3));\n",
              "      fill: #FFFFFF;\n",
              "    }\n",
              "  </style>\n",
              "\n",
              "    <script>\n",
              "      const buttonEl =\n",
              "        document.querySelector('#df-b77b29f2-a80c-4920-b498-6dc143d33200 button.colab-df-convert');\n",
              "      buttonEl.style.display =\n",
              "        google.colab.kernel.accessAllowed ? 'block' : 'none';\n",
              "\n",
              "      async function convertToInteractive(key) {\n",
              "        const element = document.querySelector('#df-b77b29f2-a80c-4920-b498-6dc143d33200');\n",
              "        const dataTable =\n",
              "          await google.colab.kernel.invokeFunction('convertToInteractive',\n",
              "                                                    [key], {});\n",
              "        if (!dataTable) return;\n",
              "\n",
              "        const docLinkHtml = 'Like what you see? Visit the ' +\n",
              "          '<a target=\"_blank\" href=https://colab.research.google.com/notebooks/data_table.ipynb>data table notebook</a>'\n",
              "          + ' to learn more about interactive tables.';\n",
              "        element.innerHTML = '';\n",
              "        dataTable['output_type'] = 'display_data';\n",
              "        await google.colab.output.renderOutput(dataTable, element);\n",
              "        const docLink = document.createElement('div');\n",
              "        docLink.innerHTML = docLinkHtml;\n",
              "        element.appendChild(docLink);\n",
              "      }\n",
              "    </script>\n",
              "  </div>\n",
              "\n",
              "\n",
              "<div id=\"df-2bb37f2c-b6d8-4620-bec2-4235b7822d04\">\n",
              "  <button class=\"colab-df-quickchart\" onclick=\"quickchart('df-2bb37f2c-b6d8-4620-bec2-4235b7822d04')\"\n",
              "            title=\"Suggest charts\"\n",
              "            style=\"display:none;\">\n",
              "\n",
              "<svg xmlns=\"http://www.w3.org/2000/svg\" height=\"24px\"viewBox=\"0 0 24 24\"\n",
              "     width=\"24px\">\n",
              "    <g>\n",
              "        <path d=\"M19 3H5c-1.1 0-2 .9-2 2v14c0 1.1.9 2 2 2h14c1.1 0 2-.9 2-2V5c0-1.1-.9-2-2-2zM9 17H7v-7h2v7zm4 0h-2V7h2v10zm4 0h-2v-4h2v4z\"/>\n",
              "    </g>\n",
              "</svg>\n",
              "  </button>\n",
              "\n",
              "<style>\n",
              "  .colab-df-quickchart {\n",
              "      --bg-color: #E8F0FE;\n",
              "      --fill-color: #1967D2;\n",
              "      --hover-bg-color: #E2EBFA;\n",
              "      --hover-fill-color: #174EA6;\n",
              "      --disabled-fill-color: #AAA;\n",
              "      --disabled-bg-color: #DDD;\n",
              "  }\n",
              "\n",
              "  [theme=dark] .colab-df-quickchart {\n",
              "      --bg-color: #3B4455;\n",
              "      --fill-color: #D2E3FC;\n",
              "      --hover-bg-color: #434B5C;\n",
              "      --hover-fill-color: #FFFFFF;\n",
              "      --disabled-bg-color: #3B4455;\n",
              "      --disabled-fill-color: #666;\n",
              "  }\n",
              "\n",
              "  .colab-df-quickchart {\n",
              "    background-color: var(--bg-color);\n",
              "    border: none;\n",
              "    border-radius: 50%;\n",
              "    cursor: pointer;\n",
              "    display: none;\n",
              "    fill: var(--fill-color);\n",
              "    height: 32px;\n",
              "    padding: 0;\n",
              "    width: 32px;\n",
              "  }\n",
              "\n",
              "  .colab-df-quickchart:hover {\n",
              "    background-color: var(--hover-bg-color);\n",
              "    box-shadow: 0 1px 2px rgba(60, 64, 67, 0.3), 0 1px 3px 1px rgba(60, 64, 67, 0.15);\n",
              "    fill: var(--button-hover-fill-color);\n",
              "  }\n",
              "\n",
              "  .colab-df-quickchart-complete:disabled,\n",
              "  .colab-df-quickchart-complete:disabled:hover {\n",
              "    background-color: var(--disabled-bg-color);\n",
              "    fill: var(--disabled-fill-color);\n",
              "    box-shadow: none;\n",
              "  }\n",
              "\n",
              "  .colab-df-spinner {\n",
              "    border: 2px solid var(--fill-color);\n",
              "    border-color: transparent;\n",
              "    border-bottom-color: var(--fill-color);\n",
              "    animation:\n",
              "      spin 1s steps(1) infinite;\n",
              "  }\n",
              "\n",
              "  @keyframes spin {\n",
              "    0% {\n",
              "      border-color: transparent;\n",
              "      border-bottom-color: var(--fill-color);\n",
              "      border-left-color: var(--fill-color);\n",
              "    }\n",
              "    20% {\n",
              "      border-color: transparent;\n",
              "      border-left-color: var(--fill-color);\n",
              "      border-top-color: var(--fill-color);\n",
              "    }\n",
              "    30% {\n",
              "      border-color: transparent;\n",
              "      border-left-color: var(--fill-color);\n",
              "      border-top-color: var(--fill-color);\n",
              "      border-right-color: var(--fill-color);\n",
              "    }\n",
              "    40% {\n",
              "      border-color: transparent;\n",
              "      border-right-color: var(--fill-color);\n",
              "      border-top-color: var(--fill-color);\n",
              "    }\n",
              "    60% {\n",
              "      border-color: transparent;\n",
              "      border-right-color: var(--fill-color);\n",
              "    }\n",
              "    80% {\n",
              "      border-color: transparent;\n",
              "      border-right-color: var(--fill-color);\n",
              "      border-bottom-color: var(--fill-color);\n",
              "    }\n",
              "    90% {\n",
              "      border-color: transparent;\n",
              "      border-bottom-color: var(--fill-color);\n",
              "    }\n",
              "  }\n",
              "</style>\n",
              "\n",
              "  <script>\n",
              "    async function quickchart(key) {\n",
              "      const quickchartButtonEl =\n",
              "        document.querySelector('#' + key + ' button');\n",
              "      quickchartButtonEl.disabled = true;  // To prevent multiple clicks.\n",
              "      quickchartButtonEl.classList.add('colab-df-spinner');\n",
              "      try {\n",
              "        const charts = await google.colab.kernel.invokeFunction(\n",
              "            'suggestCharts', [key], {});\n",
              "      } catch (error) {\n",
              "        console.error('Error during call to suggestCharts:', error);\n",
              "      }\n",
              "      quickchartButtonEl.classList.remove('colab-df-spinner');\n",
              "      quickchartButtonEl.classList.add('colab-df-quickchart-complete');\n",
              "    }\n",
              "    (() => {\n",
              "      let quickchartButtonEl =\n",
              "        document.querySelector('#df-2bb37f2c-b6d8-4620-bec2-4235b7822d04 button');\n",
              "      quickchartButtonEl.style.display =\n",
              "        google.colab.kernel.accessAllowed ? 'block' : 'none';\n",
              "    })();\n",
              "  </script>\n",
              "</div>\n",
              "\n",
              "    </div>\n",
              "  </div>\n"
            ],
            "application/vnd.google.colaboratory.intrinsic+json": {
              "type": "dataframe",
              "variable_name": "t_corrected",
              "summary": "{\n  \"name\": \"t_corrected\",\n  \"rows\": 16280,\n  \"fields\": [\n    {\n      \"column\": \"age\",\n      \"properties\": {\n        \"dtype\": \"number\",\n        \"std\": 1.00000000000001,\n        \"min\": -1.586939440738322,\n        \"max\": 3.742892379591676,\n        \"num_unique_values\": 72,\n        \"samples\": [\n          -0.7108027031498291,\n          2.428687273208937,\n          -1.2218824667431165\n        ],\n        \"semantic_type\": \"\",\n        \"description\": \"\"\n      }\n    },\n    {\n      \"column\": \"workclass\",\n      \"properties\": {\n        \"dtype\": \"category\",\n        \"num_unique_values\": 9,\n        \"samples\": [\n          \"6\",\n          \"1\",\n          \"?\"\n        ],\n        \"semantic_type\": \"\",\n        \"description\": \"\"\n      }\n    },\n    {\n      \"column\": \"fnlwgt\",\n      \"properties\": {\n        \"dtype\": \"number\",\n        \"std\": 0.9999999999999963,\n        \"min\": -1.682254570005086,\n        \"max\": 12.26662302775663,\n        \"num_unique_values\": 12810,\n        \"samples\": [\n          0.12432032643449066,\n          1.4708556655297589,\n          -1.067826415514092\n        ],\n        \"semantic_type\": \"\",\n        \"description\": \"\"\n      }\n    },\n    {\n      \"column\": \"education\",\n      \"properties\": {\n        \"dtype\": \"number\",\n        \"std\": 3,\n        \"min\": 0,\n        \"max\": 15,\n        \"num_unique_values\": 16,\n        \"samples\": [\n          0,\n          14,\n          2\n        ],\n        \"semantic_type\": \"\",\n        \"description\": \"\"\n      }\n    },\n    {\n      \"column\": \"education-num\",\n      \"properties\": {\n        \"dtype\": \"number\",\n        \"std\": 0.1706255789849163,\n        \"min\": 0.0,\n        \"max\": 1.0,\n        \"num_unique_values\": 16,\n        \"samples\": [\n          0.5333333333333333,\n          0.06666666666666667,\n          0.8\n        ],\n        \"semantic_type\": \"\",\n        \"description\": \"\"\n      }\n    },\n    {\n      \"column\": \"marital-status\",\n      \"properties\": {\n        \"dtype\": \"category\",\n        \"num_unique_values\": 7,\n        \"samples\": [\n          \"Never-married\",\n          \"Widowed\",\n          \"Married-spouse-absent\"\n        ],\n        \"semantic_type\": \"\",\n        \"description\": \"\"\n      }\n    },\n    {\n      \"column\": \"occupation\",\n      \"properties\": {\n        \"dtype\": \"category\",\n        \"num_unique_values\": 15,\n        \"samples\": [\n          \"10\",\n          \"7\",\n          \"6\"\n        ],\n        \"semantic_type\": \"\",\n        \"description\": \"\"\n      }\n    },\n    {\n      \"column\": \"relationship\",\n      \"properties\": {\n        \"dtype\": \"number\",\n        \"std\": 1,\n        \"min\": 0,\n        \"max\": 5,\n        \"num_unique_values\": 6,\n        \"samples\": [\n          1,\n          2,\n          3\n        ],\n        \"semantic_type\": \"\",\n        \"description\": \"\"\n      }\n    },\n    {\n      \"column\": \"race\",\n      \"properties\": {\n        \"dtype\": \"number\",\n        \"std\": 0,\n        \"min\": 0,\n        \"max\": 4,\n        \"num_unique_values\": 5,\n        \"samples\": [\n          1,\n          3,\n          2\n        ],\n        \"semantic_type\": \"\",\n        \"description\": \"\"\n      }\n    },\n    {\n      \"column\": \"sex\",\n      \"properties\": {\n        \"dtype\": \"number\",\n        \"std\": 0,\n        \"min\": 0,\n        \"max\": 1,\n        \"num_unique_values\": 2,\n        \"samples\": [\n          1,\n          0\n        ],\n        \"semantic_type\": \"\",\n        \"description\": \"\"\n      }\n    },\n    {\n      \"column\": \"capital-gain\",\n      \"properties\": {\n        \"dtype\": \"number\",\n        \"std\": 0.9999999999999621,\n        \"min\": -0.14790442625931033,\n        \"max\": 13.155165870306892,\n        \"num_unique_values\": 109,\n        \"samples\": [\n          0.008142148785161656,\n          0.8229633526618803\n        ],\n        \"semantic_type\": \"\",\n        \"description\": \"\"\n      }\n    },\n    {\n      \"column\": \"capital-loss\",\n      \"properties\": {\n        \"dtype\": \"number\",\n        \"std\": 0.9999999999999438,\n        \"min\": -0.22047127202498804,\n        \"max\": 9.398103537612537,\n        \"num_unique_values\": 81,\n        \"samples\": [\n          6.090793583837172,\n          -0.22047127202498804\n        ],\n        \"semantic_type\": \"\",\n        \"description\": \"\"\n      }\n    },\n    {\n      \"column\": \"hours-per-week\",\n      \"properties\": {\n        \"dtype\": \"number\",\n        \"std\": 0.9999999999999334,\n        \"min\": -3.207414769094685,\n        \"max\": 4.75809993646492,\n        \"num_unique_values\": 91,\n        \"samples\": [\n          3.62016926424212,\n          0.287658009875346\n        ],\n        \"semantic_type\": \"\",\n        \"description\": \"\"\n      }\n    },\n    {\n      \"column\": \"native-country\",\n      \"properties\": {\n        \"dtype\": \"category\",\n        \"num_unique_values\": 41,\n        \"samples\": [\n          \"28\",\n          \"16\"\n        ],\n        \"semantic_type\": \"\",\n        \"description\": \"\"\n      }\n    },\n    {\n      \"column\": \"income\",\n      \"properties\": {\n        \"dtype\": \"number\",\n        \"std\": 0,\n        \"min\": 0,\n        \"max\": 1,\n        \"num_unique_values\": 2,\n        \"samples\": [\n          1,\n          0\n        ],\n        \"semantic_type\": \"\",\n        \"description\": \"\"\n      }\n    },\n    {\n      \"column\": \"disc\",\n      \"properties\": {\n        \"dtype\": \"number\",\n        \"std\": 0,\n        \"min\": 0,\n        \"max\": 1,\n        \"num_unique_values\": 2,\n        \"samples\": [\n          1,\n          0\n        ],\n        \"semantic_type\": \"\",\n        \"description\": \"\"\n      }\n    }\n  ]\n}"
            }
          },
          "metadata": {},
          "execution_count": 92
        }
      ]
    },
    {
      "cell_type": "markdown",
      "source": [
        "## ***Data Preprocessing for Classification***\n",
        "\n"
      ],
      "metadata": {
        "id": "y16Ml9dUDADs"
      }
    },
    {
      "cell_type": "code",
      "source": [
        "# For classification, drop missing values from t-labeled and t-corrected dataset.\n",
        "\n",
        "t_labeled_new = t_labeled.drop(t_labeled[t_labeled['workclass'] == '?'].index)\n",
        "t_labeled_new = t_labeled_new.drop(t_labeled_new[t_labeled_new['occupation'] == '?'].index)\n",
        "t_labeled_new = t_labeled_new.drop(t_labeled_new[t_labeled_new['native-country'] == '?'].index)\n",
        "\n",
        "t_corrected_new = t_corrected.drop(t_corrected[t_corrected['workclass'] == '?'].index)\n",
        "t_corrected_new = t_corrected_new.drop(t_corrected_new[t_corrected_new['occupation'] == '?'].index)\n",
        "t_corrected_new = t_corrected_new.drop(t_corrected_new[t_corrected_new['native-country'] == '?'].index)"
      ],
      "metadata": {
        "id": "LeFWMhVTC8vr"
      },
      "execution_count": 93,
      "outputs": []
    },
    {
      "cell_type": "code",
      "source": [
        "# Drop NaN values from t-labeled and t-corrected dataset.\n",
        "\n",
        "t_labeled_clean = t_labeled_new.dropna(ignore_index=True)\n",
        "t_corrected_clean = t_corrected_new.dropna(ignore_index=True)"
      ],
      "metadata": {
        "id": "YrzcGUy0DB1R"
      },
      "execution_count": 94,
      "outputs": []
    },
    {
      "cell_type": "code",
      "source": [
        "# Convert the dataype of encoded columns from object to int.\n",
        "\n",
        "convert_dtype = {'workclass': int, 'occupation': int, 'native-country': int}\n",
        "\n",
        "t_labeled_clean = t_labeled_clean.astype(convert_dtype)\n",
        "t_corrected_clean = t_corrected_clean.astype(convert_dtype)"
      ],
      "metadata": {
        "id": "tNu7NqyPDCyD"
      },
      "execution_count": 95,
      "outputs": []
    },
    {
      "cell_type": "code",
      "source": [
        "print('Cleaned t-labeled dataset shape : ', t_labeled_clean.shape)\n",
        "print('Cleaned t-corrected dataset shape : ', t_corrected_clean.shape)"
      ],
      "metadata": {
        "colab": {
          "base_uri": "https://localhost:8080/"
        },
        "id": "UQp12BnZDEiH",
        "outputId": "8edb6378-f031-40b2-ca44-b64849c73925"
      },
      "execution_count": 96,
      "outputs": [
        {
          "output_type": "stream",
          "name": "stdout",
          "text": [
            "Cleaned t-labeled dataset shape :  (15037, 16)\n",
            "Cleaned t-corrected dataset shape :  (15037, 16)\n"
          ]
        }
      ]
    },
    {
      "cell_type": "code",
      "source": [
        "# Train-test split of t-labeled and t-corrected dataset.\n",
        "\n",
        "y = t_labeled_clean['disc']\n",
        "\n",
        "final_tlab = t_labeled_clean.copy()\n",
        "final_tcor = t_corrected_clean.copy()\n",
        "\n",
        "tlab_X_train, tlab_X_test, tlab_y_train, tlab_y_test = train_test_split(final_tlab, y, test_size=0.3, random_state=42)\n",
        "tcor_X_train, tcor_X_test, tcor_y_train, tcor_y_test = train_test_split(final_tcor, y, test_size=0.3, random_state=42)"
      ],
      "metadata": {
        "id": "OO2ET_WpDGVK"
      },
      "execution_count": 97,
      "outputs": []
    },
    {
      "cell_type": "code",
      "source": [
        "# Set of legally-grounded attributes.\n",
        "\n",
        "G = ['age', 'workclass', 'fnlwgt', 'education', 'education-num',\n",
        "      'occupation', 'relationship', 'race','sex',\n",
        "     'capital-gain', 'capital-loss', 'hours-per-week', 'native-country','income']"
      ],
      "metadata": {
        "id": "e-hqd0U0DHc6"
      },
      "execution_count": 98,
      "outputs": []
    },
    {
      "cell_type": "code",
      "source": [
        "# Project the train and test data on the set of G attributes.\n",
        "\n",
        "tlab_X_train_proj = tlab_X_train[G]\n",
        "tlab_X_test_proj = tlab_X_test[G]\n",
        "tcor_X_train_proj = tcor_X_train[G]\n",
        "tcor_X_test_proj = tcor_X_test[G]"
      ],
      "metadata": {
        "id": "sJwbQP_SDLwg"
      },
      "execution_count": 99,
      "outputs": []
    },
    {
      "cell_type": "markdown",
      "source": [
        "## ***Classification***"
      ],
      "metadata": {
        "id": "3Eh0iY0LDP-q"
      }
    },
    {
      "cell_type": "markdown",
      "source": [
        "### 1. Naive Bayes Classifier"
      ],
      "metadata": {
        "id": "zaQXWfPPDSN9"
      }
    },
    {
      "cell_type": "code",
      "source": [
        "# Naive bayes classification on t_labeled dataset.\n",
        "\n",
        "from sklearn.naive_bayes import GaussianNB\n",
        "from sklearn import metrics\n",
        "\n",
        "gnb_tlab = GaussianNB()\n",
        "gnb_tlab.fit(tlab_X_train_proj, tlab_y_train)\n",
        "\n",
        "gnb_tlab_y_pred = gnb_tlab.predict(tlab_X_test_proj)\n",
        "gnb_tlab_accuracy = metrics.accuracy_score(tlab_y_test, gnb_tlab_y_pred)\n",
        "\n",
        "print(\"Naive Bayes accuracy (T-labeled dataset) : \", round(gnb_tlab_accuracy*100,2), \"%\")"
      ],
      "metadata": {
        "colab": {
          "base_uri": "https://localhost:8080/"
        },
        "id": "jlA-loG3DPhY",
        "outputId": "11360cee-bbc3-46a1-f72f-cd5bf79ea29f"
      },
      "execution_count": 100,
      "outputs": [
        {
          "output_type": "stream",
          "name": "stdout",
          "text": [
            "Naive Bayes accuracy (T-labeled dataset) :  32.25 %\n"
          ]
        }
      ]
    },
    {
      "cell_type": "code",
      "source": [
        "# Function implementation of 0.10-discrimination.\n",
        "\n",
        "def disc_0_10(D, k, y_pred, t,interval_attr,nominal_attr,ordinal_attr):\n",
        "  k1_test, k2_test = knn(R=D,k=k,interval_attr=interval_attr,nominal_attr=nominal_attr,ordinal_attr=ordinal_attr)\n",
        "  bias_test = bias_calc(R=D,k=k,K1=k1_test,K2=k2_test,dec=0)\n",
        "  frac = 0\n",
        "  total_pr = 0\n",
        "  j=0\n",
        "  for i in D.index.tolist():\n",
        "    if D.loc[i,'marital-status'] in ['Divorced', 'Separated', 'Widowed']:\n",
        "      if y_pred[j] == 1 and bias_test[total_pr] >= t:\n",
        "        frac += 1\n",
        "      total_pr += 1\n",
        "    j+=1\n",
        "  prop = frac/total_pr\n",
        "  return prop"
      ],
      "metadata": {
        "id": "RdXpCoBDDVoq"
      },
      "execution_count": 101,
      "outputs": []
    },
    {
      "cell_type": "code",
      "source": [
        "# Calculate the 0.10 discrimination for t-labeled dataset.\n",
        "\n",
        "tlab_0_10_discr = disc_0_10(D = tlab_X_test, k = 32, y_pred = gnb_tlab_y_pred, t = 0.10,\n",
        "                            interval_attr = interval_attr, nominal_attr = nominal_attr, ordinal_attr = ordinal_attr)\n",
        "\n",
        "print('0.10-discrimination for t-labeled dataset: ', round(tlab_0_10_discr*100,2), \"%\")"
      ],
      "metadata": {
        "colab": {
          "base_uri": "https://localhost:8080/"
        },
        "id": "T1vPYuCNDW96",
        "outputId": "83ade45a-4587-45a9-a4fa-5e7a677c021c"
      },
      "execution_count": 102,
      "outputs": [
        {
          "output_type": "stream",
          "name": "stdout",
          "text": [
            "0.10-discrimination for t-labeled dataset:  14.51 %\n"
          ]
        }
      ]
    },
    {
      "cell_type": "code",
      "source": [
        "# Naive bayes classification on t_corrected dataset.\n",
        "\n",
        "gnb_tcor = GaussianNB()\n",
        "gnb_tcor.fit(tcor_X_train_proj, tcor_y_train)\n",
        "\n",
        "gnb_tcor_y_pred = gnb_tcor.predict(tcor_X_test_proj)\n",
        "gnb_tcor_accuracy = metrics.accuracy_score(tcor_y_test, gnb_tcor_y_pred)\n",
        "\n",
        "print(\"Naive Bayes accuracy: \", round(gnb_tcor_accuracy*100,2),\"%\")"
      ],
      "metadata": {
        "colab": {
          "base_uri": "https://localhost:8080/"
        },
        "id": "gZSmlHz_DY5g",
        "outputId": "9668a2f3-4c4f-457b-c284-b3f237995846"
      },
      "execution_count": 103,
      "outputs": [
        {
          "output_type": "stream",
          "name": "stdout",
          "text": [
            "Naive Bayes accuracy:  80.67 %\n"
          ]
        }
      ]
    },
    {
      "cell_type": "code",
      "source": [
        "# Calculate the 0.10 discrimination for t-corrected dataset.\n",
        "\n",
        "tcor_0_10_discr = disc_0_10(D=tcor_X_test, k = 32, y_pred = gnb_tcor_y_pred, t = 0.10, \\\n",
        "                            interval_attr=interval_attr,nominal_attr=nominal_attr,ordinal_attr=ordinal_attr)\n",
        "\n",
        "print('0.10-discrimination for t-corrected dataset: ', round(tcor_0_10_discr*100,2),\"%\")"
      ],
      "metadata": {
        "colab": {
          "base_uri": "https://localhost:8080/"
        },
        "id": "bYvRF_3yDoV4",
        "outputId": "156d9e78-0389-4979-9664-288f6e355db0"
      },
      "execution_count": 104,
      "outputs": [
        {
          "output_type": "stream",
          "name": "stdout",
          "text": [
            "0.10-discrimination for t-corrected dataset:  3.45 %\n"
          ]
        }
      ]
    },
    {
      "cell_type": "markdown",
      "source": [
        "### 2. Logistic Regression Classifier"
      ],
      "metadata": {
        "id": "Vd1CGSVFDraQ"
      }
    },
    {
      "cell_type": "code",
      "source": [
        "# Logistic regression classification on t_labeled dataset.\n",
        "\n",
        "from sklearn.linear_model import LogisticRegression\n",
        "\n",
        "tlab_log = LogisticRegression()\n",
        "tlab_log.fit(tlab_X_train_proj, tlab_y_train)\n",
        "\n",
        "log_tlab_y_pred = tlab_log.predict(tlab_X_test_proj)\n",
        "log_tlab_accuracy = metrics.accuracy_score(tlab_y_test, log_tlab_y_pred)\n",
        "\n",
        "print(\"Logistic Regression accuracy (T-labeled dataset): \", round(log_tlab_accuracy*100,2),\"%\")"
      ],
      "metadata": {
        "colab": {
          "base_uri": "https://localhost:8080/"
        },
        "id": "MCQU4LGiDpek",
        "outputId": "bc932637-75df-43fe-9ba8-96fc12d139c7"
      },
      "execution_count": 105,
      "outputs": [
        {
          "output_type": "stream",
          "name": "stdout",
          "text": [
            "Logistic Regression accuracy (T-labeled dataset):  96.99 %\n"
          ]
        }
      ]
    },
    {
      "cell_type": "code",
      "source": [
        "# Calculate the 0.10 discrimination for t_labeled dataset.\n",
        "\n",
        "log_tlab_0_10_discr = disc_0_10(D=tlab_X_test, k = 16, y_pred = log_tlab_y_pred, t = 0.10, \\\n",
        "                            interval_attr=interval_attr,nominal_attr=nominal_attr,ordinal_attr=ordinal_attr)\n",
        "\n",
        "print('0.10-discrimination for t-labeled dataset: ', round(log_tlab_0_10_discr*100,2),\"%\")"
      ],
      "metadata": {
        "colab": {
          "base_uri": "https://localhost:8080/"
        },
        "id": "rbw81KaPDtet",
        "outputId": "6bfc65f7-4b8f-4cd5-eb25-8fa4eb34a04d"
      },
      "execution_count": 106,
      "outputs": [
        {
          "output_type": "stream",
          "name": "stdout",
          "text": [
            "0.10-discrimination for t-labeled dataset:  0.0 %\n"
          ]
        }
      ]
    },
    {
      "cell_type": "code",
      "source": [
        "# Logistic regression classification on t_corrected dataset.\n",
        "\n",
        "tcor_log = LogisticRegression()\n",
        "tcor_log.fit(tcor_X_train_proj, tcor_y_train)\n",
        "\n",
        "log_tcor_y_pred = tcor_log.predict(tcor_X_test_proj)\n",
        "log_tcor_accuracy = metrics.accuracy_score(tcor_y_test, log_tcor_y_pred)\n",
        "\n",
        "print(\"Logistic Regression accuracy (T-corrected dataset): \", round(log_tcor_accuracy*100,2),\"%\")"
      ],
      "metadata": {
        "colab": {
          "base_uri": "https://localhost:8080/"
        },
        "id": "Kp7wzHtxDvId",
        "outputId": "d2bfdecd-479b-4ee6-8d0a-d57760edd515"
      },
      "execution_count": 107,
      "outputs": [
        {
          "output_type": "stream",
          "name": "stdout",
          "text": [
            "Logistic Regression accuracy (T-corrected dataset):  98.05 %\n"
          ]
        }
      ]
    },
    {
      "cell_type": "code",
      "source": [
        "# Calculate the 0.10 discrimination for t_corrected dataset.\n",
        "\n",
        "log_tcor_0_10_discr = disc_0_10(D=tcor_X_test, k = 16, y_pred = log_tcor_y_pred, t = 0.10, \\\n",
        "                            interval_attr=interval_attr,nominal_attr=nominal_attr,ordinal_attr=ordinal_attr)\n",
        "\n",
        "print('0.10-discrimination for t-labeled dataset: ', round(log_tcor_0_10_discr*100,2),\"%\")"
      ],
      "metadata": {
        "colab": {
          "base_uri": "https://localhost:8080/"
        },
        "id": "QbDk3ufPDxAk",
        "outputId": "959bf91f-451c-4609-9a57-fb17f5ed0277"
      },
      "execution_count": 108,
      "outputs": [
        {
          "output_type": "stream",
          "name": "stdout",
          "text": [
            "0.10-discrimination for t-labeled dataset:  2.14 %\n"
          ]
        }
      ]
    },
    {
      "cell_type": "markdown",
      "source": [
        "### 3. Decision Tree Classifier"
      ],
      "metadata": {
        "id": "v9fg9llvDzij"
      }
    },
    {
      "cell_type": "code",
      "source": [
        "# Decision Trees classification for t-labeled dataset.\n",
        "\n",
        "from sklearn.tree import DecisionTreeClassifier\n",
        "\n",
        "tlab_dt = DecisionTreeClassifier(criterion=\"entropy\", random_state=42)\n",
        "tlab_dt.fit(tlab_X_train_proj, tlab_y_train)\n",
        "\n",
        "dt_tlab_y_pred = tlab_dt.predict(tlab_X_test_proj)\n",
        "dt_tlab_accuracy = metrics.accuracy_score(tlab_y_test, dt_tlab_y_pred)\n",
        "\n",
        "print(\"Decision accuracy (T-labeled dataset): \", round(dt_tlab_accuracy*100,2),\"%\")"
      ],
      "metadata": {
        "colab": {
          "base_uri": "https://localhost:8080/"
        },
        "id": "prJuo3sRDyY_",
        "outputId": "ee85ff95-bc4d-4e59-8f0e-716b8db622b1"
      },
      "execution_count": 109,
      "outputs": [
        {
          "output_type": "stream",
          "name": "stdout",
          "text": [
            "Decision accuracy (T-labeled dataset):  95.08 %\n"
          ]
        }
      ]
    },
    {
      "cell_type": "code",
      "source": [
        "# Calculate the 0.10 discrimination for t_labeled dataset.\n",
        "\n",
        "dt_tlab_0_10_discr = disc_0_10(D=tlab_X_test, k = 16, y_pred = dt_tlab_y_pred, t = 0.10, \\\n",
        "                            interval_attr=interval_attr,nominal_attr=nominal_attr,ordinal_attr=ordinal_attr)\n",
        "\n",
        "print('0.10-discrimination for t-labeled dataset: ', round(dt_tlab_0_10_discr*100,2),\"%\")"
      ],
      "metadata": {
        "colab": {
          "base_uri": "https://localhost:8080/"
        },
        "id": "LbztG3vCD22K",
        "outputId": "9007f02f-ad4e-44f3-f8f2-44ebb4ed83c2"
      },
      "execution_count": 110,
      "outputs": [
        {
          "output_type": "stream",
          "name": "stdout",
          "text": [
            "0.10-discrimination for t-labeled dataset:  2.62 %\n"
          ]
        }
      ]
    },
    {
      "cell_type": "code",
      "source": [
        "# Decision Trees classification for t_corrected dataset.\n",
        "\n",
        "tcor_dt = DecisionTreeClassifier(criterion=\"entropy\", random_state=42)\n",
        "tcor_dt.fit(tcor_X_train_proj, tcor_y_train)\n",
        "\n",
        "dt_tcor_y_pred = tcor_dt.predict(tcor_X_test_proj)\n",
        "dt_tcor_accuracy = metrics.accuracy_score(tcor_y_test, dt_tcor_y_pred)\n",
        "\n",
        "print(\"Decision accuracy (T-corrected dataset): \", round(dt_tcor_accuracy*100,2),\"%\")"
      ],
      "metadata": {
        "colab": {
          "base_uri": "https://localhost:8080/"
        },
        "id": "rFhSiOE5D4Hp",
        "outputId": "38b994dc-c169-45e9-81bc-42e0ebb27bed"
      },
      "execution_count": 111,
      "outputs": [
        {
          "output_type": "stream",
          "name": "stdout",
          "text": [
            "Decision accuracy (T-corrected dataset):  98.89 %\n"
          ]
        }
      ]
    },
    {
      "cell_type": "code",
      "source": [
        "# Calculate the 0.10 discrimination for t_corrected dataset.\n",
        "\n",
        "dt_tcor_0_10_discr = disc_0_10(D=tcor_X_test, k = 16, y_pred = dt_tcor_y_pred, t = 0.10, \\\n",
        "                            interval_attr=interval_attr,nominal_attr=nominal_attr,ordinal_attr=ordinal_attr)\n",
        "\n",
        "print('0.10-discrimination for t-corrected dataset: ', round(dt_tcor_0_10_discr*100,2),\"%\")"
      ],
      "metadata": {
        "colab": {
          "base_uri": "https://localhost:8080/"
        },
        "id": "PgE7kPPyD5lQ",
        "outputId": "af3e2da4-965a-4f4b-ffdf-151dd2ba7dc1"
      },
      "execution_count": 112,
      "outputs": [
        {
          "output_type": "stream",
          "name": "stdout",
          "text": [
            "0.10-discrimination for t-corrected dataset:  4.28 %\n"
          ]
        }
      ]
    }
  ]
}